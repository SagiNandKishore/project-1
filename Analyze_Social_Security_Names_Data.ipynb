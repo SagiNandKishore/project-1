{
 "cells": [
  {
   "cell_type": "code",
   "execution_count": 1,
   "metadata": {},
   "outputs": [],
   "source": [
    "import csv\n",
    "import pandas as pd\n",
    "import matplotlib.pyplot as plt\n",
    "import numpy as np\n",
    "import os"
   ]
  },
  {
   "cell_type": "code",
   "execution_count": 24,
   "metadata": {},
   "outputs": [
    {
     "data": {
      "text/plain": [
       "Name      15065736\n",
       "Gender    15065736\n",
       "Year      15065736\n",
       "dtype: int64"
      ]
     },
     "execution_count": 24,
     "metadata": {},
     "output_type": "execute_result"
    }
   ],
   "source": [
    "#names_df = pd.read_csv(\"Resources/yob1978.txt\", delimiter =\",\", names=[\"Name\", \"Gender\", \"YearOfBirth\"],dtype={\"Name\":\"str\",\"Gender\":\"str\", \"YearOfBirth\":np.int32})\n",
    "\n",
    "start_year=1881\n",
    "end_year=2019\n",
    "yearlist= list(range(start_year,end_year,1))\n",
    "#print(yearlist)\n",
    "year_df=pd.DataFrame(yearlist)\n",
    "year_df[\"dummy_col\"]=1\n",
    "year_df.set_index(\"dummy_col\", inplace=True)\n",
    "filename_list=[]\n",
    "for file in os.listdir(\"Resources\"):\n",
    "    if file.endswith(\".txt\") and int(file[3:7]) >= start_year:\n",
    "        df =  pd.read_csv(\"Resources/\"+file, delimiter =\",\", names=[\"Name\", \"Gender\", \"CountOfNames\"],dtype={\"Name\":\"str\",\"Gender\":\"str\", \"CountOfNames\":np.int32})\n",
    "        df[\"Year\"] = int(file[3:7])\n",
    "        \n",
    "        df = df[[\"Year\", \"Name\", \"Gender\", \"CountOfNames\"]]\n",
    "        filename_list.append(df)\n",
    "        \n",
    "names_df = pd.concat(filename_list, axis=0, ignore_index=True)\n",
    "names_df.sort_values(by=[\"Name\",\"Gender\",\"Year\"], inplace=True)\n",
    "unique_names_list = names_df.drop_duplicates(subset=[\"Name\", \"Gender\"])[[\"Name\", \"Gender\"]]\n",
    "unique_names_list[\"dummy_col\"]=1\n",
    "unique_names_list.set_index(\"dummy_col\", inplace=True)\n",
    "\n",
    "final_data_set = unique_names_list.join(year_df,on=\"dummy_col\",how = \"outer\")\n",
    "final_data_set.count()\n",
    "final_data_set.rename(columns={0:\"Year\"}, inplace=True)\n",
    "final_data_set.count()"
   ]
  },
  {
   "cell_type": "code",
   "execution_count": 56,
   "metadata": {},
   "outputs": [
    {
     "data": {
      "text/plain": [
       "Name      15065736\n",
       "Gender    15065736\n",
       "Year      15065736\n",
       "dtype: int64"
      ]
     },
     "execution_count": 56,
     "metadata": {},
     "output_type": "execute_result"
    }
   ],
   "source": [
    "### We have a dataset with entries for all names for all years of analysis. \n",
    "### We need to now update the counts of each row with the actual values.\n",
    "\n",
    "data_set_with_counts = final_data_set.merge(names_df, on=[\"Name\", \"Gender\", \"Year\"], how = \"outer\")\n",
    "data_set_with_counts.fillna(0, inplace = True)\n",
    "data_set_with_counts[\"Percent_Change\"] = data_set_with_counts[\"CountOfNames\"].pct_change() * 100\n",
    "final_data_set.count()"
   ]
  },
  {
   "cell_type": "code",
   "execution_count": 57,
   "metadata": {},
   "outputs": [
    {
     "data": {
      "text/plain": [
       "Name              15065736\n",
       "Gender            15065736\n",
       "Year              15065736\n",
       "CountOfNames      15065736\n",
       "Percent_Change     2353284\n",
       "dtype: int64"
      ]
     },
     "execution_count": 57,
     "metadata": {},
     "output_type": "execute_result"
    }
   ],
   "source": [
    "data_set_with_counts.count()"
   ]
  },
  {
   "cell_type": "code",
   "execution_count": 58,
   "metadata": {},
   "outputs": [
    {
     "data": {
      "text/html": [
       "<div>\n",
       "<style scoped>\n",
       "    .dataframe tbody tr th:only-of-type {\n",
       "        vertical-align: middle;\n",
       "    }\n",
       "\n",
       "    .dataframe tbody tr th {\n",
       "        vertical-align: top;\n",
       "    }\n",
       "\n",
       "    .dataframe thead th {\n",
       "        text-align: right;\n",
       "    }\n",
       "</style>\n",
       "<table border=\"1\" class=\"dataframe\">\n",
       "  <thead>\n",
       "    <tr style=\"text-align: right;\">\n",
       "      <th></th>\n",
       "      <th>Year</th>\n",
       "      <th>Name</th>\n",
       "      <th>Gender</th>\n",
       "      <th>CountOfNames</th>\n",
       "    </tr>\n",
       "  </thead>\n",
       "  <tbody>\n",
       "    <tr>\n",
       "      <th>1584216</th>\n",
       "      <td>2007</td>\n",
       "      <td>Aaban</td>\n",
       "      <td>M</td>\n",
       "      <td>5</td>\n",
       "    </tr>\n",
       "    <tr>\n",
       "      <th>1652500</th>\n",
       "      <td>2009</td>\n",
       "      <td>Aaban</td>\n",
       "      <td>M</td>\n",
       "      <td>6</td>\n",
       "    </tr>\n",
       "    <tr>\n",
       "      <th>1683983</th>\n",
       "      <td>2010</td>\n",
       "      <td>Aaban</td>\n",
       "      <td>M</td>\n",
       "      <td>9</td>\n",
       "    </tr>\n",
       "    <tr>\n",
       "      <th>1716670</th>\n",
       "      <td>2011</td>\n",
       "      <td>Aaban</td>\n",
       "      <td>M</td>\n",
       "      <td>11</td>\n",
       "    </tr>\n",
       "    <tr>\n",
       "      <th>1750571</th>\n",
       "      <td>2012</td>\n",
       "      <td>Aaban</td>\n",
       "      <td>M</td>\n",
       "      <td>11</td>\n",
       "    </tr>\n",
       "  </tbody>\n",
       "</table>\n",
       "</div>"
      ],
      "text/plain": [
       "         Year   Name Gender  CountOfNames\n",
       "1584216  2007  Aaban      M             5\n",
       "1652500  2009  Aaban      M             6\n",
       "1683983  2010  Aaban      M             9\n",
       "1716670  2011  Aaban      M            11\n",
       "1750571  2012  Aaban      M            11"
      ]
     },
     "execution_count": 58,
     "metadata": {},
     "output_type": "execute_result"
    }
   ],
   "source": [
    "names_df.head(5)"
   ]
  },
  {
   "cell_type": "code",
   "execution_count": 59,
   "metadata": {},
   "outputs": [
    {
     "data": {
      "text/html": [
       "<div>\n",
       "<style scoped>\n",
       "    .dataframe tbody tr th:only-of-type {\n",
       "        vertical-align: middle;\n",
       "    }\n",
       "\n",
       "    .dataframe tbody tr th {\n",
       "        vertical-align: top;\n",
       "    }\n",
       "\n",
       "    .dataframe thead th {\n",
       "        text-align: right;\n",
       "    }\n",
       "</style>\n",
       "<table border=\"1\" class=\"dataframe\">\n",
       "  <thead>\n",
       "    <tr style=\"text-align: right;\">\n",
       "      <th></th>\n",
       "      <th>Name</th>\n",
       "      <th>Gender</th>\n",
       "      <th>Year</th>\n",
       "      <th>CountOfNames</th>\n",
       "      <th>Percent_Change</th>\n",
       "    </tr>\n",
       "  </thead>\n",
       "  <tbody>\n",
       "    <tr>\n",
       "      <th>124</th>\n",
       "      <td>Aaban</td>\n",
       "      <td>M</td>\n",
       "      <td>2005</td>\n",
       "      <td>0.0</td>\n",
       "      <td>NaN</td>\n",
       "    </tr>\n",
       "    <tr>\n",
       "      <th>125</th>\n",
       "      <td>Aaban</td>\n",
       "      <td>M</td>\n",
       "      <td>2006</td>\n",
       "      <td>0.0</td>\n",
       "      <td>NaN</td>\n",
       "    </tr>\n",
       "    <tr>\n",
       "      <th>126</th>\n",
       "      <td>Aaban</td>\n",
       "      <td>M</td>\n",
       "      <td>2007</td>\n",
       "      <td>5.0</td>\n",
       "      <td>inf</td>\n",
       "    </tr>\n",
       "    <tr>\n",
       "      <th>127</th>\n",
       "      <td>Aaban</td>\n",
       "      <td>M</td>\n",
       "      <td>2008</td>\n",
       "      <td>0.0</td>\n",
       "      <td>-100.000000</td>\n",
       "    </tr>\n",
       "    <tr>\n",
       "      <th>128</th>\n",
       "      <td>Aaban</td>\n",
       "      <td>M</td>\n",
       "      <td>2009</td>\n",
       "      <td>6.0</td>\n",
       "      <td>inf</td>\n",
       "    </tr>\n",
       "    <tr>\n",
       "      <th>129</th>\n",
       "      <td>Aaban</td>\n",
       "      <td>M</td>\n",
       "      <td>2010</td>\n",
       "      <td>9.0</td>\n",
       "      <td>50.000000</td>\n",
       "    </tr>\n",
       "    <tr>\n",
       "      <th>130</th>\n",
       "      <td>Aaban</td>\n",
       "      <td>M</td>\n",
       "      <td>2011</td>\n",
       "      <td>11.0</td>\n",
       "      <td>22.222222</td>\n",
       "    </tr>\n",
       "    <tr>\n",
       "      <th>131</th>\n",
       "      <td>Aaban</td>\n",
       "      <td>M</td>\n",
       "      <td>2012</td>\n",
       "      <td>11.0</td>\n",
       "      <td>0.000000</td>\n",
       "    </tr>\n",
       "    <tr>\n",
       "      <th>132</th>\n",
       "      <td>Aaban</td>\n",
       "      <td>M</td>\n",
       "      <td>2013</td>\n",
       "      <td>14.0</td>\n",
       "      <td>27.272727</td>\n",
       "    </tr>\n",
       "    <tr>\n",
       "      <th>133</th>\n",
       "      <td>Aaban</td>\n",
       "      <td>M</td>\n",
       "      <td>2014</td>\n",
       "      <td>16.0</td>\n",
       "      <td>14.285714</td>\n",
       "    </tr>\n",
       "    <tr>\n",
       "      <th>134</th>\n",
       "      <td>Aaban</td>\n",
       "      <td>M</td>\n",
       "      <td>2015</td>\n",
       "      <td>15.0</td>\n",
       "      <td>-6.250000</td>\n",
       "    </tr>\n",
       "    <tr>\n",
       "      <th>135</th>\n",
       "      <td>Aaban</td>\n",
       "      <td>M</td>\n",
       "      <td>2016</td>\n",
       "      <td>9.0</td>\n",
       "      <td>-40.000000</td>\n",
       "    </tr>\n",
       "    <tr>\n",
       "      <th>136</th>\n",
       "      <td>Aaban</td>\n",
       "      <td>M</td>\n",
       "      <td>2017</td>\n",
       "      <td>11.0</td>\n",
       "      <td>22.222222</td>\n",
       "    </tr>\n",
       "    <tr>\n",
       "      <th>137</th>\n",
       "      <td>Aaban</td>\n",
       "      <td>M</td>\n",
       "      <td>2018</td>\n",
       "      <td>7.0</td>\n",
       "      <td>-36.363636</td>\n",
       "    </tr>\n",
       "  </tbody>\n",
       "</table>\n",
       "</div>"
      ],
      "text/plain": [
       "      Name Gender  Year  CountOfNames  Percent_Change\n",
       "124  Aaban      M  2005           0.0             NaN\n",
       "125  Aaban      M  2006           0.0             NaN\n",
       "126  Aaban      M  2007           5.0             inf\n",
       "127  Aaban      M  2008           0.0     -100.000000\n",
       "128  Aaban      M  2009           6.0             inf\n",
       "129  Aaban      M  2010           9.0       50.000000\n",
       "130  Aaban      M  2011          11.0       22.222222\n",
       "131  Aaban      M  2012          11.0        0.000000\n",
       "132  Aaban      M  2013          14.0       27.272727\n",
       "133  Aaban      M  2014          16.0       14.285714\n",
       "134  Aaban      M  2015          15.0       -6.250000\n",
       "135  Aaban      M  2016           9.0      -40.000000\n",
       "136  Aaban      M  2017          11.0       22.222222\n",
       "137  Aaban      M  2018           7.0      -36.363636"
      ]
     },
     "execution_count": 59,
     "metadata": {},
     "output_type": "execute_result"
    }
   ],
   "source": [
    "data_set_with_counts.loc[(data_set_with_counts[\"Name\"] ==\"Aaban\") & (data_set_with_counts[\"Year\"]>= 2005)]"
   ]
  },
  {
   "cell_type": "code",
   "execution_count": 61,
   "metadata": {},
   "outputs": [],
   "source": [
    "# line plot function\n",
    "def getPlot(name,gender,center):\n",
    "    # get a dataframe for just that name and gender\n",
    "    plot_df = data_set_with_counts.loc[(names_df['Name']==name) & (names_df['Gender']==gender) ]\n",
    "    \n",
    "    # set the series to plot\n",
    "    x_axis = plot_df['Year']\n",
    "    values = plot_df['CountOfNames']\n",
    "    # create the plot\n",
    "    plt.figure(figsize=[15,5])\n",
    "    plt.plot(x_axis,values,color = 'coral',marker = 'o')\n",
    "    \n",
    "    # set the axes limits and ticks\n",
    "    plt.ylim(0,max(values)*1.05)\n",
    "    plt.xlim(center-30,center+30)\n",
    "    plt.xticks(np.arange(center-30,center+30,10))\n",
    "    # draw a horizontal line at the center\n",
    "    plt.vlines(center,0,max(values)*1.05, color = 'blue')\n",
    "    \n",
    "    # other chart elements\n",
    "    plt.title(f'Popularity of \"{name}\" ({gender})')\n",
    "    plt.ylabel('Count')\n",
    "    plt.xlabel('Year')\n",
    "    plt.grid()\n",
    "    plt.savefig(f'plots/{name}-{gender}.png', dpi=600)"
   ]
  },
  {
   "cell_type": "code",
   "execution_count": 62,
   "metadata": {},
   "outputs": [],
   "source": [
    "def getPlot2(name,gender,center):\n",
    "    # get a dataframe for that year and gender\n",
    "    plot_df = data_set_with_counts.loc[(data_set_with_counts['Year']==center) & (data_set_with_counts['Gender']==gender)]\n",
    "    plot_df1 = data_set_with_counts.loc[(sorted_df['Year']==center) & (sorted_df['Gender']==gender) & (sorted_df['Name']==name)]\n",
    "\n",
    "    # set the series to plot\n",
    "    x_axis = plot_df['CountOfNames']\n",
    "    values = plot_df['Percentage_Change']\n",
    "    x_focus = plot_df1['CountOfNames']\n",
    "    value_focus = plot_df1['Percentage_Change']\n",
    "    \n",
    "    # create the plot\n",
    "    plt.figure(figsize=[15,5])\n",
    "    plot1 = plt.scatter(x_axis,values,color = 'coral',marker = 'o')\n",
    "    Plot2 = plt.scatter(x_focus,value_focus, color = 'blue',marker = 's')\n",
    "\n",
    "    # other chart elements\n",
    "    plt.title(f'Popularity of \"{name}\" ({gender}) in {center}')\n",
    "    plt.ylabel('Pct Change from Prior Year')\n",
    "    plt.xlabel('Count')\n",
    "    plt.xlim(0,20000)\n",
    "    plt.grid()\n",
    "    #plt.savefig(f'plots/{name}-{gender}.png', dpi=600)"
   ]
  },
  {
   "cell_type": "code",
   "execution_count": 63,
   "metadata": {},
   "outputs": [
    {
     "name": "stdout",
     "output_type": "stream",
     "text": [
      "Name? >>> Aaban\n",
      "Gender? M/F >>> M\n",
      "Year? >>> 2008\n"
     ]
    }
   ],
   "source": [
    "name = input('Name? >>> ')\n",
    "gender = input('Gender? M/F >>> ')\n",
    "center = int(input('Year? >>> '))"
   ]
  },
  {
   "cell_type": "code",
   "execution_count": 64,
   "metadata": {},
   "outputs": [
    {
     "ename": "IndexingError",
     "evalue": "Unalignable boolean Series provided as indexer (index of the boolean Series and of the indexed object do not match",
     "output_type": "error",
     "traceback": [
      "\u001b[1;31m---------------------------------------------------------------------------\u001b[0m",
      "\u001b[1;31mIndexingError\u001b[0m                             Traceback (most recent call last)",
      "\u001b[1;32m<ipython-input-64-14108b54629d>\u001b[0m in \u001b[0;36m<module>\u001b[1;34m\u001b[0m\n\u001b[1;32m----> 1\u001b[1;33m \u001b[0mgetPlot\u001b[0m\u001b[1;33m(\u001b[0m\u001b[0mname\u001b[0m\u001b[1;33m,\u001b[0m\u001b[0mgender\u001b[0m\u001b[1;33m,\u001b[0m\u001b[0mcenter\u001b[0m\u001b[1;33m)\u001b[0m\u001b[1;33m\u001b[0m\u001b[1;33m\u001b[0m\u001b[0m\n\u001b[0m",
      "\u001b[1;32m<ipython-input-61-8499b8426867>\u001b[0m in \u001b[0;36mgetPlot\u001b[1;34m(name, gender, center)\u001b[0m\n\u001b[0;32m      2\u001b[0m \u001b[1;32mdef\u001b[0m \u001b[0mgetPlot\u001b[0m\u001b[1;33m(\u001b[0m\u001b[0mname\u001b[0m\u001b[1;33m,\u001b[0m\u001b[0mgender\u001b[0m\u001b[1;33m,\u001b[0m\u001b[0mcenter\u001b[0m\u001b[1;33m)\u001b[0m\u001b[1;33m:\u001b[0m\u001b[1;33m\u001b[0m\u001b[1;33m\u001b[0m\u001b[0m\n\u001b[0;32m      3\u001b[0m     \u001b[1;31m# get a dataframe for just that name and gender\u001b[0m\u001b[1;33m\u001b[0m\u001b[1;33m\u001b[0m\u001b[1;33m\u001b[0m\u001b[0m\n\u001b[1;32m----> 4\u001b[1;33m     \u001b[0mplot_df\u001b[0m \u001b[1;33m=\u001b[0m \u001b[0mdata_set_with_counts\u001b[0m\u001b[1;33m.\u001b[0m\u001b[0mloc\u001b[0m\u001b[1;33m[\u001b[0m\u001b[1;33m(\u001b[0m\u001b[0mnames_df\u001b[0m\u001b[1;33m[\u001b[0m\u001b[1;34m'Name'\u001b[0m\u001b[1;33m]\u001b[0m\u001b[1;33m==\u001b[0m\u001b[0mname\u001b[0m\u001b[1;33m)\u001b[0m \u001b[1;33m&\u001b[0m \u001b[1;33m(\u001b[0m\u001b[0mnames_df\u001b[0m\u001b[1;33m[\u001b[0m\u001b[1;34m'Gender'\u001b[0m\u001b[1;33m]\u001b[0m\u001b[1;33m==\u001b[0m\u001b[0mgender\u001b[0m\u001b[1;33m)\u001b[0m \u001b[1;33m]\u001b[0m\u001b[1;33m\u001b[0m\u001b[1;33m\u001b[0m\u001b[0m\n\u001b[0m\u001b[0;32m      5\u001b[0m \u001b[1;33m\u001b[0m\u001b[0m\n\u001b[0;32m      6\u001b[0m     \u001b[1;31m# set the series to plot\u001b[0m\u001b[1;33m\u001b[0m\u001b[1;33m\u001b[0m\u001b[1;33m\u001b[0m\u001b[0m\n",
      "\u001b[1;32m~\\Anaconda3\\lib\\site-packages\\pandas\\core\\indexing.py\u001b[0m in \u001b[0;36m__getitem__\u001b[1;34m(self, key)\u001b[0m\n\u001b[0;32m   1498\u001b[0m \u001b[1;33m\u001b[0m\u001b[0m\n\u001b[0;32m   1499\u001b[0m             \u001b[0mmaybe_callable\u001b[0m \u001b[1;33m=\u001b[0m \u001b[0mcom\u001b[0m\u001b[1;33m.\u001b[0m\u001b[0mapply_if_callable\u001b[0m\u001b[1;33m(\u001b[0m\u001b[0mkey\u001b[0m\u001b[1;33m,\u001b[0m \u001b[0mself\u001b[0m\u001b[1;33m.\u001b[0m\u001b[0mobj\u001b[0m\u001b[1;33m)\u001b[0m\u001b[1;33m\u001b[0m\u001b[1;33m\u001b[0m\u001b[0m\n\u001b[1;32m-> 1500\u001b[1;33m             \u001b[1;32mreturn\u001b[0m \u001b[0mself\u001b[0m\u001b[1;33m.\u001b[0m\u001b[0m_getitem_axis\u001b[0m\u001b[1;33m(\u001b[0m\u001b[0mmaybe_callable\u001b[0m\u001b[1;33m,\u001b[0m \u001b[0maxis\u001b[0m\u001b[1;33m=\u001b[0m\u001b[0maxis\u001b[0m\u001b[1;33m)\u001b[0m\u001b[1;33m\u001b[0m\u001b[1;33m\u001b[0m\u001b[0m\n\u001b[0m\u001b[0;32m   1501\u001b[0m \u001b[1;33m\u001b[0m\u001b[0m\n\u001b[0;32m   1502\u001b[0m     \u001b[1;32mdef\u001b[0m \u001b[0m_is_scalar_access\u001b[0m\u001b[1;33m(\u001b[0m\u001b[0mself\u001b[0m\u001b[1;33m,\u001b[0m \u001b[0mkey\u001b[0m\u001b[1;33m)\u001b[0m\u001b[1;33m:\u001b[0m\u001b[1;33m\u001b[0m\u001b[1;33m\u001b[0m\u001b[0m\n",
      "\u001b[1;32m~\\Anaconda3\\lib\\site-packages\\pandas\\core\\indexing.py\u001b[0m in \u001b[0;36m_getitem_axis\u001b[1;34m(self, key, axis)\u001b[0m\n\u001b[0;32m   1867\u001b[0m             \u001b[1;32mreturn\u001b[0m \u001b[0mself\u001b[0m\u001b[1;33m.\u001b[0m\u001b[0m_get_slice_axis\u001b[0m\u001b[1;33m(\u001b[0m\u001b[0mkey\u001b[0m\u001b[1;33m,\u001b[0m \u001b[0maxis\u001b[0m\u001b[1;33m=\u001b[0m\u001b[0maxis\u001b[0m\u001b[1;33m)\u001b[0m\u001b[1;33m\u001b[0m\u001b[1;33m\u001b[0m\u001b[0m\n\u001b[0;32m   1868\u001b[0m         \u001b[1;32melif\u001b[0m \u001b[0mcom\u001b[0m\u001b[1;33m.\u001b[0m\u001b[0mis_bool_indexer\u001b[0m\u001b[1;33m(\u001b[0m\u001b[0mkey\u001b[0m\u001b[1;33m)\u001b[0m\u001b[1;33m:\u001b[0m\u001b[1;33m\u001b[0m\u001b[1;33m\u001b[0m\u001b[0m\n\u001b[1;32m-> 1869\u001b[1;33m             \u001b[1;32mreturn\u001b[0m \u001b[0mself\u001b[0m\u001b[1;33m.\u001b[0m\u001b[0m_getbool_axis\u001b[0m\u001b[1;33m(\u001b[0m\u001b[0mkey\u001b[0m\u001b[1;33m,\u001b[0m \u001b[0maxis\u001b[0m\u001b[1;33m=\u001b[0m\u001b[0maxis\u001b[0m\u001b[1;33m)\u001b[0m\u001b[1;33m\u001b[0m\u001b[1;33m\u001b[0m\u001b[0m\n\u001b[0m\u001b[0;32m   1870\u001b[0m         \u001b[1;32melif\u001b[0m \u001b[0mis_list_like_indexer\u001b[0m\u001b[1;33m(\u001b[0m\u001b[0mkey\u001b[0m\u001b[1;33m)\u001b[0m\u001b[1;33m:\u001b[0m\u001b[1;33m\u001b[0m\u001b[1;33m\u001b[0m\u001b[0m\n\u001b[0;32m   1871\u001b[0m \u001b[1;33m\u001b[0m\u001b[0m\n",
      "\u001b[1;32m~\\Anaconda3\\lib\\site-packages\\pandas\\core\\indexing.py\u001b[0m in \u001b[0;36m_getbool_axis\u001b[1;34m(self, key, axis)\u001b[0m\n\u001b[0;32m   1513\u001b[0m             \u001b[0maxis\u001b[0m \u001b[1;33m=\u001b[0m \u001b[0mself\u001b[0m\u001b[1;33m.\u001b[0m\u001b[0maxis\u001b[0m \u001b[1;32mor\u001b[0m \u001b[1;36m0\u001b[0m\u001b[1;33m\u001b[0m\u001b[1;33m\u001b[0m\u001b[0m\n\u001b[0;32m   1514\u001b[0m         \u001b[0mlabels\u001b[0m \u001b[1;33m=\u001b[0m \u001b[0mself\u001b[0m\u001b[1;33m.\u001b[0m\u001b[0mobj\u001b[0m\u001b[1;33m.\u001b[0m\u001b[0m_get_axis\u001b[0m\u001b[1;33m(\u001b[0m\u001b[0maxis\u001b[0m\u001b[1;33m)\u001b[0m\u001b[1;33m\u001b[0m\u001b[1;33m\u001b[0m\u001b[0m\n\u001b[1;32m-> 1515\u001b[1;33m         \u001b[0mkey\u001b[0m \u001b[1;33m=\u001b[0m \u001b[0mcheck_bool_indexer\u001b[0m\u001b[1;33m(\u001b[0m\u001b[0mlabels\u001b[0m\u001b[1;33m,\u001b[0m \u001b[0mkey\u001b[0m\u001b[1;33m)\u001b[0m\u001b[1;33m\u001b[0m\u001b[1;33m\u001b[0m\u001b[0m\n\u001b[0m\u001b[0;32m   1516\u001b[0m         \u001b[0minds\u001b[0m\u001b[1;33m,\u001b[0m \u001b[1;33m=\u001b[0m \u001b[0mkey\u001b[0m\u001b[1;33m.\u001b[0m\u001b[0mnonzero\u001b[0m\u001b[1;33m(\u001b[0m\u001b[1;33m)\u001b[0m\u001b[1;33m\u001b[0m\u001b[1;33m\u001b[0m\u001b[0m\n\u001b[0;32m   1517\u001b[0m         \u001b[1;32mtry\u001b[0m\u001b[1;33m:\u001b[0m\u001b[1;33m\u001b[0m\u001b[1;33m\u001b[0m\u001b[0m\n",
      "\u001b[1;32m~\\Anaconda3\\lib\\site-packages\\pandas\\core\\indexing.py\u001b[0m in \u001b[0;36mcheck_bool_indexer\u001b[1;34m(ax, key)\u001b[0m\n\u001b[0;32m   2484\u001b[0m         \u001b[0mmask\u001b[0m \u001b[1;33m=\u001b[0m \u001b[0misna\u001b[0m\u001b[1;33m(\u001b[0m\u001b[0mresult\u001b[0m\u001b[1;33m.\u001b[0m\u001b[0m_values\u001b[0m\u001b[1;33m)\u001b[0m\u001b[1;33m\u001b[0m\u001b[1;33m\u001b[0m\u001b[0m\n\u001b[0;32m   2485\u001b[0m         \u001b[1;32mif\u001b[0m \u001b[0mmask\u001b[0m\u001b[1;33m.\u001b[0m\u001b[0many\u001b[0m\u001b[1;33m(\u001b[0m\u001b[1;33m)\u001b[0m\u001b[1;33m:\u001b[0m\u001b[1;33m\u001b[0m\u001b[1;33m\u001b[0m\u001b[0m\n\u001b[1;32m-> 2486\u001b[1;33m             raise IndexingError('Unalignable boolean Series provided as '\n\u001b[0m\u001b[0;32m   2487\u001b[0m                                 \u001b[1;34m'indexer (index of the boolean Series and of '\u001b[0m\u001b[1;33m\u001b[0m\u001b[1;33m\u001b[0m\u001b[0m\n\u001b[0;32m   2488\u001b[0m                                 'the indexed object do not match')\n",
      "\u001b[1;31mIndexingError\u001b[0m: Unalignable boolean Series provided as indexer (index of the boolean Series and of the indexed object do not match"
     ]
    }
   ],
   "source": [
    "getPlot(name,gender,center)"
   ]
  },
  {
   "cell_type": "code",
   "execution_count": null,
   "metadata": {},
   "outputs": [],
   "source": []
  }
 ],
 "metadata": {
  "kernelspec": {
   "display_name": "Python 3",
   "language": "python",
   "name": "python3"
  },
  "language_info": {
   "codemirror_mode": {
    "name": "ipython",
    "version": 3
   },
   "file_extension": ".py",
   "mimetype": "text/x-python",
   "name": "python",
   "nbconvert_exporter": "python",
   "pygments_lexer": "ipython3",
   "version": "3.7.3"
  }
 },
 "nbformat": 4,
 "nbformat_minor": 2
}
