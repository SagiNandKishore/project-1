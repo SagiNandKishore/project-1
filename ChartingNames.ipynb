{
 "cells": [
  {
   "cell_type": "code",
   "execution_count": 1,
   "metadata": {},
   "outputs": [],
   "source": [
    "import pandas as pd\n",
    "import numpy as np\n",
    "import csv\n",
    "import matplotlib.pyplot as plt\n",
    "from scipy.signal import argrelextrema"
   ]
  },
  {
   "cell_type": "code",
   "execution_count": 2,
   "metadata": {},
   "outputs": [
    {
     "data": {
      "text/html": [
       "<div>\n",
       "<style scoped>\n",
       "    .dataframe tbody tr th:only-of-type {\n",
       "        vertical-align: middle;\n",
       "    }\n",
       "\n",
       "    .dataframe tbody tr th {\n",
       "        vertical-align: top;\n",
       "    }\n",
       "\n",
       "    .dataframe thead th {\n",
       "        text-align: right;\n",
       "    }\n",
       "</style>\n",
       "<table border=\"1\" class=\"dataframe\">\n",
       "  <thead>\n",
       "    <tr style=\"text-align: right;\">\n",
       "      <th></th>\n",
       "      <th>Name</th>\n",
       "      <th>Year</th>\n",
       "      <th>Movie</th>\n",
       "    </tr>\n",
       "  </thead>\n",
       "  <tbody>\n",
       "    <tr>\n",
       "      <th>0</th>\n",
       "      <td>Henry</td>\n",
       "      <td>1915</td>\n",
       "      <td>The Birth of a Nation</td>\n",
       "    </tr>\n",
       "    <tr>\n",
       "      <th>1</th>\n",
       "      <td>Lillian</td>\n",
       "      <td>1915</td>\n",
       "      <td>The Birth of a Nation</td>\n",
       "    </tr>\n",
       "    <tr>\n",
       "      <th>2</th>\n",
       "      <td>Mae</td>\n",
       "      <td>1915</td>\n",
       "      <td>The Birth of a Nation</td>\n",
       "    </tr>\n",
       "    <tr>\n",
       "      <th>3</th>\n",
       "      <td>Miriam</td>\n",
       "      <td>1915</td>\n",
       "      <td>The Birth of a Nation</td>\n",
       "    </tr>\n",
       "    <tr>\n",
       "      <th>4</th>\n",
       "      <td>Elizabeth</td>\n",
       "      <td>1917</td>\n",
       "      <td>Cleopatra</td>\n",
       "    </tr>\n",
       "  </tbody>\n",
       "</table>\n",
       "</div>"
      ],
      "text/plain": [
       "        Name  Year                  Movie\n",
       "0      Henry  1915  The Birth of a Nation\n",
       "1    Lillian  1915  The Birth of a Nation\n",
       "2        Mae  1915  The Birth of a Nation\n",
       "3     Miriam  1915  The Birth of a Nation\n",
       "4  Elizabeth  1917              Cleopatra"
      ]
     },
     "execution_count": 2,
     "metadata": {},
     "output_type": "execute_result"
    }
   ],
   "source": [
    "# read in table\n",
    "df = pd.read_csv('MovieData/Resources/NameTable.csv')\n",
    "df.head()"
   ]
  },
  {
   "cell_type": "code",
   "execution_count": 3,
   "metadata": {},
   "outputs": [
    {
     "data": {
      "text/html": [
       "<div>\n",
       "<style scoped>\n",
       "    .dataframe tbody tr th:only-of-type {\n",
       "        vertical-align: middle;\n",
       "    }\n",
       "\n",
       "    .dataframe tbody tr th {\n",
       "        vertical-align: top;\n",
       "    }\n",
       "\n",
       "    .dataframe thead th {\n",
       "        text-align: right;\n",
       "    }\n",
       "</style>\n",
       "<table border=\"1\" class=\"dataframe\">\n",
       "  <thead>\n",
       "    <tr style=\"text-align: right;\">\n",
       "      <th></th>\n",
       "      <th>Name</th>\n",
       "      <th>Year</th>\n",
       "      <th>Movie</th>\n",
       "      <th>Data</th>\n",
       "    </tr>\n",
       "  </thead>\n",
       "  <tbody>\n",
       "    <tr>\n",
       "      <th>0</th>\n",
       "      <td>Henry</td>\n",
       "      <td>1915</td>\n",
       "      <td>The Birth of a Nation</td>\n",
       "      <td></td>\n",
       "    </tr>\n",
       "    <tr>\n",
       "      <th>1</th>\n",
       "      <td>Lillian</td>\n",
       "      <td>1915</td>\n",
       "      <td>The Birth of a Nation</td>\n",
       "      <td></td>\n",
       "    </tr>\n",
       "    <tr>\n",
       "      <th>2</th>\n",
       "      <td>Mae</td>\n",
       "      <td>1915</td>\n",
       "      <td>The Birth of a Nation</td>\n",
       "      <td></td>\n",
       "    </tr>\n",
       "    <tr>\n",
       "      <th>3</th>\n",
       "      <td>Miriam</td>\n",
       "      <td>1915</td>\n",
       "      <td>The Birth of a Nation</td>\n",
       "      <td></td>\n",
       "    </tr>\n",
       "    <tr>\n",
       "      <th>4</th>\n",
       "      <td>Elizabeth</td>\n",
       "      <td>1917</td>\n",
       "      <td>Cleopatra</td>\n",
       "      <td></td>\n",
       "    </tr>\n",
       "  </tbody>\n",
       "</table>\n",
       "</div>"
      ],
      "text/plain": [
       "        Name  Year                  Movie Data\n",
       "0      Henry  1915  The Birth of a Nation     \n",
       "1    Lillian  1915  The Birth of a Nation     \n",
       "2        Mae  1915  The Birth of a Nation     \n",
       "3     Miriam  1915  The Birth of a Nation     \n",
       "4  Elizabeth  1917              Cleopatra     "
      ]
     },
     "execution_count": 3,
     "metadata": {},
     "output_type": "execute_result"
    }
   ],
   "source": [
    "# Add empty Data col\n",
    "df['Data'] = \"\"\n",
    "df.head()"
   ]
  },
  {
   "cell_type": "code",
   "execution_count": 4,
   "metadata": {},
   "outputs": [
    {
     "data": {
      "text/html": [
       "<div>\n",
       "<style scoped>\n",
       "    .dataframe tbody tr th:only-of-type {\n",
       "        vertical-align: middle;\n",
       "    }\n",
       "\n",
       "    .dataframe tbody tr th {\n",
       "        vertical-align: top;\n",
       "    }\n",
       "\n",
       "    .dataframe thead th {\n",
       "        text-align: right;\n",
       "    }\n",
       "</style>\n",
       "<table border=\"1\" class=\"dataframe\">\n",
       "  <thead>\n",
       "    <tr style=\"text-align: right;\">\n",
       "      <th></th>\n",
       "      <th>Name</th>\n",
       "      <th>Year</th>\n",
       "      <th>Movie</th>\n",
       "      <th>Data</th>\n",
       "    </tr>\n",
       "  </thead>\n",
       "  <tbody>\n",
       "    <tr>\n",
       "      <th>0</th>\n",
       "      <td>Henry</td>\n",
       "      <td>1915</td>\n",
       "      <td>The Birth of a Nation</td>\n",
       "      <td>[2168, 1940, 2100, 2145, 2135, 2217, 2310, 243...</td>\n",
       "    </tr>\n",
       "    <tr>\n",
       "      <th>1</th>\n",
       "      <td>Lillian</td>\n",
       "      <td>1915</td>\n",
       "      <td>The Birth of a Nation</td>\n",
       "      <td>[3076, 2984, 3149, 3196, 3307, 3557, 3643, 361...</td>\n",
       "    </tr>\n",
       "    <tr>\n",
       "      <th>2</th>\n",
       "      <td>Mae</td>\n",
       "      <td>1915</td>\n",
       "      <td>The Birth of a Nation</td>\n",
       "      <td>[1270, 1192, 1219, 1294, 1225, 1375, 1392, 124...</td>\n",
       "    </tr>\n",
       "    <tr>\n",
       "      <th>3</th>\n",
       "      <td>Miriam</td>\n",
       "      <td>1915</td>\n",
       "      <td>The Birth of a Nation</td>\n",
       "      <td>[200, 218, 227, 234, 273, 301, 342, 339, 368, ...</td>\n",
       "    </tr>\n",
       "    <tr>\n",
       "      <th>4</th>\n",
       "      <td>Elizabeth</td>\n",
       "      <td>1917</td>\n",
       "      <td>Cleopatra</td>\n",
       "      <td>[3846, 4134, 4336, 4637, 4915, 5189, 5817, 631...</td>\n",
       "    </tr>\n",
       "  </tbody>\n",
       "</table>\n",
       "</div>"
      ],
      "text/plain": [
       "        Name  Year                  Movie  \\\n",
       "0      Henry  1915  The Birth of a Nation   \n",
       "1    Lillian  1915  The Birth of a Nation   \n",
       "2        Mae  1915  The Birth of a Nation   \n",
       "3     Miriam  1915  The Birth of a Nation   \n",
       "4  Elizabeth  1917              Cleopatra   \n",
       "\n",
       "                                                Data  \n",
       "0  [2168, 1940, 2100, 2145, 2135, 2217, 2310, 243...  \n",
       "1  [3076, 2984, 3149, 3196, 3307, 3557, 3643, 361...  \n",
       "2  [1270, 1192, 1219, 1294, 1225, 1375, 1392, 124...  \n",
       "3  [200, 218, 227, 234, 273, 301, 342, 339, 368, ...  \n",
       "4  [3846, 4134, 4336, 4637, 4915, 5189, 5817, 631...  "
      ]
     },
     "execution_count": 4,
     "metadata": {},
     "output_type": "execute_result"
    }
   ],
   "source": [
    "# in Data store a count of the number of times a name is present\n",
    "# in the year range x-13 to x+10\n",
    "for i, row in df.iterrows():\n",
    "    center = row['Year']\n",
    "    data = []\n",
    "    for year in range(center-13,center+11):\n",
    "        try:\n",
    "            temp = pd.read_csv('names/yob'+str(year)+'.txt',header=None)\n",
    "            temp = temp.loc[temp[0]==row['Name']]\n",
    "            num = temp[2].sum()\n",
    "            if num == np.nan: num=0\n",
    "            data.append(num)\n",
    "        except:\n",
    "            data.append(0)\n",
    "    # If a name never appears set value to nan\n",
    "    if (sum(data)==0): data = np.nan\n",
    "    df.at[i,'Data'] = data\n",
    "    #if(i>3):break\n",
    "df.head()"
   ]
  },
  {
   "cell_type": "code",
   "execution_count": 5,
   "metadata": {},
   "outputs": [
    {
     "data": {
      "text/html": [
       "<div>\n",
       "<style scoped>\n",
       "    .dataframe tbody tr th:only-of-type {\n",
       "        vertical-align: middle;\n",
       "    }\n",
       "\n",
       "    .dataframe tbody tr th {\n",
       "        vertical-align: top;\n",
       "    }\n",
       "\n",
       "    .dataframe thead th {\n",
       "        text-align: right;\n",
       "    }\n",
       "</style>\n",
       "<table border=\"1\" class=\"dataframe\">\n",
       "  <thead>\n",
       "    <tr style=\"text-align: right;\">\n",
       "      <th></th>\n",
       "      <th>Name</th>\n",
       "      <th>Year</th>\n",
       "      <th>Movie</th>\n",
       "      <th>Data</th>\n",
       "    </tr>\n",
       "  </thead>\n",
       "  <tbody>\n",
       "    <tr>\n",
       "      <th>0</th>\n",
       "      <td>Henry</td>\n",
       "      <td>1915</td>\n",
       "      <td>The Birth of a Nation</td>\n",
       "      <td>[2168, 1940, 2100, 2145, 2135, 2217, 2310, 243...</td>\n",
       "    </tr>\n",
       "    <tr>\n",
       "      <th>1</th>\n",
       "      <td>Lillian</td>\n",
       "      <td>1915</td>\n",
       "      <td>The Birth of a Nation</td>\n",
       "      <td>[3076, 2984, 3149, 3196, 3307, 3557, 3643, 361...</td>\n",
       "    </tr>\n",
       "    <tr>\n",
       "      <th>2</th>\n",
       "      <td>Mae</td>\n",
       "      <td>1915</td>\n",
       "      <td>The Birth of a Nation</td>\n",
       "      <td>[1270, 1192, 1219, 1294, 1225, 1375, 1392, 124...</td>\n",
       "    </tr>\n",
       "    <tr>\n",
       "      <th>3</th>\n",
       "      <td>Miriam</td>\n",
       "      <td>1915</td>\n",
       "      <td>The Birth of a Nation</td>\n",
       "      <td>[200, 218, 227, 234, 273, 301, 342, 339, 368, ...</td>\n",
       "    </tr>\n",
       "    <tr>\n",
       "      <th>4</th>\n",
       "      <td>Elizabeth</td>\n",
       "      <td>1917</td>\n",
       "      <td>Cleopatra</td>\n",
       "      <td>[3846, 4134, 4336, 4637, 4915, 5189, 5817, 631...</td>\n",
       "    </tr>\n",
       "  </tbody>\n",
       "</table>\n",
       "</div>"
      ],
      "text/plain": [
       "        Name  Year                  Movie  \\\n",
       "0      Henry  1915  The Birth of a Nation   \n",
       "1    Lillian  1915  The Birth of a Nation   \n",
       "2        Mae  1915  The Birth of a Nation   \n",
       "3     Miriam  1915  The Birth of a Nation   \n",
       "4  Elizabeth  1917              Cleopatra   \n",
       "\n",
       "                                                Data  \n",
       "0  [2168, 1940, 2100, 2145, 2135, 2217, 2310, 243...  \n",
       "1  [3076, 2984, 3149, 3196, 3307, 3557, 3643, 361...  \n",
       "2  [1270, 1192, 1219, 1294, 1225, 1375, 1392, 124...  \n",
       "3  [200, 218, 227, 234, 273, 301, 342, 339, 368, ...  \n",
       "4  [3846, 4134, 4336, 4637, 4915, 5189, 5817, 631...  "
      ]
     },
     "execution_count": 5,
     "metadata": {},
     "output_type": "execute_result"
    }
   ],
   "source": [
    "# Drop rows with empty Data\n",
    "df.dropna(inplace=True)\n",
    "df.head()"
   ]
  },
  {
   "cell_type": "code",
   "execution_count": 6,
   "metadata": {},
   "outputs": [
    {
     "data": {
      "text/html": [
       "<div>\n",
       "<style scoped>\n",
       "    .dataframe tbody tr th:only-of-type {\n",
       "        vertical-align: middle;\n",
       "    }\n",
       "\n",
       "    .dataframe tbody tr th {\n",
       "        vertical-align: top;\n",
       "    }\n",
       "\n",
       "    .dataframe thead th {\n",
       "        text-align: right;\n",
       "    }\n",
       "</style>\n",
       "<table border=\"1\" class=\"dataframe\">\n",
       "  <thead>\n",
       "    <tr style=\"text-align: right;\">\n",
       "      <th></th>\n",
       "      <th>Name</th>\n",
       "      <th>Year</th>\n",
       "      <th>Movie</th>\n",
       "      <th>Data</th>\n",
       "      <th>Data Shift</th>\n",
       "    </tr>\n",
       "  </thead>\n",
       "  <tbody>\n",
       "    <tr>\n",
       "      <th>0</th>\n",
       "      <td>Henry</td>\n",
       "      <td>1915</td>\n",
       "      <td>The Birth of a Nation</td>\n",
       "      <td>[2168, 1940, 2100, 2145, 2135, 2217, 2310, 243...</td>\n",
       "      <td>0          NaN\n",
       "1    -0.105166\n",
       "2     0.082474\n",
       "3...</td>\n",
       "    </tr>\n",
       "    <tr>\n",
       "      <th>1</th>\n",
       "      <td>Lillian</td>\n",
       "      <td>1915</td>\n",
       "      <td>The Birth of a Nation</td>\n",
       "      <td>[3076, 2984, 3149, 3196, 3307, 3557, 3643, 361...</td>\n",
       "      <td>0          NaN\n",
       "1    -0.029909\n",
       "2     0.055295\n",
       "3...</td>\n",
       "    </tr>\n",
       "    <tr>\n",
       "      <th>2</th>\n",
       "      <td>Mae</td>\n",
       "      <td>1915</td>\n",
       "      <td>The Birth of a Nation</td>\n",
       "      <td>[1270, 1192, 1219, 1294, 1225, 1375, 1392, 124...</td>\n",
       "      <td>0          NaN\n",
       "1    -0.061417\n",
       "2     0.022651\n",
       "3...</td>\n",
       "    </tr>\n",
       "    <tr>\n",
       "      <th>3</th>\n",
       "      <td>Miriam</td>\n",
       "      <td>1915</td>\n",
       "      <td>The Birth of a Nation</td>\n",
       "      <td>[200, 218, 227, 234, 273, 301, 342, 339, 368, ...</td>\n",
       "      <td>0          NaN\n",
       "1     0.090000\n",
       "2     0.041284\n",
       "3...</td>\n",
       "    </tr>\n",
       "    <tr>\n",
       "      <th>4</th>\n",
       "      <td>Elizabeth</td>\n",
       "      <td>1917</td>\n",
       "      <td>Cleopatra</td>\n",
       "      <td>[3846, 4134, 4336, 4637, 4915, 5189, 5817, 631...</td>\n",
       "      <td>0          NaN\n",
       "1     0.074883\n",
       "2     0.048863\n",
       "3...</td>\n",
       "    </tr>\n",
       "  </tbody>\n",
       "</table>\n",
       "</div>"
      ],
      "text/plain": [
       "        Name  Year                  Movie  \\\n",
       "0      Henry  1915  The Birth of a Nation   \n",
       "1    Lillian  1915  The Birth of a Nation   \n",
       "2        Mae  1915  The Birth of a Nation   \n",
       "3     Miriam  1915  The Birth of a Nation   \n",
       "4  Elizabeth  1917              Cleopatra   \n",
       "\n",
       "                                                Data  \\\n",
       "0  [2168, 1940, 2100, 2145, 2135, 2217, 2310, 243...   \n",
       "1  [3076, 2984, 3149, 3196, 3307, 3557, 3643, 361...   \n",
       "2  [1270, 1192, 1219, 1294, 1225, 1375, 1392, 124...   \n",
       "3  [200, 218, 227, 234, 273, 301, 342, 339, 368, ...   \n",
       "4  [3846, 4134, 4336, 4637, 4915, 5189, 5817, 631...   \n",
       "\n",
       "                                          Data Shift  \n",
       "0  0          NaN\n",
       "1    -0.105166\n",
       "2     0.082474\n",
       "3...  \n",
       "1  0          NaN\n",
       "1    -0.029909\n",
       "2     0.055295\n",
       "3...  \n",
       "2  0          NaN\n",
       "1    -0.061417\n",
       "2     0.022651\n",
       "3...  \n",
       "3  0          NaN\n",
       "1     0.090000\n",
       "2     0.041284\n",
       "3...  \n",
       "4  0          NaN\n",
       "1     0.074883\n",
       "2     0.048863\n",
       "3...  "
      ]
     },
     "execution_count": 6,
     "metadata": {},
     "output_type": "execute_result"
    }
   ],
   "source": [
    "# Stores the Percent of Change value for each Data value into new col Data Shift\n",
    "df['Data Shift'] = \"\"\n",
    "running = 1\n",
    "for i,row in df.iterrows():\n",
    "    #df.at[i,'Data Shift'] = [100 * (b - a) / a for a, b in zip(row['Data'][::1], row['Data'][1::1])]\n",
    "    df.at[i,'Data Shift'] = pd.Series(row['Data']).pct_change(running)\n",
    "    #if (i>2):break\n",
    "df.head()"
   ]
  },
  {
   "cell_type": "code",
   "execution_count": 21,
   "metadata": {},
   "outputs": [
    {
     "name": "stdout",
     "output_type": "stream",
     "text": [
      "[1976 1977 1978 1979 1980 1981 1982 1983 1984 1985 1986 1987 1988 1989\n",
      " 1990 1991 1992 1993 1994 1995 1996 1997 1998 1999]\n"
     ]
    },
    {
     "data": {
      "text/plain": [
       "<matplotlib.lines.Line2D at 0x1d896964d30>"
      ]
     },
     "execution_count": 21,
     "metadata": {},
     "output_type": "execute_result"
    },
    {
     "data": {
      "image/png": "[encoded data removed]",
      "text/plain": [
       "<Figure size 432x288 with 1 Axes>"
      ]
     },
     "metadata": {
      "needs_background": "light"
     },
     "output_type": "display_data"
    }
   ],
   "source": [
    "# Cell for Testing purposes\n",
    "y = 811\n",
    "x = np.arange(df['Year'][y]-13,df['Year'][y]+11)\n",
    "print(x)\n",
    "\n",
    "plt.plot(x,df['Data'][y])\n",
    "plt.axvline(df['Year'][y])"
   ]
  },
  {
   "cell_type": "code",
   "execution_count": 23,
   "metadata": {},
   "outputs": [
    {
     "data": {
      "text/plain": [
       "<matplotlib.collections.PathCollection at 0x1d8971fa278>"
      ]
     },
     "execution_count": 23,
     "metadata": {},
     "output_type": "execute_result"
    },
    {
     "data": {
      "image/png": "[encoded data removed]",
      "text/plain": [
       "<Figure size 432x288 with 1 Axes>"
      ]
     },
     "metadata": {
      "needs_background": "light"
     },
     "output_type": "display_data"
    }
   ],
   "source": [
    "# Cell for test purposes\n",
    "x = np.arange(df['Year'][y]-13,df['Year'][y]+11)\n",
    "t = np.array(df['Data Shift'][y].tolist())\n",
    "#print(t)\n",
    "c_max_index = argrelextrema(t, np.greater, order=10)\n",
    "plt.plot(x,df['Data Shift'][y])\n",
    "plt.axvline(df['Year'][y])\n",
    "plt.scatter(c_max_index[0]+df['Year'][y]-13,t[c_max_index[0]],linewidth=0.3, s=50, c='r')"
   ]
  },
  {
   "cell_type": "code",
   "execution_count": 32,
   "metadata": {},
   "outputs": [
    {
     "data": {
      "text/html": [
       "<div>\n",
       "<style scoped>\n",
       "    .dataframe tbody tr th:only-of-type {\n",
       "        vertical-align: middle;\n",
       "    }\n",
       "\n",
       "    .dataframe tbody tr th {\n",
       "        vertical-align: top;\n",
       "    }\n",
       "\n",
       "    .dataframe thead th {\n",
       "        text-align: right;\n",
       "    }\n",
       "</style>\n",
       "<table border=\"1\" class=\"dataframe\">\n",
       "  <thead>\n",
       "    <tr style=\"text-align: right;\">\n",
       "      <th></th>\n",
       "      <th>Name</th>\n",
       "      <th>Year</th>\n",
       "      <th>Movie</th>\n",
       "      <th>Data</th>\n",
       "      <th>Data Shift</th>\n",
       "      <th>Spike</th>\n",
       "    </tr>\n",
       "  </thead>\n",
       "  <tbody>\n",
       "    <tr>\n",
       "      <th>0</th>\n",
       "      <td>Henry</td>\n",
       "      <td>1915</td>\n",
       "      <td>The Birth of a Nation</td>\n",
       "      <td>[2168, 1940, 2100, 2145, 2135, 2217, 2310, 243...</td>\n",
       "      <td>0          NaN\n",
       "1    -0.105166\n",
       "2     0.082474\n",
       "3...</td>\n",
       "      <td>-1</td>\n",
       "    </tr>\n",
       "    <tr>\n",
       "      <th>1</th>\n",
       "      <td>Lillian</td>\n",
       "      <td>1915</td>\n",
       "      <td>The Birth of a Nation</td>\n",
       "      <td>[3076, 2984, 3149, 3196, 3307, 3557, 3643, 361...</td>\n",
       "      <td>0          NaN\n",
       "1    -0.029909\n",
       "2     0.055295\n",
       "3...</td>\n",
       "      <td>1</td>\n",
       "    </tr>\n",
       "    <tr>\n",
       "      <th>2</th>\n",
       "      <td>Mae</td>\n",
       "      <td>1915</td>\n",
       "      <td>The Birth of a Nation</td>\n",
       "      <td>[1270, 1192, 1219, 1294, 1225, 1375, 1392, 124...</td>\n",
       "      <td>0          NaN\n",
       "1    -0.061417\n",
       "2     0.022651\n",
       "3...</td>\n",
       "      <td>-1</td>\n",
       "    </tr>\n",
       "    <tr>\n",
       "      <th>3</th>\n",
       "      <td>Miriam</td>\n",
       "      <td>1915</td>\n",
       "      <td>The Birth of a Nation</td>\n",
       "      <td>[200, 218, 227, 234, 273, 301, 342, 339, 368, ...</td>\n",
       "      <td>0          NaN\n",
       "1     0.090000\n",
       "2     0.041284\n",
       "3...</td>\n",
       "      <td>-1</td>\n",
       "    </tr>\n",
       "    <tr>\n",
       "      <th>4</th>\n",
       "      <td>Elizabeth</td>\n",
       "      <td>1917</td>\n",
       "      <td>Cleopatra</td>\n",
       "      <td>[3846, 4134, 4336, 4637, 4915, 5189, 5817, 631...</td>\n",
       "      <td>0          NaN\n",
       "1     0.074883\n",
       "2     0.048863\n",
       "3...</td>\n",
       "      <td>-1</td>\n",
       "    </tr>\n",
       "  </tbody>\n",
       "</table>\n",
       "</div>"
      ],
      "text/plain": [
       "        Name  Year                  Movie  \\\n",
       "0      Henry  1915  The Birth of a Nation   \n",
       "1    Lillian  1915  The Birth of a Nation   \n",
       "2        Mae  1915  The Birth of a Nation   \n",
       "3     Miriam  1915  The Birth of a Nation   \n",
       "4  Elizabeth  1917              Cleopatra   \n",
       "\n",
       "                                                Data  \\\n",
       "0  [2168, 1940, 2100, 2145, 2135, 2217, 2310, 243...   \n",
       "1  [3076, 2984, 3149, 3196, 3307, 3557, 3643, 361...   \n",
       "2  [1270, 1192, 1219, 1294, 1225, 1375, 1392, 124...   \n",
       "3  [200, 218, 227, 234, 273, 301, 342, 339, 368, ...   \n",
       "4  [3846, 4134, 4336, 4637, 4915, 5189, 5817, 631...   \n",
       "\n",
       "                                          Data Shift Spike  \n",
       "0  0          NaN\n",
       "1    -0.105166\n",
       "2     0.082474\n",
       "3...    -1  \n",
       "1  0          NaN\n",
       "1    -0.029909\n",
       "2     0.055295\n",
       "3...     1  \n",
       "2  0          NaN\n",
       "1    -0.061417\n",
       "2     0.022651\n",
       "3...    -1  \n",
       "3  0          NaN\n",
       "1     0.090000\n",
       "2     0.041284\n",
       "3...    -1  \n",
       "4  0          NaN\n",
       "1     0.074883\n",
       "2     0.048863\n",
       "3...    -1  "
      ]
     },
     "execution_count": 32,
     "metadata": {},
     "output_type": "execute_result"
    }
   ],
   "source": [
    "# assigns a spike col that looks for spikes in Data Shift and \n",
    "# assigns a value based on returned spike relative to year of movie\n",
    "# -1 small spike before\n",
    "# -2 Large spike before\n",
    "# 1 small spike after\n",
    "# 2 Large spike after\n",
    "# 0 Spike before and after\n",
    "df['Spike'] = \"\"\n",
    "\n",
    "spikeCheck = 1\n",
    "\n",
    "for i,row in df.iterrows():\n",
    "    t = np.array(df['Data Shift'][i].tolist())\n",
    "    #print(t)\n",
    "    c = argrelextrema(t, np.greater, order=7)\n",
    "    #print(f\"{t}:{c_max_index[0]}\")\n",
    "    x=0\n",
    "    if (len(c[0]) <1): continue\n",
    "    try:\n",
    "        #print(len(c[0]))\n",
    "        if(c[0] < 13):\n",
    "            if(abs(t[c[0]])<spikeCheck):\n",
    "                x=-1\n",
    "            else:\n",
    "                x=-2\n",
    "        else:\n",
    "            if(abs(t[c[0]])<spikeCheck):\n",
    "                x=1\n",
    "            else:\n",
    "                x=2\n",
    "    except ValueError:  # only throws error when spike is before and after year\n",
    "        #print(len(c[0]))\n",
    "        pass\n",
    "    df.at[i,'Spike'] = x\n",
    "    #if(i>2):break\n",
    "df.head()"
   ]
  },
  {
   "cell_type": "code",
   "execution_count": 33,
   "metadata": {},
   "outputs": [],
   "source": [
    "# Only Grabs rows with strong Spikes\n",
    "strong = df.loc[(df['Spike']==2)|(df['Spike']==-2)]"
   ]
  },
  {
   "cell_type": "code",
   "execution_count": 38,
   "metadata": {},
   "outputs": [
    {
     "data": {
      "text/plain": [
       "<Figure size 432x288 with 0 Axes>"
      ]
     },
     "metadata": {},
     "output_type": "display_data"
    }
   ],
   "source": [
    "# Creates charts for change of percent\n",
    "for i,row in strong.iterrows():\n",
    "    #if(i>2):break\n",
    "    x = np.arange(df['Year'][i]-13,df['Year'][i]+11)\n",
    "    t = np.array(df['Data Shift'][i].tolist())\n",
    "    #print(t)\n",
    "    c_max_index = argrelextrema(t, np.greater, order=7)\n",
    "    plt.plot(x,df['Data Shift'][i])\n",
    "    plt.xlabel('Year')\n",
    "    plt.ylabel('Change Value')\n",
    "    plt.title('Change percent of '+df['Name'][i]+\" centered on \"+df['Movie'][i]+\"'s Release'\")\n",
    "    plt.axvline(df['Year'][i],color = 'y')\n",
    "    plt.scatter(c_max_index[0]+df['Year'][i]-13,t[c_max_index[0]],linewidth=0.3, s=50, c='r')\n",
    "    title = 'DataCharts/DegreeOfChange/'+str(df['Year'][i])+'_'+df['Name'][i]+'_'+df['Movie'][i].replace(\" \",\"\").replace(':','')+'.png'\n",
    "    #print(title)\n",
    "    plt.savefig(title)\n",
    "    plt.clf()"
   ]
  },
  {
   "cell_type": "code",
   "execution_count": 39,
   "metadata": {},
   "outputs": [
    {
     "data": {
      "text/plain": [
       "<Figure size 432x288 with 0 Axes>"
      ]
     },
     "metadata": {},
     "output_type": "display_data"
    }
   ],
   "source": [
    "# creates charts for change of name value\n",
    "for i,row in strong.iterrows():\n",
    "    x = np.arange(df['Year'][i]-13,df['Year'][i]+11)\n",
    "    plt.plot(x,df['Data'][i])\n",
    "    plt.xlabel('Year')\n",
    "    plt.ylabel('Count of Name')\n",
    "    plt.title('Count of '+df['Name'][i]+\" centered on \"+df['Movie'][i]+\"'s Release'\")\n",
    "    plt.axvline(df['Year'][i],color = 'y')\n",
    "    title = 'DataCharts/NameRate/'+str(df['Year'][i])+'_'+df['Name'][i]+'_'+df['Movie'][i].replace(\" \",\"\").replace(':','')+'.png'\n",
    "    #print(title)\n",
    "    plt.savefig(title)\n",
    "    plt.clf()"
   ]
  },
  {
   "cell_type": "code",
   "execution_count": 37,
   "metadata": {
    "scrolled": true
   },
   "outputs": [
    {
     "data": {
      "text/plain": [
       "49"
      ]
     },
     "execution_count": 37,
     "metadata": {},
     "output_type": "execute_result"
    }
   ],
   "source": [
    "len(strong)"
   ]
  },
  {
   "cell_type": "code",
   "execution_count": 44,
   "metadata": {},
   "outputs": [
    {
     "name": "stdout",
     "output_type": "stream",
     "text": [
      "8.098039215686274\n"
     ]
    }
   ],
   "source": [
    "m = 0\n",
    "for s in strong['Data Shift']:\n",
    "    for v in s:\n",
    "        if (v>100000): continue\n",
    "        if (v>m):m=v\n",
    "print (m)"
   ]
  },
  {
   "cell_type": "code",
   "execution_count": null,
   "metadata": {},
   "outputs": [],
   "source": []
  }
 ],
 "metadata": {
  "kernelspec": {
   "display_name": "Python [conda env:PythonData] *",
   "language": "python",
   "name": "conda-env-PythonData-py"
  },
  "language_info": {
   "codemirror_mode": {
    "name": "ipython",
    "version": 3
   },
   "file_extension": ".py",
   "mimetype": "text/x-python",
   "name": "python",
   "nbconvert_exporter": "python",
   "pygments_lexer": "ipython3",
   "version": "3.6.8"
  }
 },
 "nbformat": 4,
 "nbformat_minor": 2
}
