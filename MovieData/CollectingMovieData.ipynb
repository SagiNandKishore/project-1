{
 "cells": [
  {
   "cell_type": "code",
   "execution_count": 1,
   "metadata": {},
   "outputs": [],
   "source": [
    "import requests\n",
    "import json\n",
    "import pprint\n",
    "import pandas as pd\n",
    "import numpy as np\n",
    "import csv\n",
    "import os"
   ]
  },
  {
   "cell_type": "code",
   "execution_count": 2,
   "metadata": {},
   "outputs": [],
   "source": [
    "url = \"http://www.omdbapi.com/?t=\"\n",
    "api_key = \"&apikey=trilogy\""
   ]
  },
  {
   "cell_type": "code",
   "execution_count": 3,
   "metadata": {},
   "outputs": [
    {
     "name": "stdout",
     "output_type": "stream",
     "text": [
      "Resources\\MovieList.csv\n"
     ]
    }
   ],
   "source": [
    "# response = requests.get(url + \"Name\" + api_key)\n",
    "# data = response.json()\n",
    "# pprint(data)\n",
    "fp = os.path.join(\"Resources\",\"MovieList.csv\")\n",
    "print(fp)"
   ]
  },
  {
   "cell_type": "code",
   "execution_count": 35,
   "metadata": {},
   "outputs": [],
   "source": [
    "def NameSplit(names):\n",
    "    firstNames = []\n",
    "    #print(names)\n",
    "    for name in names.split(\", \"):\n",
    "        #print(name)\n",
    "        firstNames.append(name.split()[0])\n",
    "        pass\n",
    "    if((len(firstNames)<=1) & (len(firstNames[0])<=3)):return(np.nan)\n",
    "    #print(len(firstNames[0]))\n",
    "    return(firstNames)"
   ]
  },
  {
   "cell_type": "code",
   "execution_count": 36,
   "metadata": {},
   "outputs": [
    {
     "data": {
      "text/html": [
       "<div>\n",
       "<style scoped>\n",
       "    .dataframe tbody tr th:only-of-type {\n",
       "        vertical-align: middle;\n",
       "    }\n",
       "\n",
       "    .dataframe tbody tr th {\n",
       "        vertical-align: top;\n",
       "    }\n",
       "\n",
       "    .dataframe thead th {\n",
       "        text-align: right;\n",
       "    }\n",
       "</style>\n",
       "<table border=\"1\" class=\"dataframe\">\n",
       "  <thead>\n",
       "    <tr style=\"text-align: right;\">\n",
       "      <th></th>\n",
       "      <th>Title</th>\n",
       "      <th>Year</th>\n",
       "      <th>Actors</th>\n",
       "      <th>Characters</th>\n",
       "    </tr>\n",
       "  </thead>\n",
       "  <tbody>\n",
       "    <tr>\n",
       "      <th>0</th>\n",
       "      <td>The Birth of a Nation</td>\n",
       "      <td>1915</td>\n",
       "      <td>[Henry, Lillian, Mae, Miriam]</td>\n",
       "      <td>NaN</td>\n",
       "    </tr>\n",
       "    <tr>\n",
       "      <th>2</th>\n",
       "      <td>Cleopatra</td>\n",
       "      <td>1917</td>\n",
       "      <td>[Elizabeth, Richard, Rex, Pamela]</td>\n",
       "      <td>[Cleopatra]</td>\n",
       "    </tr>\n",
       "    <tr>\n",
       "      <th>3</th>\n",
       "      <td>Mickey</td>\n",
       "      <td>1918</td>\n",
       "      <td>[Mabel, George, Laura, Lew]</td>\n",
       "      <td>[Mickey]</td>\n",
       "    </tr>\n",
       "    <tr>\n",
       "      <th>4</th>\n",
       "      <td>The Miracle Man</td>\n",
       "      <td>1919</td>\n",
       "      <td>[Lon, Betty, Joseph, J.M.]</td>\n",
       "      <td>NaN</td>\n",
       "    </tr>\n",
       "    <tr>\n",
       "      <th>5</th>\n",
       "      <td>Way Down East</td>\n",
       "      <td>1920</td>\n",
       "      <td>[Lillian, Richard, Mrs., Lowell]</td>\n",
       "      <td>NaN</td>\n",
       "    </tr>\n",
       "  </tbody>\n",
       "</table>\n",
       "</div>"
      ],
      "text/plain": [
       "                   Title  Year                             Actors   Characters\n",
       "0  The Birth of a Nation  1915      [Henry, Lillian, Mae, Miriam]          NaN\n",
       "2              Cleopatra  1917  [Elizabeth, Richard, Rex, Pamela]  [Cleopatra]\n",
       "3                 Mickey  1918        [Mabel, George, Laura, Lew]     [Mickey]\n",
       "4        The Miracle Man  1919         [Lon, Betty, Joseph, J.M.]          NaN\n",
       "5          Way Down East  1920   [Lillian, Richard, Mrs., Lowell]          NaN"
      ]
     },
     "execution_count": 36,
     "metadata": {},
     "output_type": "execute_result"
    }
   ],
   "source": [
    "df = pd.DataFrame(columns = ['Title','Year','Actors','Characters'])\n",
    "\n",
    "with open(fp,newline=\"\")as csvf:\n",
    "    csvr = csv.reader(csvf,delimiter=',')\n",
    "    next(csvr)\n",
    "    i=0\n",
    "    for row in csvr:\n",
    "        i=i+1\n",
    "        name = \"\"\n",
    "        name = row[1]\n",
    "        #print(name)\n",
    "        res = requests.get(url+name+api_key).json()\n",
    "        #print(json.dumps(res,indent=4,sort_keys=True))\n",
    "        try:\n",
    "            char = NameSplit(row[4])\n",
    "        except:\n",
    "            char = np.nan\n",
    "        year = row[0]\n",
    "        try:\n",
    "            actors = NameSplit(str(res['Actors']))\n",
    "        except:\n",
    "            actors = np.nan\n",
    "        \n",
    "        df = df.append({\"Title\":name,'Year':year,'Actors':actors,'Characters':char},ignore_index=True)\n",
    "        #if(i>2):break\n",
    "df.dropna(thresh=3,inplace=True)\n",
    "df.head()"
   ]
  },
  {
   "cell_type": "code",
   "execution_count": 37,
   "metadata": {},
   "outputs": [
    {
     "data": {
      "text/plain": [
       "153"
      ]
     },
     "execution_count": 37,
     "metadata": {},
     "output_type": "execute_result"
    }
   ],
   "source": [
    "df['Title'].count()"
   ]
  },
  {
   "cell_type": "code",
   "execution_count": 14,
   "metadata": {},
   "outputs": [],
   "source": [
    "#df['Actors']"
   ]
  },
  {
   "cell_type": "code",
   "execution_count": 41,
   "metadata": {},
   "outputs": [],
   "source": [
    "nameList=[]\n",
    "for value in df['Actors']:\n",
    "    try:\n",
    "        for name in value:\n",
    "            if name not in nameList: nameList.append(name)\n",
    "    except:\n",
    "        pass\n",
    "for value in df['Characters']:\n",
    "    try:\n",
    "        for name in value:\n",
    "            if name not in nameList: nameList.append(name)\n",
    "    except:\n",
    "        pass"
   ]
  },
  {
   "cell_type": "code",
   "execution_count": 42,
   "metadata": {},
   "outputs": [
    {
     "name": "stdout",
     "output_type": "stream",
     "text": [
      "454\n"
     ]
    }
   ],
   "source": [
    "print(len(nameList))"
   ]
  },
  {
   "cell_type": "code",
   "execution_count": 10,
   "metadata": {},
   "outputs": [],
   "source": [
    "#df['Year']"
   ]
  },
  {
   "cell_type": "code",
   "execution_count": 11,
   "metadata": {},
   "outputs": [],
   "source": [
    "#print(json.dumps(requests.get(url+\"Harry Potter and the Deathly Hallows Part 2\"+api_key).json(),indent=4,sort_keys=True))"
   ]
  },
  {
   "cell_type": "code",
   "execution_count": null,
   "metadata": {},
   "outputs": [],
   "source": []
  }
 ],
 "metadata": {
  "kernelspec": {
   "display_name": "Python [conda env:PythonData] *",
   "language": "python",
   "name": "conda-env-PythonData-py"
  },
  "language_info": {
   "codemirror_mode": {
    "name": "ipython",
    "version": 3
   },
   "file_extension": ".py",
   "mimetype": "text/x-python",
   "name": "python",
   "nbconvert_exporter": "python",
   "pygments_lexer": "ipython3",
   "version": "3.6.8"
  }
 },
 "nbformat": 4,
 "nbformat_minor": 2
}
