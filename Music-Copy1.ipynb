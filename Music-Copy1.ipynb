{
 "cells": [
  {
   "cell_type": "code",
   "execution_count": 14,
   "metadata": {},
   "outputs": [],
   "source": [
    "import pandas as pd\n",
    "import billboard\n"
   ]
  },
  {
   "cell_type": "code",
   "execution_count": 15,
   "metadata": {},
   "outputs": [],
   "source": [
    "chart = billboard.ChartData('hot-100')"
   ]
  },
  {
   "cell_type": "code",
   "execution_count": 16,
   "metadata": {},
   "outputs": [
    {
     "name": "stdout",
     "output_type": "stream",
     "text": [
      "hot-100 chart from 2019-07-06\n",
      "-----------------------------\n",
      "1. 'Old Town Road' by Lil Nas X Featuring Billy Ray Cyrus\n",
      "2. 'Senorita' by Shawn Mendes & Camila Cabello\n",
      "3. 'Bad Guy' by Billie Eilish\n",
      "4. 'Talk' by Khalid\n",
      "5. 'I Don't Care' by Ed Sheeran & Justin Bieber\n",
      "6. 'Sucker' by Jonas Brothers\n",
      "7. 'Suge' by DaBaby\n",
      "8. 'Money In The Grave' by Drake Featuring Rick Ross\n",
      "9. 'No Guidance' by Chris Brown Featuring Drake\n",
      "10. 'Wow.' by Post Malone\n",
      "11. 'Truth Hurts' by Lizzo\n",
      "12. 'Sunflower (Spider-Man: Into The Spider-Verse)' by Post Malone & Swae Lee\n",
      "13. 'You Need To Calm Down' by Taylor Swift\n",
      "14. 'If I Can't Have You' by Shawn Mendes\n",
      "15. 'Dancing With A Stranger' by Sam Smith & Normani\n",
      "16. 'Panini' by Lil Nas X\n",
      "17. 'Without Me' by Halsey\n",
      "18. 'God's Country' by Blake Shelton\n",
      "19. 'Pop Out' by Polo G Featuring Lil Tjay\n",
      "20. 'MEGATRON' by Nicki Minaj\n",
      "21. 'Sweet But Psycho' by Ava Max\n",
      "22. 'Rodeo' by Lil Nas X & Cardi B\n",
      "23. '7 Rings' by Ariana Grande\n",
      "24. 'Hey Look Ma, I Made It' by Panic! At The Disco\n",
      "25. 'Happier' by Marshmello & Bastille\n",
      "26. 'Rumor' by Lee Brice\n",
      "27. 'Never Really Over' by Katy Perry\n",
      "28. 'Whiskey Glasses' by Morgan Wallen\n",
      "29. 'The Git Up' by Blanco Brown\n",
      "30. 'The London' by Young Thug, J. Cole & Travis Scott\n",
      "31. 'ME!' by Taylor Swift Featuring Brendon Urie\n",
      "32. 'High Hopes' by Panic! At The Disco\n",
      "33. 'Beer Never Broke My Heart' by Luke Combs\n",
      "34. 'Act Up' by City Girls\n",
      "35. 'Eastside' by benny blanco, Halsey & Khalid\n",
      "36. 'Middle Child' by J. Cole\n",
      "37. 'Con Calma' by Daddy Yankee & Katy Perry Featuring Snow\n",
      "38. 'Pure Water' by Mustard & Migos\n",
      "39. 'Cross Me' by Ed Sheeran Featuring Chance The Rapper & PnB Rock\n",
      "40. 'Going Bad' by Meek Mill Featuring Drake\n",
      "41. 'Better' by Khalid\n",
      "42. 'Shallow' by Lady Gaga & Bradley Cooper\n",
      "43. 'Press' by Cardi B\n",
      "44. 'Speechless' by Dan + Shay\n",
      "45. 'Sicko Mode' by Travis Scott\n",
      "46. 'Earfquake' by Tyler, The Creator\n",
      "47. 'Look Back At It' by A Boogie Wit da Hoodie\n",
      "48. 'Shotta Flow' by NLE Choppa\n",
      "49. 'Break Up With Your Girlfriend, I'm Bored' by Ariana Grande\n",
      "50. 'Nightmare' by Halsey\n",
      "51. 'Ran$om' by Lil Tecca\n",
      "52. 'Go Loko' by YG, Tyga & Jon Z\n",
      "53. 'Someone You Loved' by Lewis Capaldi\n",
      "54. 'Look What God Gave Her' by Thomas Rhett\n",
      "55. 'Cool' by Jonas Brothers\n",
      "56. 'Clout' by Offset Featuring Cardi B\n",
      "57. 'One Thing Right' by Marshmello & Kane Brown\n",
      "58. 'Good As You' by Kane Brown\n",
      "59. 'Worth It' by YK Osiris\n",
      "60. 'Just Us' by DJ Khaled Featuring SZA\n",
      "61. 'Knockin' Boots' by Luke Bryan\n",
      "62. 'Walk Me Home' by P!nk\n",
      "63. 'GIRL' by Maren Morris\n",
      "64. 'Easier' by 5 Seconds Of Summer\n",
      "65. 'Please Me' by Cardi B & Bruno Mars\n",
      "66. 'Some Of It' by Eric Church\n",
      "67. 'All To Myself' by Dan + Shay\n",
      "68. 'Callaita' by Bad Bunny & Tainy\n",
      "69. '24/7' by Meek Mill Featuring Ella Mai\n",
      "70. 'It's You' by Ali Gatie\n",
      "71. 'Rearview Town' by Jason Aldean\n",
      "72. 'Out The Mud' by Lil Baby Featuring Future\n",
      "73. 'Call You Mine' by The Chainsmokers & Bebe Rexha\n",
      "74. 'Girls Need Love' by Summer Walker X Drake\n",
      "75. 'Soltera' by Lunay, Daddy Yankee & Bad Bunny\n",
      "76. 'Talk You Out Of It' by Florida Georgia Line\n",
      "77. 'Trampoline' by SHAED\n",
      "78. 'Bacc At It Again' by Yella Beezy, Gucci Mane & Quavo\n",
      "79. 'Before I Let Go' by Beyonce\n",
      "80. 'Wish Wish' by DJ Khaled Featuring Cardi B & 21 Savage\n",
      "81. 'Raised On Country' by Chris Young\n",
      "82. 'Wake Up' by Travis Scott\n",
      "83. 'Otro Trago' by Sech Featuring Darell\n",
      "84. 'Eyes On You' by Chase Rice\n",
      "85. 'La La Land' by Bryce Vine Featuring YG\n",
      "86. 'Ocean Eyes' by Billie Eilish\n",
      "87. 'Here With Me' by Marshmello Featuring CHVRCHES\n",
      "88. 'Love Someone' by Brett Eldredge\n",
      "89. 'Sanguine Paradise' by Lil Uzi Vert\n",
      "90. 'Love Ain't' by Eli Young Band\n",
      "91. 'Calma' by Pedro Capo X Farruko\n",
      "92. 'Only Human' by Jonas Brothers\n",
      "93. 'The Ones That Didn't Make It Back Home' by Justin Moore\n",
      "94. 'Big Ole Freak' by Megan Thee Stallion\n",
      "95. 'Tap' by NAV Featuring Meek Mill\n",
      "96. 'You Stay' by DJ Khaled Featuring Meek Mill, J Balvin, Lil Baby & Jeremih\n",
      "97. 'Baila Baila Baila' by Ozuna x Daddy Yankee x J Balvin x Farruko x Anuel AA\n",
      "98. 'Cash Shit' by Megan Thee Stallion Featuring DaBaby\n",
      "99. 'Omerta' by Drake\n",
      "100. 'Summer Days' by Martin Garrix Featuring Macklemore & Patrick Stump\n"
     ]
    }
   ],
   "source": [
    "print(chart)"
   ]
  },
  {
   "cell_type": "code",
   "execution_count": 17,
   "metadata": {},
   "outputs": [],
   "source": [
    "title_list=[]\n",
    "artist_list=[]\n",
    "date_list=[]\n",
    "\n",
    "while chart.previousDate>\"2018\": \n",
    "    if chart[0].title not in title_list: \n",
    "        title_list.append(chart[0].title)\n",
    "        artist_list.append(chart[0].artist)\n",
    "        date_list.append(chart.previousDate)\n",
    "    chart = billboard.ChartData('hot-100', chart.previousDate)"
   ]
  },
  {
   "cell_type": "code",
   "execution_count": 18,
   "metadata": {},
   "outputs": [
    {
     "name": "stdout",
     "output_type": "stream",
     "text": [
      "['Old Town Road', '7 Rings', 'Sucker', 'Shallow', 'Without Me', 'Sunflower (Spider-Man: Into The Spider-Verse)', 'Thank U, Next', 'Sicko Mode', 'Girls Like You', 'In My Feelings', 'Nice For What', 'I Like It', 'Sad!', 'Psycho', 'This Is America', \"God's Plan\", 'Havana', 'Perfect']\n"
     ]
    }
   ],
   "source": [
    "print(title_list)"
   ]
  },
  {
   "cell_type": "code",
   "execution_count": 19,
   "metadata": {},
   "outputs": [
    {
     "name": "stdout",
     "output_type": "stream",
     "text": [
      "['Lil Nas X Featuring Billy Ray Cyrus', 'Ariana Grande', 'Jonas Brothers', 'Lady Gaga & Bradley Cooper', 'Halsey', 'Post Malone & Swae Lee', 'Ariana Grande', 'Travis Scott', 'Maroon 5 Featuring Cardi B', 'Drake', 'Drake', 'Cardi B, Bad Bunny & J Balvin', 'XXXTENTACION', 'Post Malone Featuring Ty Dolla $ign', 'Childish Gambino', 'Drake', 'Camila Cabello Featuring Young Thug', 'Ed Sheeran']\n"
     ]
    }
   ],
   "source": [
    "\n",
    "print(artist_list)"
   ]
  },
  {
   "cell_type": "code",
   "execution_count": 20,
   "metadata": {},
   "outputs": [
    {
     "name": "stdout",
     "output_type": "stream",
     "text": [
      "['2019-06-29', '2019-03-30', '2019-03-09', '2019-03-02', '2019-01-19', '2019-01-12', '2018-12-29', '2018-12-01', '2018-11-03', '2018-09-15', '2018-07-07', '2018-06-30', '2018-06-23', '2018-06-09', '2018-05-19', '2018-04-07', '2018-01-20', '2018-01-13']\n"
     ]
    }
   ],
   "source": [
    "print(date_list)"
   ]
  },
  {
   "cell_type": "code",
   "execution_count": 21,
   "metadata": {},
   "outputs": [
    {
     "data": {
      "text/html": [
       "<div>\n",
       "<style scoped>\n",
       "    .dataframe tbody tr th:only-of-type {\n",
       "        vertical-align: middle;\n",
       "    }\n",
       "\n",
       "    .dataframe tbody tr th {\n",
       "        vertical-align: top;\n",
       "    }\n",
       "\n",
       "    .dataframe thead th {\n",
       "        text-align: right;\n",
       "    }\n",
       "</style>\n",
       "<table border=\"1\" class=\"dataframe\">\n",
       "  <thead>\n",
       "    <tr style=\"text-align: right;\">\n",
       "      <th></th>\n",
       "      <th>Title</th>\n",
       "      <th>Artist</th>\n",
       "      <th>Date</th>\n",
       "    </tr>\n",
       "  </thead>\n",
       "  <tbody>\n",
       "    <tr>\n",
       "      <th>0</th>\n",
       "      <td>Old Town Road</td>\n",
       "      <td>Lil Nas X Featuring Billy Ray Cyrus</td>\n",
       "      <td>2019-06-29</td>\n",
       "    </tr>\n",
       "    <tr>\n",
       "      <th>1</th>\n",
       "      <td>7 Rings</td>\n",
       "      <td>Ariana Grande</td>\n",
       "      <td>2019-03-30</td>\n",
       "    </tr>\n",
       "    <tr>\n",
       "      <th>2</th>\n",
       "      <td>Sucker</td>\n",
       "      <td>Jonas Brothers</td>\n",
       "      <td>2019-03-09</td>\n",
       "    </tr>\n",
       "    <tr>\n",
       "      <th>3</th>\n",
       "      <td>Shallow</td>\n",
       "      <td>Lady Gaga &amp; Bradley Cooper</td>\n",
       "      <td>2019-03-02</td>\n",
       "    </tr>\n",
       "    <tr>\n",
       "      <th>4</th>\n",
       "      <td>Without Me</td>\n",
       "      <td>Halsey</td>\n",
       "      <td>2019-01-19</td>\n",
       "    </tr>\n",
       "  </tbody>\n",
       "</table>\n",
       "</div>"
      ],
      "text/plain": [
       "           Title                               Artist        Date\n",
       "0  Old Town Road  Lil Nas X Featuring Billy Ray Cyrus  2019-06-29\n",
       "1        7 Rings                        Ariana Grande  2019-03-30\n",
       "2         Sucker                       Jonas Brothers  2019-03-09\n",
       "3        Shallow           Lady Gaga & Bradley Cooper  2019-03-02\n",
       "4     Without Me                               Halsey  2019-01-19"
      ]
     },
     "execution_count": 21,
     "metadata": {},
     "output_type": "execute_result"
    }
   ],
   "source": [
    "summary_df=pd.DataFrame({\"Title\": title_list,\n",
    "                        \"Artist\": artist_list,\n",
    "                        \"Date\": date_list})\n",
    "summary_df.head()"
   ]
  },
  {
   "cell_type": "code",
   "execution_count": 22,
   "metadata": {},
   "outputs": [
    {
     "data": {
      "text/plain": [
       "0              Lil\n",
       "1           Ariana\n",
       "2            Jonas\n",
       "3             Lady\n",
       "4           Halsey\n",
       "5             Post\n",
       "6           Ariana\n",
       "7           Travis\n",
       "8           Maroon\n",
       "9            Drake\n",
       "10           Drake\n",
       "11           Cardi\n",
       "12    XXXTENTACION\n",
       "13            Post\n",
       "14        Childish\n",
       "15           Drake\n",
       "16          Camila\n",
       "17              Ed\n",
       "Name: 0, dtype: object"
      ]
     },
     "execution_count": 22,
     "metadata": {},
     "output_type": "execute_result"
    }
   ],
   "source": [
    "\n",
    "first_name=summary_df.Artist.str.split(expand=True,)[0]\n",
    "first_name"
   ]
  },
  {
   "cell_type": "code",
   "execution_count": 23,
   "metadata": {},
   "outputs": [
    {
     "data": {
      "text/html": [
       "<div>\n",
       "<style scoped>\n",
       "    .dataframe tbody tr th:only-of-type {\n",
       "        vertical-align: middle;\n",
       "    }\n",
       "\n",
       "    .dataframe tbody tr th {\n",
       "        vertical-align: top;\n",
       "    }\n",
       "\n",
       "    .dataframe thead th {\n",
       "        text-align: right;\n",
       "    }\n",
       "</style>\n",
       "<table border=\"1\" class=\"dataframe\">\n",
       "  <thead>\n",
       "    <tr style=\"text-align: right;\">\n",
       "      <th></th>\n",
       "      <th>Title</th>\n",
       "      <th>Artist</th>\n",
       "      <th>First Name</th>\n",
       "      <th>Date</th>\n",
       "    </tr>\n",
       "  </thead>\n",
       "  <tbody>\n",
       "    <tr>\n",
       "      <th>0</th>\n",
       "      <td>Old Town Road</td>\n",
       "      <td>Lil Nas X Featuring Billy Ray Cyrus</td>\n",
       "      <td>Lil</td>\n",
       "      <td>2019-06-29</td>\n",
       "    </tr>\n",
       "    <tr>\n",
       "      <th>1</th>\n",
       "      <td>7 Rings</td>\n",
       "      <td>Ariana Grande</td>\n",
       "      <td>Ariana</td>\n",
       "      <td>2019-03-30</td>\n",
       "    </tr>\n",
       "    <tr>\n",
       "      <th>2</th>\n",
       "      <td>Sucker</td>\n",
       "      <td>Jonas Brothers</td>\n",
       "      <td>Jonas</td>\n",
       "      <td>2019-03-09</td>\n",
       "    </tr>\n",
       "    <tr>\n",
       "      <th>3</th>\n",
       "      <td>Shallow</td>\n",
       "      <td>Lady Gaga &amp; Bradley Cooper</td>\n",
       "      <td>Lady</td>\n",
       "      <td>2019-03-02</td>\n",
       "    </tr>\n",
       "    <tr>\n",
       "      <th>4</th>\n",
       "      <td>Without Me</td>\n",
       "      <td>Halsey</td>\n",
       "      <td>Halsey</td>\n",
       "      <td>2019-01-19</td>\n",
       "    </tr>\n",
       "  </tbody>\n",
       "</table>\n",
       "</div>"
      ],
      "text/plain": [
       "           Title                               Artist First Name        Date\n",
       "0  Old Town Road  Lil Nas X Featuring Billy Ray Cyrus        Lil  2019-06-29\n",
       "1        7 Rings                        Ariana Grande     Ariana  2019-03-30\n",
       "2         Sucker                       Jonas Brothers      Jonas  2019-03-09\n",
       "3        Shallow           Lady Gaga & Bradley Cooper       Lady  2019-03-02\n",
       "4     Without Me                               Halsey     Halsey  2019-01-19"
      ]
     },
     "execution_count": 23,
     "metadata": {},
     "output_type": "execute_result"
    }
   ],
   "source": [
    "summary_df_update3=pd.DataFrame({\"Title\": title_list,\n",
    "                        \"Artist\": artist_list,\n",
    "                        \"First Name\": first_name,\n",
    "                        \"Date\": date_list})\n",
    "summary_df_update3.head()"
   ]
  },
  {
   "cell_type": "code",
   "execution_count": 24,
   "metadata": {},
   "outputs": [],
   "source": [
    "summary_df_update3.to_csv('summary_df_update3.csv',index=False)"
   ]
  },
  {
   "cell_type": "code",
   "execution_count": null,
   "metadata": {},
   "outputs": [],
   "source": []
  }
 ],
 "metadata": {
  "kernelspec": {
   "display_name": "Python 3",
   "language": "python",
   "name": "python3"
  },
  "language_info": {
   "codemirror_mode": {
    "name": "ipython",
    "version": 3
   },
   "file_extension": ".py",
   "mimetype": "text/x-python",
   "name": "python",
   "nbconvert_exporter": "python",
   "pygments_lexer": "ipython3",
   "version": "3.7.3"
  }
 },
 "nbformat": 4,
 "nbformat_minor": 2
}
