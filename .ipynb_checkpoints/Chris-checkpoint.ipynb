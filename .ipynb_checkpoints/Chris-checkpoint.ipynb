{
 "cells": [
  {
   "cell_type": "code",
   "execution_count": 1,
   "metadata": {},
   "outputs": [],
   "source": [
    "%matplotlib inline"
   ]
  },
  {
   "cell_type": "code",
   "execution_count": 2,
   "metadata": {},
   "outputs": [],
   "source": [
    "import pandas as pd\n",
    "import numpy as np\n",
    "import matplotlib.pyplot as plt"
   ]
  },
  {
   "cell_type": "code",
   "execution_count": 3,
   "metadata": {},
   "outputs": [],
   "source": [
    "# create an empty data frame\n",
    "names_df = pd.DataFrame(columns=['yob','name','gender','total'])\n",
    "\n",
    "# loop through the SS name text files\n",
    "for yob in range(1920,2019):\n",
    "    # read the data into the import data frame\n",
    "    import_df = pd.read_csv(f'names/yob{yob}.txt',header=None,names=['name','gender','total'])\n",
    "    # add the yob column\n",
    "    import_df['yob'] = yob\n",
    "    # concat the import data frame to the big data frame\n",
    "    names_df = pd.concat([names_df,import_df],sort=True)\n",
    "\n",
    "# once the data has been read in, convert yob and count to int\n",
    "names_df['total']=names_df['total'].astype(int)\n",
    "names_df['yob']=names_df['yob'].astype(int)\n",
    "\n",
    "# this takes a few seconds!"
   ]
  },
  {
   "cell_type": "code",
   "execution_count": 4,
   "metadata": {},
   "outputs": [],
   "source": [
    "# line plot function\n",
    "def getPlot(name,gender,center):\n",
    "    # get a dataframe for just that name and gender\n",
    "    plot_df = names_df.loc[(names_df['name']==name) & (names_df['gender']==gender) ]\n",
    "    \n",
    "    # set the series to plot\n",
    "    x_axis = plot_df['yob']\n",
    "    values = plot_df['total']\n",
    "    # create the plot\n",
    "    plt.figure(figsize=[15,5])\n",
    "    plt.plot(x_axis,values,color = 'coral',marker = 'o')\n",
    "    \n",
    "    # set the axes limits and ticks\n",
    "    plt.ylim(0,max(values)*1.05)\n",
    "    plt.xlim(center-30,center+30)\n",
    "    plt.xticks(np.arange(center-30,center+30,10))\n",
    "    # draw a horizontal line at the center\n",
    "    plt.vlines(center,0,max(values)*1.05, color = 'blue')\n",
    "    \n",
    "    # other chart elements\n",
    "    plt.title(f'Popularity of \"{name}\" ({gender})')\n",
    "    plt.ylabel('Count')\n",
    "    plt.xlabel('Year')\n",
    "    plt.grid()\n",
    "    plt.savefig(f'plots/{name}-{gender}.png', dpi=600)"
   ]
  },
  {
   "cell_type": "code",
   "execution_count": 5,
   "metadata": {},
   "outputs": [],
   "source": [
    "sorted_df = names_df.sort_values(['gender','name'],ascending=[True,True])\n",
    "grouped_df = sorted_df.groupby(['gender','name'])\n",
    "pct = grouped_df['total'].pct_change()\n",
    "sorted_df['pct']=pct\n"
   ]
  },
  {
   "cell_type": "code",
   "execution_count": 6,
   "metadata": {},
   "outputs": [],
   "source": [
    "# sorted_df.head(200)\n",
    "# there is an issue here caused by missing rows where a name had a count of 0 for a given year.\n",
    "# for pct_change(), we'd have to add the missing rows\n",
    "# can do this by joining to a dataframe with just a dummy key and the entire range of years."
   ]
  },
  {
   "cell_type": "code",
   "execution_count": 7,
   "metadata": {},
   "outputs": [],
   "source": [
    "def getPlot2(name,gender,center):\n",
    "    # get a dataframe for that year and gender\n",
    "    plot_df = sorted_df.loc[(sorted_df['yob']==center) & (sorted_df['gender']==gender)]\n",
    "    plot_df1 = sorted_df.loc[(sorted_df['yob']==center) & (sorted_df['gender']==gender) & (sorted_df['name']==name)]\n",
    "\n",
    "    # set the series to plot\n",
    "    x_axis = plot_df['total']\n",
    "    values = plot_df['pct']\n",
    "    x_focus = plot_df1['total']\n",
    "    value_focus = plot_df1['pct']\n",
    "    \n",
    "    # create the plot\n",
    "    plt.figure(figsize=[15,5])\n",
    "    plot1 = plt.scatter(x_axis,values,color = 'coral',marker = 'o')\n",
    "    Plot2 = plt.scatter(x_focus,value_focus, color = 'blue',marker = 's')\n",
    "\n",
    "    # other chart elements\n",
    "    plt.title(f'Popularity of \"{name}\" ({gender}) in {center}')\n",
    "    plt.ylabel('Pct Change from Prior Year')\n",
    "    plt.xlabel('Count')\n",
    "    plt.xlim(0,20000)\n",
    "    plt.grid()\n",
    "    #plt.savefig(f'plots/{name}-{gender}.png', dpi=600)"
   ]
  },
  {
   "cell_type": "code",
   "execution_count": 8,
   "metadata": {},
   "outputs": [
    {
     "name": "stdout",
     "output_type": "stream",
     "text": [
      "      gender     name  total   yob        pct\n",
      "28         F    Jaime   7837  1976   7.565027\n",
      "53         F    Jenna   5879  1984   4.033390\n",
      "68         F   Mariah   5192  1991   3.707162\n",
      "90         F   Selena   3824  1995   3.170120\n",
      "106        F    Tammy   4364  1957  15.914729\n",
      "19914      M  Bentley   3771  2010   6.224138\n",
      "7633       M   Darrin   3258  1965   3.072500\n",
      "14633      M    Ethan   4055  1989   3.530726\n",
      "19329      M     Jase   4552  2013   3.035461\n",
      "15873      M  Tristan   3088  1995   5.289206\n"
     ]
    }
   ],
   "source": [
    "filter_df = sorted_df.loc[(sorted_df['total']>3000) & (sorted_df['pct']>3.00)]\n",
    "print(filter_df)    "
   ]
  },
  {
   "cell_type": "code",
   "execution_count": 9,
   "metadata": {},
   "outputs": [],
   "source": [
    "# for x in filter_df.iterrows():\n",
    "#     getPlot(x[1][1],x[1][0],x[1][3])"
   ]
  },
  {
   "cell_type": "code",
   "execution_count": 10,
   "metadata": {},
   "outputs": [
    {
     "name": "stdout",
     "output_type": "stream",
     "text": [
      "Name? >>> Dawson\n",
      "Gender? M/F >>> M\n",
      "Year? >>> 1998\n"
     ]
    }
   ],
   "source": [
    "name = input('Name? >>> ')\n",
    "gender = input('Gender? M/F >>> ')\n",
    "center = int(input('Year? >>> '))"
   ]
  },
  {
   "cell_type": "code",
   "execution_count": 11,
   "metadata": {},
   "outputs": [
    {
     "data": {
      "image/png": "[encoded data removed]",
      "text/plain": [
       "<Figure size 1080x360 with 1 Axes>"
      ]
     },
     "metadata": {
      "needs_background": "light"
     },
     "output_type": "display_data"
    }
   ],
   "source": [
    "getPlot(name,gender,center)"
   ]
  },
  {
   "cell_type": "code",
   "execution_count": 12,
   "metadata": {},
   "outputs": [
    {
     "data": {
      "image/png": "[encoded data removed]",
      "text/plain": [
       "<Figure size 1080x360 with 1 Axes>"
      ]
     },
     "metadata": {
      "needs_background": "light"
     },
     "output_type": "display_data"
    }
   ],
   "source": [
    "getPlot2(name,gender,center)"
   ]
  },
  {
   "cell_type": "code",
   "execution_count": null,
   "metadata": {},
   "outputs": [],
   "source": []
  }
 ],
 "metadata": {
  "kernelspec": {
   "display_name": "Python [conda env:PythonData]",
   "language": "python",
   "name": "conda-env-PythonData-py"
  },
  "language_info": {
   "codemirror_mode": {
    "name": "ipython",
    "version": 3
   },
   "file_extension": ".py",
   "mimetype": "text/x-python",
   "name": "python",
   "nbconvert_exporter": "python",
   "pygments_lexer": "ipython3",
   "version": "3.6.8"
  }
 },
 "nbformat": 4,
 "nbformat_minor": 2
}
