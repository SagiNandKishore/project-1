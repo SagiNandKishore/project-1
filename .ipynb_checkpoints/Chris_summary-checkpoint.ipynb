{
 "cells": [
  {
   "cell_type": "code",
   "execution_count": 1,
   "metadata": {},
   "outputs": [],
   "source": [
    "import matplotlib.pyplot as plt\n",
    "import numpy as np\n",
    "import pandas as pd"
   ]
  },
  {
   "cell_type": "code",
   "execution_count": 2,
   "metadata": {},
   "outputs": [
    {
     "data": {
      "text/plain": [
       "array(['music', 'tv', 'movie', 'other', 'unknown'], dtype=object)"
      ]
     },
     "execution_count": 2,
     "metadata": {},
     "output_type": "execute_result"
    }
   ],
   "source": [
    "df = pd.read_excel('big_spikes.xlsx')\n",
    "df['Category'].unique()"
   ]
  },
  {
   "cell_type": "code",
   "execution_count": 3,
   "metadata": {},
   "outputs": [],
   "source": [
    "music=[]\n",
    "tv=[]\n",
    "movie=[]\n",
    "unknown=[]\n",
    "other=[]\n",
    "\n",
    "for dec in np.arange(1890,2020,10):\n",
    "    music.append(df.loc[(df['Category']=='music') & (df['Decade'] == dec)]['Name'].count())\n",
    "    tv.append(df.loc[(df['Category']=='tv') & (df['Decade'] == dec)]['Name'].count())\n",
    "    movie.append(df.loc[(df['Category']=='movie') & (df['Decade'] == dec)]['Name'].count())\n",
    "    other.append(df.loc[(df['Category']=='other') & (df['Decade'] == dec)]['Name'].count())\n",
    "    unknown.append(df.loc[(df['Category']=='unknown') & (df['Decade'] == dec)]['Name'].count())\n",
    "\n"
   ]
  },
  {
   "cell_type": "code",
   "execution_count": 4,
   "metadata": {},
   "outputs": [
    {
     "data": {
      "image/png": "[encoded data removed]",
      "text/plain": [
       "<Figure size 1440x360 with 1 Axes>"
      ]
     },
     "metadata": {
      "needs_background": "light"
     },
     "output_type": "display_data"
    }
   ],
   "source": [
    "# set width of bar\n",
    "plt.figure(figsize=[20,5])\n",
    "\n",
    "barWidth = .25\n",
    "\n",
    "# Set position of bar on X axis\n",
    "r1 = np.arange(len(music))\n",
    "r2 = [x + barWidth for x in r1]\n",
    "r3 = [x + barWidth for x in r2]\n",
    "r4 = [x + barWidth for x in r3]\n",
    "# r5 = [x + barWidth for x in r4]\n",
    "\n",
    "\n",
    "# Make the plot\n",
    "plt.bar(r1, music, color='green', width=barWidth, edgecolor='white', label='music')\n",
    "plt.bar(r2, tv, color='gold', width=barWidth, edgecolor='white', label='tv')\n",
    "plt.bar(r3, movie, color='red', width=barWidth, edgecolor='white', label='movie')\n",
    "plt.bar(r4, other, color='blue', width=barWidth, edgecolor='white', label='other')\n",
    "# plt.bar(r5, unknown, color='purple', width=barWidth, edgecolor='white', label='unknown')\n",
    "\n",
    "# Add xticks on the middle of the group bars\n",
    "plt.xlabel('decade', fontweight='bold')\n",
    "plt.ylabel('count', fontweight='bold')\n",
    "plt.xticks([r + barWidth for r in range(len(music))],np.arange(1890,2020,10))\n",
    "\n",
    "# Create legend & Show graphic\n",
    "plt.legend()\n",
    "plt.show()"
   ]
  },
  {
   "cell_type": "code",
   "execution_count": null,
   "metadata": {},
   "outputs": [],
   "source": []
  }
 ],
 "metadata": {
  "kernelspec": {
   "display_name": "Python [conda env:PythonData] *",
   "language": "python",
   "name": "conda-env-PythonData-py"
  },
  "language_info": {
   "codemirror_mode": {
    "name": "ipython",
    "version": 3
   },
   "file_extension": ".py",
   "mimetype": "text/x-python",
   "name": "python",
   "nbconvert_exporter": "python",
   "pygments_lexer": "ipython3",
   "version": "3.6.8"
  }
 },
 "nbformat": 4,
 "nbformat_minor": 2
}
