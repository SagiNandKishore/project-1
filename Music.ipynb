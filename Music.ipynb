{
 "cells": [
  {
   "cell_type": "code",
   "execution_count": 74,
   "metadata": {},
   "outputs": [],
   "source": [
    "import pandas as pd\n",
    "import billboard\n"
   ]
  },
  {
   "cell_type": "code",
   "execution_count": 75,
   "metadata": {},
   "outputs": [],
   "source": [
    "chart = billboard.ChartData('hot-100')"
   ]
  },
  {
   "cell_type": "code",
   "execution_count": 76,
   "metadata": {},
   "outputs": [
    {
     "name": "stdout",
     "output_type": "stream",
     "text": [
      "hot-100 chart from 2019-07-06\n",
      "-----------------------------\n",
      "1. 'Old Town Road' by Lil Nas X Featuring Billy Ray Cyrus\n",
      "2. 'Senorita' by Shawn Mendes & Camila Cabello\n",
      "3. 'Bad Guy' by Billie Eilish\n",
      "4. 'Talk' by Khalid\n",
      "5. 'I Don't Care' by Ed Sheeran & Justin Bieber\n",
      "6. 'Sucker' by Jonas Brothers\n",
      "7. 'Suge' by DaBaby\n",
      "8. 'Money In The Grave' by Drake Featuring Rick Ross\n",
      "9. 'No Guidance' by Chris Brown Featuring Drake\n",
      "10. 'Wow.' by Post Malone\n",
      "11. 'Truth Hurts' by Lizzo\n",
      "12. 'Sunflower (Spider-Man: Into The Spider-Verse)' by Post Malone & Swae Lee\n",
      "13. 'You Need To Calm Down' by Taylor Swift\n",
      "14. 'If I Can't Have You' by Shawn Mendes\n",
      "15. 'Dancing With A Stranger' by Sam Smith & Normani\n",
      "16. 'Panini' by Lil Nas X\n",
      "17. 'Without Me' by Halsey\n",
      "18. 'God's Country' by Blake Shelton\n",
      "19. 'Pop Out' by Polo G Featuring Lil Tjay\n",
      "20. 'MEGATRON' by Nicki Minaj\n",
      "21. 'Sweet But Psycho' by Ava Max\n",
      "22. 'Rodeo' by Lil Nas X & Cardi B\n",
      "23. '7 Rings' by Ariana Grande\n",
      "24. 'Hey Look Ma, I Made It' by Panic! At The Disco\n",
      "25. 'Happier' by Marshmello & Bastille\n",
      "26. 'Rumor' by Lee Brice\n",
      "27. 'Never Really Over' by Katy Perry\n",
      "28. 'Whiskey Glasses' by Morgan Wallen\n",
      "29. 'The Git Up' by Blanco Brown\n",
      "30. 'The London' by Young Thug, J. Cole & Travis Scott\n",
      "31. 'ME!' by Taylor Swift Featuring Brendon Urie\n",
      "32. 'High Hopes' by Panic! At The Disco\n",
      "33. 'Beer Never Broke My Heart' by Luke Combs\n",
      "34. 'Act Up' by City Girls\n",
      "35. 'Eastside' by benny blanco, Halsey & Khalid\n",
      "36. 'Middle Child' by J. Cole\n",
      "37. 'Con Calma' by Daddy Yankee & Katy Perry Featuring Snow\n",
      "38. 'Pure Water' by Mustard & Migos\n",
      "39. 'Cross Me' by Ed Sheeran Featuring Chance The Rapper & PnB Rock\n",
      "40. 'Going Bad' by Meek Mill Featuring Drake\n",
      "41. 'Better' by Khalid\n",
      "42. 'Shallow' by Lady Gaga & Bradley Cooper\n",
      "43. 'Press' by Cardi B\n",
      "44. 'Speechless' by Dan + Shay\n",
      "45. 'Sicko Mode' by Travis Scott\n",
      "46. 'Earfquake' by Tyler, The Creator\n",
      "47. 'Look Back At It' by A Boogie Wit da Hoodie\n",
      "48. 'Shotta Flow' by NLE Choppa\n",
      "49. 'Break Up With Your Girlfriend, I'm Bored' by Ariana Grande\n",
      "50. 'Nightmare' by Halsey\n",
      "51. 'Ran$om' by Lil Tecca\n",
      "52. 'Go Loko' by YG, Tyga & Jon Z\n",
      "53. 'Someone You Loved' by Lewis Capaldi\n",
      "54. 'Look What God Gave Her' by Thomas Rhett\n",
      "55. 'Cool' by Jonas Brothers\n",
      "56. 'Clout' by Offset Featuring Cardi B\n",
      "57. 'One Thing Right' by Marshmello & Kane Brown\n",
      "58. 'Good As You' by Kane Brown\n",
      "59. 'Worth It' by YK Osiris\n",
      "60. 'Just Us' by DJ Khaled Featuring SZA\n",
      "61. 'Knockin' Boots' by Luke Bryan\n",
      "62. 'Walk Me Home' by P!nk\n",
      "63. 'GIRL' by Maren Morris\n",
      "64. 'Easier' by 5 Seconds Of Summer\n",
      "65. 'Please Me' by Cardi B & Bruno Mars\n",
      "66. 'Some Of It' by Eric Church\n",
      "67. 'All To Myself' by Dan + Shay\n",
      "68. 'Callaita' by Bad Bunny & Tainy\n",
      "69. '24/7' by Meek Mill Featuring Ella Mai\n",
      "70. 'It's You' by Ali Gatie\n",
      "71. 'Rearview Town' by Jason Aldean\n",
      "72. 'Out The Mud' by Lil Baby Featuring Future\n",
      "73. 'Call You Mine' by The Chainsmokers & Bebe Rexha\n",
      "74. 'Girls Need Love' by Summer Walker X Drake\n",
      "75. 'Soltera' by Lunay, Daddy Yankee & Bad Bunny\n",
      "76. 'Talk You Out Of It' by Florida Georgia Line\n",
      "77. 'Trampoline' by SHAED\n",
      "78. 'Bacc At It Again' by Yella Beezy, Gucci Mane & Quavo\n",
      "79. 'Before I Let Go' by Beyonce\n",
      "80. 'Wish Wish' by DJ Khaled Featuring Cardi B & 21 Savage\n",
      "81. 'Raised On Country' by Chris Young\n",
      "82. 'Wake Up' by Travis Scott\n",
      "83. 'Otro Trago' by Sech Featuring Darell\n",
      "84. 'Eyes On You' by Chase Rice\n",
      "85. 'La La Land' by Bryce Vine Featuring YG\n",
      "86. 'Ocean Eyes' by Billie Eilish\n",
      "87. 'Here With Me' by Marshmello Featuring CHVRCHES\n",
      "88. 'Love Someone' by Brett Eldredge\n",
      "89. 'Sanguine Paradise' by Lil Uzi Vert\n",
      "90. 'Love Ain't' by Eli Young Band\n",
      "91. 'Calma' by Pedro Capo X Farruko\n",
      "92. 'Only Human' by Jonas Brothers\n",
      "93. 'The Ones That Didn't Make It Back Home' by Justin Moore\n",
      "94. 'Big Ole Freak' by Megan Thee Stallion\n",
      "95. 'Tap' by NAV Featuring Meek Mill\n",
      "96. 'You Stay' by DJ Khaled Featuring Meek Mill, J Balvin, Lil Baby & Jeremih\n",
      "97. 'Baila Baila Baila' by Ozuna x Daddy Yankee x J Balvin x Farruko x Anuel AA\n",
      "98. 'Cash Shit' by Megan Thee Stallion Featuring DaBaby\n",
      "99. 'Omerta' by Drake\n",
      "100. 'Summer Days' by Martin Garrix Featuring Macklemore & Patrick Stump\n"
     ]
    }
   ],
   "source": [
    "print(chart)"
   ]
  },
  {
   "cell_type": "code",
   "execution_count": 96,
   "metadata": {},
   "outputs": [],
   "source": [
    "title_list=[]\n",
    "artist_list=[]\n",
    "date_list=[]\n",
    "\n",
    "while chart.previousDate>\"1959\": \n",
    "    if chart[0].title not in title_list: \n",
    "        title_list.append(chart[0].title)\n",
    "        artist_list.append(chart[0].artist)\n",
    "        date_list.append(chart.previousDate)\n",
    "    chart = billboard.ChartData('hot-100', chart.previousDate)"
   ]
  },
  {
   "cell_type": "code",
   "execution_count": 97,
   "metadata": {},
   "outputs": [
    {
     "name": "stdout",
     "output_type": "stream",
     "text": [
      "['Perfect', 'Rockstar', 'Bodak Yellow (Money Moves)', 'Look What You Made Me Do', 'Despacito', \"I'm The One\", \"That's What I Like\", 'Humble.', 'Shape Of You', 'Bad And Boujee', 'Black Beatles', 'Starboy', 'Closer', 'Cheap Thrills', 'One Dance', \"Can't Stop The Feeling!\", 'Panda', 'Work', 'Love Yourself', 'Pillowtalk', 'Sorry', 'Hello', 'The Hills', \"Can't Feel My Face\", 'What Do You Mean?', 'Cheerleader', 'See You Again', 'Bad Blood', 'Uptown Funk!', 'Blank Space', 'Shake It Off', 'All About That Bass', 'Rude', 'Fancy', 'All Of Me', 'Happy', 'Dark Horse', 'Timber', 'The Monster', 'Wrecking Ball', 'Royals', 'Roar', 'Blurred Lines', \"Can't Hold Us\", 'Just Give Me A Reason', 'When I Was Your Man', 'Thrift Shop', 'Harlem Shake', 'Locked Out Of Heaven', 'Diamonds', 'One More Night', 'We Are Never Ever Getting Back Together', 'Whistle', 'Call Me Maybe', 'Somebody That I Used To Know', 'We Are Young', \"Stronger (What Doesn't Kill You)\", 'Part Of Me', 'Set Fire To The Rain', 'We Found Love', 'Sexy And I Know It', 'Someone Like You', 'Moves Like Jagger', 'Last Friday Night (T.G.I.F.)', 'Party Rock Anthem', 'Give Me Everything', 'Rolling In The Deep', 'E.T.', 'S&M', 'Born This Way', 'Black And Yellow', 'Grenade', 'Hold It Against Me', 'Firework', 'Raise Your Glass', 'Only Girl (In The World)', 'Like A G6', \"What's My Name?\", 'We R Who We R', 'Just The Way You Are', 'Teenage Dream', 'Love The Way You Lie', 'California Gurls', 'OMG', 'Not Afraid', \"Nothin' On You\", 'Rude Boy', 'Break Your Heart', 'Imma Be', 'TiK ToK', 'Empire State Of Mind', 'Fireflies', 'Whatcha Say', 'Down', '3', 'I Gotta Feeling', 'Boom Boom Pow', 'Poker Face', 'Right Round', 'Crack A Bottle', 'My Life Would Suck Without You', 'Just Dance', 'Single Ladies (Put A Ring On It)', 'Live Your Life', 'Whatever You Like', 'Womanizer', 'So What', 'Disturbia', 'I Kissed A Girl', 'Viva La Vida', 'Lollipop', 'Take A Bow', 'Bleeding Love', 'Touch My Body', 'Love In This Club', 'Low', 'No One', 'Kiss Kiss', 'Crank That (Soulja Boy)', 'Stronger', \"Big Girls Don't Cry\", 'Beautiful Girls', 'Hey There Delilah', 'Umbrella', 'Makes Me Wonder', \"Buy U A Drank (Shawty Snappin')\", 'Girlfriend', 'Give It To Me', \"Don't Matter\", 'Glamorous', \"This Is Why I'm Hot\", 'What Goes Around...Comes Around', 'Say It Right', 'Irreplaceable', 'I Wanna Love You', 'My Love', 'Money Maker', 'SexyBack', 'London Bridge', 'Promiscuous', 'Do I Make You Proud', \"Hips Don't Lie\", \"Ridin'\", 'SOS', 'Bad Day', 'Temperature', 'So Sick', \"You're Beautiful\", 'Check On It', 'Grillz', 'Laffy Taffy', \"Don't Forget About Us\", 'Run It!', 'Gold Digger', 'We Belong Together', 'Inside Your Heaven', 'Hollaback Girl', 'Candy Shop', 'Let Me Love You', \"Drop It Like It's Hot\", 'My Boo', 'Goodies', 'Lean Back', 'Slow Motion', 'Confessions Part II', 'Burn', 'I Believe', 'Yeah!', 'Slow Jamz', 'The Way You Move', 'Hey Ya!', 'Stand Up', 'Baby Boy', 'Shake Ya Tailfeather', 'Crazy In Love', 'This Is The Night', '21 Questions', 'Get Busy', 'In Da Club', 'All I Have', 'Bump, Bump, Bump', 'Lose Yourself', 'Dilemma', 'A Moment Like This', 'Hot In Herre', 'Foolish', \"Ain't It Funny\", 'Always On Time', 'U Got It Bad', 'How You Remind Me', 'Family Affair', \"I'm Real\", \"Fallin'\", 'Bootylicious', 'U Remind Me', 'Lady Marmalade', 'All For You', 'Butterfly', 'Angel', 'Stutter', 'Ms. Jackson', \"It Wasn't Me\", 'Independent Women Part I', 'With Arms Wide Open', 'Come On Over Baby (All I Want Is You)', 'Music', \"Doesn't Really Matter\", 'Incomplete', \"It's Gonna Be Me\", 'Bent', 'Everything You Want', 'Be With You', 'Try Again', 'Maria Maria', 'Say My Name', 'Amazed', 'I Knew I Loved You', 'Thank God I Found You', 'What A Girl Wants', 'Smooth', 'Heartbreaker', 'Unpretty', 'Bailamos', 'Genie In A Bottle', 'Wild Wild West', 'Bills, Bills, Bills', 'If You Had My Love', \"Livin' La Vida Loca\", 'No Scrubs', 'Believe', 'Angel Of Mine', '...Baby One More Time', 'Have You Ever?', \"I'm Your Angel\", 'Lately', 'Doo Wop (That Thing)', 'The First Night', 'One Week', \"I Don't Want To Miss A Thing\", 'The Boy Is Mine', 'Too Close', 'My All', 'All My Life', \"Gettin' Jiggy Wit It\", 'My Heart Will Go On', 'Nice & Slow', 'Together Again', 'Truly Madly Deeply', 'Candle In The Wind 1997/Something About The Way You Look Tonight', '4 Seasons Of Loneliness', 'Honey', 'Mo Money Mo Problems', \"I'll Be Missing You\", 'MMMBop', 'Hypnotize', \"Can't Nobody Hold Me Down\", 'Wannabe', 'Un-Break My Heart', 'No Diggity', 'Macarena (Bayside Boys Mix)', \"You're Makin' Me High/Let It Flow\", 'How Do U Want It/California Love', 'Tha Crossroads', 'Always Be My Baby', 'Because You Loved Me (From \"Up Close & Personal\")', 'One Sweet Day', 'Exhale (Shoop Shoop) (From \"Waiting To Exhale\")', 'Fantasy', 'Gangsta\\'s Paradise (From \"Dangerous Minds\")', 'You Are Not Alone', 'Kiss From A Rose', 'Waterfalls', 'Have You Ever Really Loved A Woman?', 'This Is How We Do It', 'Creep', 'On Bended Knee', 'Here Comes The Hotstepper (From \"Ready To Wear\")', \"I'll Make Love To You\", 'Stay (I Missed You) (From \"Reality Bites\")', 'I Swear', 'The Sign', \"Bump N' Grind\", 'The Power Of Love', 'All For Love', 'Hero', 'Again', \"I'd Do Anything For Love (But I Won't Do That)\", 'Dreamlover', 'Can\\'t Help Falling In Love (From \"Sliver\")', 'Weak', \"That's The Way Love Goes\", 'Freak Me', 'Informer', \"A Whole New World (Aladdin's Theme)\", 'I Will Always Love You', 'How Do You Talk To An Angel', 'End Of The Road (From \"Boomerang\")', 'This Used To Be My Playground', 'Baby Got Back', \"I'll Be There\", 'Jump', 'Save The Best For Last', 'To Be With You', \"I'm Too Sexy\", \"Don't Let The Sun Go Down On Me\", 'All 4 Love', 'Black Or White', 'Set Adrift On Memory Bliss', 'When A Man Loves A Woman', 'Cream', 'Romantic', 'Emotions', 'Good Vibrations', 'I Adore Mi Amor', 'The Promise Of A New Day', '(Everything I Do) I Do It For You', 'Unbelievable', 'Rush Rush', 'More Than Words', \"I Don't Wanna Cry\", 'I Like The Way (The Kissing Game)', 'Joyride', 'Baby Baby', \"You're In Love\", \"I've Been Thinking About You\", 'Coming Out Of The Dark', 'One More Try', 'Someday', 'All The Man That I Need', 'Gonna Make You Sweat (Everybody Dance Now)', 'The First Time', 'Love Will Never Do (Without You)', 'Justify My Love', 'Because I Love You (The Postman Song)', \"I'm Your Baby Tonight\", 'Love Takes Time', 'Ice Ice Baby', 'Black Cat', \"I Don't Have The Heart\", 'Praying For Time', 'Close To You', \"(Can't Live Without Your) Love And Affection\", 'Release Me', 'Blaze Of Glory (From \"Young Guns II\")', 'If Wishes Came True', 'Vision Of Love', \"She Ain't Worth It\", 'Step By Step', 'It Must Have Been Love (From \"Pretty Woman\")', 'Hold On', 'Vogue', 'Nothing Compares 2 U', \"I'll Be Your Everything\", 'Love Will Lead You Back', 'Black Velvet', 'Escapade', 'Opposites Attract', 'How Am I Supposed To Live Without You', 'Another Day In Paradise', \"We Didn't Start The Fire\", 'Blame It On The Rain', 'When I See You Smile', 'Listen To Your Heart', 'Miss You Much', \"Girl I'm Gonna Miss You\", \"Don't Wanna Lose You\", \"Hangin' Tough\", 'Cold Hearted', 'Right Here Waiting', 'Batdance (From \"Batman\")', 'Toy Soldiers', \"If You Don't Know Me By Now\", 'Good Thing', \"Baby Don't Forget My Number\", 'Satisfied', \"I'll Be Loving You (Forever)\", 'Wind Beneath My Wings (From \"Beaches\")', 'Rock On (From \"Dream A Little Dream\")', 'Forever Your Girl', \"I'll Be There For You\", 'Like A Prayer', 'She Drives Me Crazy', 'The Look', 'Eternal Flame', 'The Living Years', 'Lost In Your Eyes', 'Straight Up', \"When I'm With You\", 'Two Hearts', 'My Prerogative', 'Every Rose Has Its Thorn', 'Look Away', 'Baby, I Love Your Way/Freebird Medley', 'Bad Medicine', 'Wild, Wild West', 'Kokomo (From\"Cocktail\" )', 'Groovy Kind Of Love', 'Red Red Wine', 'Love Bites', 'Don\\'t Worry, Be Happy (From \"Cocktail\")', \"Sweet Child O' Mine\", 'Monkey', 'Roll With It', 'Hold On To The Nights', 'The Flame', 'Dirty Diana', 'Foolish Beat', 'Together Forever', 'Anything For You', 'Wishing Well', 'Where Do Broken Hearts Go', 'Get Outta My Dreams, Get Into My Car', 'Man In The Mirror', 'Never Gonna Give You Up', 'Father Figure', 'Seasons Change', \"Could've Been\", 'Need You Tonight', 'The Way You Make Me Feel', 'Got My Mind Set On You', 'So Emotional', 'Faith', 'Heaven Is A Place On Earth', \"(I've Had) The Time Of My Life\", 'Mony Mony', \"I Think We're Alone Now\", 'Bad', 'Lost In Emotion', 'Here I Go Again', \"Didn't We Almost Have It All\", \"I Just Can't Stop Loving You\", 'La Bamba', \"Who's That Girl\", \"I Still Haven't Found What I'm Looking For\", 'Shakedown (From \"Beverly Hills Cop II\")', 'Alone', 'I Wanna Dance With Somebody (Who Loves Me)', 'Head To Toe', 'Always', \"You Keep Me Hangin' On\", 'With or Without You', '(I Just) Died In Your Arms', 'I Knew You Were Waiting (For Me)', \"Nothing's Gonna Stop Us Now\", 'Lean On Me', \"Jacob's Ladder\", \"Livin' On A Prayer\", 'Open Your Heart', 'At This Moment', 'Shake You Down', 'Walk Like An Egyptian', 'The Way It Is', 'The Next Time I Fall', 'You Give Love A Bad Name', 'Human', 'Amanda', 'True Colors', 'When I Think Of You', 'Stuck With You', 'Take My Breath Away (Love Theme From \"Top Gun\")', 'Venus', 'Higher Love', \"Papa Don't Preach\", 'Glory Of Love (Theme From \"The Karate Kid Part II\")', 'Sledgehammer', 'Invisible Touch', 'Holding Back The Years', \"There'll Be Sad Songs (To Make You Cry)\", 'On My Own', 'Live To Tell', 'Greatest Love Of All', 'West End Girls', 'Addicted To Love', 'Kiss', 'Rock Me Amadeus', 'These Dreams', 'Sara', 'Kyrie', 'How Will I Know', \"That's What Friends Are For\", 'Say You, Say Me', 'Broken Wings', 'Separate Lives', 'We Built This City', 'Miami Vice Theme', 'Part-Time Lover', 'Saving All My Love For You', 'Take On Me', 'Oh Sheila', 'Money For Nothing', \"St. Elmo's Fire (Man In Motion)\", 'Shout', 'Everytime You Go Away', 'A View To A Kill', 'Sussudio', 'Heaven', 'Everybody Wants To Rule The World', 'Everything She Wants', \"Don't You (Forget About Me)\", 'Crazy For You', 'We Are The World', \"Can't Fight This Feeling\", 'Careless Whisper', 'I Want To Know What Love Is', 'Like A Virgin', 'Out Of Touch', 'Wake Me Up Before You Go-Go', 'Caribbean Queen (No More Love On The Run)', 'I Just Called To Say I Love You', \"Let's Go Crazy\", 'Missing You', \"What's Love Got To Do With It\", 'Ghostbusters', 'When Doves Cry', 'The Reflex', 'Time After Time', \"Let's Hear It For The Boy\", 'Against All Odds (Take A Look At Me Now)', 'Footloose', 'Karma Chameleon', 'Owner Of A Lonely Heart', 'Say Say Say', 'All Night Long (All Night)', 'Islands In The Stream', 'Total Eclipse Of The Heart', 'Tell Her About It', 'Maniac', 'Sweet Dreams (Are Made Of This)', 'Every Breath You Take', 'Flashdance...What A Feeling', \"Let's Dance\", 'Beat It', 'Come On Eileen', 'Billie Jean', 'Baby, Come To Me', 'Down Under', 'Africa', 'Maneater', 'Mickey', 'Truly', 'Up Where We Belong', 'Who Can It Be Now?', 'Jack & Diane', 'Abracadabra', \"Hard To Say I'm Sorry\", 'Eye Of The Tiger', \"Don't You Want Me\", 'Ebony And Ivory', 'Chariots Of Fire - Titles', \"I Love Rock 'N Roll\", 'Centerfold', \"I Can't Go For That (No Can Do)\", 'Physical', 'Private Eyes', \"Arthur's Theme (Best That You Can Do)\", 'Endless Love', \"Jessie's Girl\", 'The One That You Love', 'Bette Davis Eyes', 'Medley', 'Morning Train (Nine To Five)', 'Kiss On My List', 'Rapture', 'Keep On Loving You', '9 To 5', 'I Love A Rainy Night', 'Celebration', 'The Tide Is High', '(Just Like) Starting Over', 'Lady', 'Woman In Love', 'Another One Bites The Dust', 'Upside Down', 'Sailing', 'Magic', \"It's Still Rock And Roll To Me\", 'Coming Up (Live At Glasgow)', 'Funkytown', 'Call Me', 'Another Brick In The Wall (Part II)', 'Crazy Little Thing Called Love', 'Do That To Me One More Time', 'Rock With You', 'Escape (The Pina Colada Song)', \"Please Don't Go\", 'Babe', 'No More Tears (Enough Is Enough)', 'Still', 'Heartache Tonight', 'Pop Muzik', 'Rise', \"Don't Stop 'til You Get Enough\", 'Sad Eyes', 'My Sharona', 'Good Times', 'Bad Girls', 'Ring My Bell', 'Hot Stuff', 'Love You Inside Out', 'Reunited', 'Heart Of Glass', 'Knock On Wood', 'What A Fool Believes', 'I Will Survive', 'Tragedy', \"Da Ya Think I'm Sexy?\", 'Le Freak', 'Too Much Heaven', \"You Don't Bring Me Flowers\", 'MacArthur Park', 'You Needed Me', 'Hot Child In The City', 'Kiss You All Over', 'Boogie Oogie Oogie', 'Grease', 'Three Times A Lady', 'Miss You', 'Shadow Dancing', \"You're The One That I Want\", 'Too Much, Too Little, Too Late', 'With A Little Luck', \"If I Can't Have You\", 'Night Fever', '(Love Is) Thicker Than Water', \"Stayin' Alive\", 'Baby Come Back', 'How Deep Is Your Love', 'You Light Up My Life', 'Star Wars Theme/Cantina Band', 'Best Of My Love', 'I Just Want To Be Your Everything', 'Looks Like We Made It', 'Da Doo Ron Ron', 'Undercover Angel', 'Gonna Fly Now', 'Got To Give It Up (Pt. I)', 'Dreams', \"I'm Your Boogie Man\", 'Sir Duke', 'When I Need You', 'Hotel California', 'Southern Nights', \"Don't Leave Me This Way\", \"Don't Give Up On Us\", 'Dancing Queen', 'Rich Girl', 'Evergreen (Love Theme From \"A Star Is Born\")', 'New Kid In Town', 'Blinded By The Light', 'Torn Between Two Lovers', 'Car Wash', 'I Wish', 'You Make Me Feel Like Dancing', \"You Don't Have To Be A Star (To Be In My Show)\", \"Tonight's The Night (Gonna Be Alright)\", \"Rock'n Me\", 'If You Leave Me Now', 'Disco Duck (Part I)', 'A Fifth Of Beethoven', 'Play That Funky Music', '(Shake, Shake, Shake) Shake Your Booty', 'You Should Be Dancing', \"Don't Go Breaking My Heart\", 'Kiss And Say Goodbye', 'Afternoon Delight', 'Silly Love Songs', 'Love Hangover', 'Boogie Fever', 'Welcome Back', 'Let Your Love Flow', 'Disco Lady', 'December, 1963 (Oh, What a Night)', 'Love Machine (Part 1)', 'Theme From S.W.A.T.', '50 Ways To Leave Your Lover', 'Love Rollercoaster', \"Theme From Mahogany (Do You Know Where You're Going To)\", 'I Write The Songs', 'Convoy', 'Saturday Night', \"Let's Do It Again\", \"That's The Way (I Like It)\", 'Fly, Robin, Fly', 'Island Girl', 'Fame', \"I'm Sorry\", 'Rhinestone Cowboy', 'Get Down Tonight', \"Fallin' In Love\", \"Jive Talkin'\", 'One Of These Nights', 'The Hustle', 'Listen To What The Man Said', 'Love Will Keep Us Together', 'Sister Golden Hair', \"Thank God I'm A Country Boy\", 'Before The Next Teardrop Falls', 'Shining Star', \"He Don't Love You (Like I Love You)\", \"(Hey Won't You Play) Another Somebody Done Somebody Wrong Song\", 'Philadelphia Freedom', \"Lovin' You\", 'My Eyes Adored You', 'Black Water', 'Have You Never Been Mellow', 'Pick Up The Pieces', \"You're No Good\", 'Fire', 'Laughter In The Rain', 'Please Mr. Postman', 'Mandy', 'Lucy In The Sky With Diamonds', 'Angie Baby', \"Cat's In The Cradle\", 'Kung Fu Fighting', 'I Can Help', 'Whatever Gets You Thru The Night', \"You Ain't Seen Nothing Yet/Free Wheelin'\", \"You Haven't Done Nothin\", 'Then Came You', 'Nothing From Nothing', 'I Honestly Love You', 'Rock Me Gently', \"Can't Get Enough Of Your Love, Babe\", 'I Shot The Sheriff', \"(You're) Having My Baby\", 'The Night Chicago Died', \"Feel Like Makin' Love\", \"ANNIE's SONG\", 'Rock Your Baby', 'Rock The Boat', 'Sundown', \"Billy, Don't Be A Hero\", 'Band On The Run', 'The Streak', 'The Loco-Motion', 'TSOP (The Sound Of Philadelphia)', 'Bennie And The Jets', 'Hooked On A Feeling', 'Sunshine On My Shoulders', 'Dark Lady', 'Seasons In The Sun', 'The Way We Were', \"Love's Theme\", \"You're Sixteen\", 'Show And Tell', 'The Joker', 'Time In A Bottle', 'The Most Beautiful Girl', 'Top Of The World', 'Photograph', \"Keep On Truckin' (Part 1)\", 'Midnight Train To Georgia', 'Angie', 'Half-Breed', \"We're An American Band\", \"Let's Get It On\", 'Delta Dawn', 'Brother Louie', 'Touch Me In The Morning', 'The Morning After', 'Bad, Bad Leroy Brown', 'Will It Go Round In Circles', 'Give Me Love - (Give Me Peace On Earth)', 'Frankenstein', 'You Are The Sunshine Of My Life', 'Tie A Yellow Ribbon Round The Ole Oak Tree', 'The Night The Lights Went Out In Georgia', 'Killing Me Softly With His Song', 'Love Train', 'Crocodile Rock', 'Superstition', \"You're So Vain\", 'Me And Mrs. Jones', 'I Am Woman', \"Papa Was A Rollin' Stone\", 'I Can See Clearly Now', 'My Ding-A-Ling', 'Ben', \"Baby Don't Get Hooked On Me\", 'Black & White', 'Alone Again (Naturally)', \"Brandy (You're A Fine Girl)\", 'Song Sung Blue', 'The Candy Man', \"I'll Take You There\", 'Oh Girl', 'The First Time Ever I Saw Your Face', 'A Horse With No Name', 'Heart Of Gold', 'Without You', \"Let's Stay Together\", 'American Pie (Parts I & II)', 'Brand New Key', 'Theme From Shaft', 'Gypsys, Tramps & Thieves', 'Maggie May/Reason To Believe', 'Go Away Little Girl', 'Uncle Albert/Admiral Halsey', 'How Can You Mend A Broken Heart', \"You've Got A Friend\", 'Indian Reservation (The Lament Of The Cherokee Reservation Indian)', \"It's Too Late/I Feel The Earth Move\", 'Want Ads', 'Brown Sugar', 'Joy To The World', 'Just My Imagination (Running Away With Me)', 'Me And Bobby McGee', 'One Bad Apple', 'Knock Three Times', \"My Sweet Lord/Isn't It A Pity\", 'The Tears Of A Clown', 'I Think I Love You', \"Cracklin' Rosie\", \"Ain't No Mountain High Enough\", 'War', 'Make It With You', '(They Long To Be) Close To You', 'Mama Told Me (Not To Come)', 'The Love You Save/I Found That Girl', 'The Long And Winding Road/For You Blue', 'Everything Is Beautiful', 'American Woman/No Sugar Tonight', 'ABC', 'Let It Be', 'Bridge Over Troubled Water', 'Thank You Falettinme Be Mice Elf Agin/Everybody Is A Star', 'I Want You Back', \"Raindrops Keep Fallin' On My Head\", \"Someday We'll Be Together\", 'Leaving On A Jet Plane', 'Na Na Hey Hey Kiss Him Goodbye', 'Come Together/Something', 'Wedding Bell Blues', 'Suspicious Minds', \"I Can't Get Next To You\", 'Sugar, Sugar', 'Honky Tonk Women', 'In The Year 2525', 'Love Theme From Romeo & Juliet', 'Get Back', 'Aquarius/Let The Sunshine In', 'Dizzy', 'Everyday People', 'Crimson And Clover', 'I Heard It Through The Grapevine', 'Love Child', 'Hey Jude', 'Harper Valley P.T.A.', 'People Got To Be Free', 'Hello, I Love You', 'Grazing In The Grass', \"This Guy's In Love With You\", 'Mrs. Robinson', 'Tighten Up', \"(Sittin' On) The Dock Of The Bay\", \"Love Is Blue (L'amour Est Bleu)\", 'Green Tambourine', 'Judy In Disguise (With Glasses)', 'Hello Goodbye', 'Daydream Believer', 'Incense And Peppermints', 'To Sir With Love', 'The Letter', 'Ode To Billie Joe', 'All You Need Is Love', 'Light My Fire', 'Windy', \"Groovin'\", 'Respect', 'The Happening', \"Somethin' Stupid\", 'Happy Together', 'Penny Lane', \"Love Is Here And Now You're Gone\", 'Ruby Tuesday', 'Kind Of A Drag', \"I'm A Believer\", 'Winchester Cathedral', 'Poor Side Of Town', 'Last Train To Clarksville', '96 Tears', \"Reach Out I'll Be There\", 'Cherish', \"You Can't Hurry Love\", 'Sunshine Superman', 'Summer In The City', 'Wild Thing', 'Hanky Panky', 'Paperback Writer', 'Strangers In The Night', 'Paint It, Black', 'Monday, Monday', \"Good Lovin'\", \"(You're My) Soul And Inspiration\", 'The Ballad Of The Green Berets', \"These Boots Are Made For Walkin'\", \"Lightnin' Strikes\", 'We Can Work It Out', 'The Sound Of Silence', 'Over And Over', 'Turn! Turn! Turn! (To Everything There Is A Season)', 'I Hear A Symphony', 'Get Off Of My Cloud', 'Yesterday', 'Hang On Sloopy', 'Eve Of Destruction', 'Help!', 'I Got You Babe', \"I'm Henry VIII, I Am\", \"(I Can't Get No) Satisfaction\", \"I Can't Help Myself (Sugar Pie Honey Bunch)\", 'Mr. Tambourine Man', 'Back In My Arms Again', 'Help Me, Rhonda', 'Ticket To Ride', \"Mrs. Brown You've Got A Lovely Daughter\", 'Game Of Love', \"I'm Telling You Now\", 'Stop! In The Name Of Love', 'Eight Days A Week', 'My Girl', 'This Diamond Ring', \"You've Lost That Lovin' Feelin'\", 'Downtown', 'Come See About Me', 'I Feel Fine', 'Mr. Lonely', 'Ringo', 'Leader Of The Pack', 'Baby Love', 'Do Wah Diddy Diddy', 'Oh, Pretty Woman', 'House Of The Rising Sun', 'Where Did Our Love Go', 'Everybody Loves Somebody', \"A Hard Day's Night\", 'Rag Doll', 'I Get Around', 'A World Without Love', 'Chapel Of Love', 'Love Me Do', 'My Guy', 'Hello, Dolly!', \"Can't Buy Me Love\", 'She Loves You', 'I Want To Hold Your Hand', \"There! I've Said It Again\", 'Dominique', \"I'm Leaving It Up To You\", 'Deep Purple', 'Sugar Shack', 'Blue Velvet', \"My Boyfriend's Back\", 'Fingertips - Pt 2', 'So Much In Love', 'Surf City', 'Easier Said Than Done', 'Sukiyaki', \"It's My Party\", 'If You Wanna Be Happy', 'I Will Follow Him', \"He's So Fine\", 'Our Day Will Come', 'Walk Like A Man', 'Hey Paula', 'Walk Right In', 'Telstar', \"He's A Rebel\", 'Monster Mash', 'Sherry', 'Sheila', 'Breaking Up Is Hard To Do', 'Roses Are Red (My Love)', 'The Stripper', \"I Can't Stop Loving You\", 'Stranger On The Shore', 'Soldier Boy', 'Good Luck Charm', 'Johnny Angel', \"Don't Break The Heart That Loves You\", 'Hey! Baby', 'Duke Of Earl', 'Peppermint Twist - Part I', 'The Twist', 'The Lion Sleeps Tonight', 'Big Bad John', 'Runaround Sue', 'Hit The Road Jack', 'Take Good Care Of My Baby', 'Michael', 'Wooden Heart', \"Tossin' And Turnin'\", 'Quarter To Three', 'Moody River', \"Travelin' Man\", 'Running Scared', 'Mother-In-Law', 'Runaway', 'Blue Moon', 'Surrender', 'Pony Time', 'Calcutta', 'Will You Love Me Tomorrow', 'Wonderland By Night', 'Are You Lonesome To-night?', 'Stay', 'Georgia On My Mind', 'Save The Last Dance For Me', 'I Want To Be Wanted', 'Mr. Custer', 'My Heart Has A Mind Of Its Own', \"It's Now Or Never\", 'Itsy Bitsy Teenie Weenie Yellow Polkadot Bikini', 'Alley-Oop', \"Everybody's Somebody's Fool\", \"Cathy's Clown\", 'Stuck On You', 'The Theme From \"A Summer Place\"', 'Teen Angel', 'Running Bear', 'El Paso', 'Why', 'Heartaches By The Number', 'Mack The Knife', 'Mr. Blue', 'Sleep Walk', 'The Three Bells', \"A Big Hunk O' Love\", 'Lonely Boy', 'The Battle Of New Orleans', 'Kansas City', 'The Happy Organ', 'Come Softly To Me', 'Stagger Lee', 'Smoke Gets In Your Eyes', 'The Chipmunk Song']\n"
     ]
    }
   ],
   "source": [
    "print(title_list)"
   ]
  },
  {
   "cell_type": "code",
   "execution_count": 98,
   "metadata": {},
   "outputs": [
    {
     "name": "stdout",
     "output_type": "stream",
     "text": [
      "['Ed Sheeran', 'Post Malone Featuring 21 Savage', 'Cardi B', 'Taylor Swift', 'Luis Fonsi & Daddy Yankee Featuring Justin Bieber', 'DJ Khaled Featuring Justin Bieber, Quavo, Chance The Rapper & Lil Wayne', 'Bruno Mars', 'Kendrick Lamar', 'Ed Sheeran', 'Migos Featuring Lil Uzi Vert', 'Rae Sremmurd Featuring Gucci Mane', 'The Weeknd Featuring Daft Punk', 'The Chainsmokers Featuring Halsey', 'Sia Featuring Sean Paul', 'Drake Featuring WizKid & Kyla', 'Justin Timberlake', 'Desiigner', 'Rihanna Featuring Drake', 'Justin Bieber', 'Zayn', 'Justin Bieber', 'Adele', 'The Weeknd', 'The Weeknd', 'Justin Bieber', 'OMI', 'Wiz Khalifa Featuring Charlie Puth', 'Taylor Swift Featuring Kendrick Lamar', 'Mark Ronson Featuring Bruno Mars', 'Taylor Swift', 'Taylor Swift', 'Meghan Trainor', 'MAGIC!', 'Iggy Azalea Featuring Charli XCX', 'John Legend', 'Pharrell Williams', 'Katy Perry Featuring Juicy J', 'Pitbull Featuring Ke$ha', 'Eminem Featuring Rihanna', 'Miley Cyrus', 'Lorde', 'Katy Perry', 'Robin Thicke Featuring T.I. + Pharrell', 'Macklemore & Ryan Lewis Featuring Ray Dalton', 'P!nk Featuring Nate Ruess', 'Bruno Mars', 'Macklemore & Ryan Lewis Featuring Wanz', 'Baauer', 'Bruno Mars', 'Rihanna', 'Maroon 5', 'Taylor Swift', 'Flo Rida', 'Carly Rae Jepsen', 'Gotye Featuring Kimbra', 'fun. Featuring Janelle Monae', 'Kelly Clarkson', 'Katy Perry', 'Adele', 'Rihanna Featuring Calvin Harris', 'LMFAO', 'Adele', 'Maroon 5 Featuring Christina Aguilera', 'Katy Perry', 'LMFAO Featuring Lauren Bennett & GoonRock', 'Pitbull Featuring Ne-Yo, Afrojack & Nayer', 'Adele', 'Katy Perry Featuring Kanye West', 'Rihanna Featuring Britney Spears', 'Lady Gaga', 'Wiz Khalifa', 'Bruno Mars', 'Britney Spears', 'Katy Perry', 'P!nk', 'Rihanna', 'Far*East Movement Featuring Cataracs & Dev', 'Rihanna Featuring Drake', 'Ke$ha', 'Bruno Mars', 'Katy Perry', 'Eminem Featuring Rihanna', 'Katy Perry Featuring Snoop Dogg', 'Usher Featuring will.i.am', 'Eminem', 'B.o.B Featuring Bruno Mars', 'Rihanna', 'Taio Cruz Featuring Ludacris', 'The Black Eyed Peas', 'Ke$ha', 'Jay-Z + Alicia Keys', 'Owl City', 'Jason Derulo', 'Jay Sean Featuring Lil Wayne', 'Britney Spears', 'The Black Eyed Peas', 'The Black Eyed Peas', 'Lady Gaga', 'Flo Rida', 'Eminem, Dr. Dre & 50 Cent', 'Kelly Clarkson', \"Lady Gaga Featuring Colby O'Donis\", 'Beyonce', 'T.I. Featuring Rihanna', 'T.I.', 'Britney Spears', 'P!nk', 'Rihanna', 'Katy Perry', 'Coldplay', 'Lil Wayne Featuring Static Major', 'Rihanna', 'Leona Lewis', 'Mariah Carey', 'Usher Featuring Young Jeezy', 'Flo Rida Featuring T-Pain', 'Alicia Keys', 'Chris Brown Featuring T-Pain', \"Soulja Boy Tell'em\", 'Kanye West', 'Fergie', 'Sean Kingston', \"Plain White T's\", 'Rihanna Featuring Jay-Z', 'Maroon 5', 'T-Pain Featuring Yung Joc', 'Avril Lavigne', 'Timbaland Featuring Nelly Furtado & Justin Timberlake', 'Akon', 'Fergie Featuring Ludacris', 'Mims', 'Justin Timberlake', 'Nelly Furtado', 'Beyonce', 'Akon Featuring Snoop Dogg', 'Justin Timberlake Featuring T.I.', 'Ludacris Featuring Pharrell', 'Justin Timberlake', 'Fergie', 'Nelly Furtado Featuring Timbaland', 'Taylor Hicks', 'Shakira Featuring Wyclef Jean', 'Chamillionaire Featuring Krayzie Bone', 'Rihanna', 'Daniel Powter', 'Sean Paul', 'Ne-Yo', 'James Blunt', 'Beyonce Featuring Slim Thug', 'Nelly Featuring Paul Wall, Ali & Gipp', 'D4L', 'Mariah Carey', 'Chris Brown', 'Kanye West Featuring Jamie Foxx', 'Mariah Carey', 'Carrie Underwood', 'Gwen Stefani', '50 Cent Featuring Olivia', 'Mario', 'Snoop Dogg Featuring Pharrell', 'Usher And Alicia Keys', 'Ciara Featuring Petey Pablo', 'Terror Squad', 'Juvenile Featuring Soulja Slim', 'Usher', 'Usher', 'Fantasia', 'Usher Featuring Lil Jon & Ludacris', 'Twista Featuring Kanye West & Jamie Foxx', 'OutKast Featuring Sleepy Brown', 'OutKast', 'Ludacris Featuring Shawnna', 'Beyonce Featuring Sean Paul', 'Nelly, P. Diddy & Murphy Lee', 'Beyonce Featuring Jay Z', 'Clay Aiken', '50 Cent Featuring Nate Dogg', 'Sean Paul', '50 Cent', 'Jennifer Lopez Featuring LL Cool J', 'B2K & P. Diddy', 'Eminem', 'Nelly Featuring Kelly Rowland', 'Kelly Clarkson', 'Nelly', 'Ashanti', 'Jennifer Lopez Featuring Ja Rule', 'Ja Rule Featuring Ashanti', 'Usher', 'Nickelback', 'Mary J. Blige', 'Jennifer Lopez Featuring Ja Rule', 'Alicia Keys', \"Destiny's Child\", 'Usher', \"Christina Aguilera, Lil' Kim, Mya & P!nk\", 'Janet', 'Crazy Town', 'Shaggy Featuring Rayvon', 'Joe Featuring Mystikal', 'OutKast', 'Shaggy Featuring Ricardo \"RikRok\" Ducent', \"Destiny's Child\", 'Creed', 'Christina Aguilera', 'Madonna', 'Janet', 'Sisqo', \"'N Sync\", 'matchbox twenty', 'Vertical Horizon', 'Enrique Iglesias', 'Aaliyah', 'Santana Featuring The Product G&B', \"Destiny's Child\", 'Lonestar', 'Savage Garden', 'Mariah Carey Featuring Joe & 98 Degrees', 'Christina Aguilera', 'Santana Featuring Rob Thomas', 'Mariah Carey Featuring Jay-Z', 'TLC', 'Enrique Iglesias', 'Christina Aguilera', 'Will Smith Featuring Dru Hill & Kool Mo Dee', \"Destiny's Child\", 'Jennifer Lopez', 'Ricky Martin', 'TLC', 'Cher', 'Monica', 'Britney Spears', 'Brandy', 'R. Kelly & Celine Dion', 'Divine', 'Lauryn Hill', 'Monica', 'Barenaked Ladies', 'Aerosmith', 'Brandy & Monica', 'Next', 'Mariah Carey', 'K-Ci & JoJo', 'Will Smith', 'Celine Dion', 'Usher', 'Janet', 'Savage Garden', 'Elton John', 'Boyz II Men', 'Mariah Carey', 'The Notorious B.I.G. Featuring Puff Daddy & Mase', 'Puff Daddy & Faith Evans Featuring 112', 'Hanson', 'The Notorious B.I.G.', 'Puff Daddy (Featuring Mase)', 'Spice Girls', 'Toni Braxton', 'BLACKstreet (Featuring Dr. Dre)', 'Los Del Rio', 'Toni Braxton', '2Pac Featuring K-Ci And JoJo', 'Bone Thugs-N-Harmony', 'Mariah Carey', 'Celine Dion', 'Mariah Carey & Boyz II Men', 'Whitney Houston', 'Mariah Carey', 'Coolio Featuring L.V.', 'Michael Jackson', 'Seal', 'TLC', 'Bryan Adams', 'Montell Jordan', 'TLC', 'Boyz II Men', 'Ini Kamoze', 'Boyz II Men', 'Lisa Loeb & Nine Stories', 'All-4-One', 'Ace Of Base', 'R. Kelly', 'Celine Dion', 'Bryan Adams/Rod Stewart/Sting', 'Mariah Carey', 'Janet Jackson', 'Meat Loaf', 'Mariah Carey', 'UB40', 'SWV', 'Janet Jackson', 'Silk', 'Snow', 'Peabo Bryson & Regina Belle', 'Whitney Houston', 'The Heights', 'Boyz II Men', 'Madonna', 'Sir Mix-A-Lot', 'Mariah Carey', 'Kris Kross', 'Vanessa Williams', 'Mr. Big', 'Right Said Fred', 'George Michael/Elton John', 'Color Me Badd', 'Michael Jackson', 'P.M. Dawn', 'Michael Bolton', 'Prince And The N.P.G.', 'Karyn White', 'Mariah Carey', 'Marky Mark & The Funky Bunch Featuring Loleatta Holloway', 'Color Me Badd', 'Paula Abdul', 'Bryan Adams', 'EMF', 'Paula Abdul', 'Extreme', 'Mariah Carey', 'Hi-Five', 'Roxette', 'Amy Grant', 'Wilson Phillips', 'Londonbeat', 'Gloria Estefan', 'Timmy T.', 'Mariah Carey', 'Whitney Houston', 'C+C Music Factory', 'Surface', 'Janet Jackson', 'Madonna', 'Stevie B', 'Whitney Houston', 'Mariah Carey', 'Vanilla Ice', 'Janet Jackson', 'James Ingram', 'George Michael', 'Maxi Priest', 'Nelson', 'Wilson Phillips', 'Jon Bon Jovi', 'Sweet Sensation', 'Mariah Carey', 'Glenn Medeiros Featuring Bobby Brown', 'New Kids On The Block', 'Roxette', 'Wilson Phillips', 'Madonna', \"Sinead O'Connor\", 'Tommy Page', 'Taylor Dayne', 'Alannah Myles', 'Janet Jackson', 'Paula Abdul (Duet With The Wild Pair)', 'Michael Bolton', 'Phil Collins', 'Billy Joel', 'Milli Vanilli', 'Bad English', 'Roxette', 'Janet Jackson', 'Milli Vanilli', 'Gloria Estefan', 'New Kids On The Block', 'Paula Abdul', 'Richard Marx', 'Prince', 'Martika', 'Simply Red', 'Fine Young Cannibals', 'Milli Vanilli', 'Richard Marx', 'New Kids On The Block', 'Bette Midler', 'Michael Damian', 'Paula Abdul', 'Bon Jovi', 'Madonna', 'Fine Young Cannibals', 'Roxette', 'The Bangles', 'Mike + The Mechanics', 'Debbie Gibson', 'Paula Abdul', 'Sheriff', 'Phil Collins', 'Bobby Brown', 'Poison', 'Chicago', 'Will To Power', 'Bon Jovi', 'The Escape Club', 'The Beach Boys', 'Phil Collins', 'UB40', 'Def Leppard', 'Bobby McFerrin', \"Guns N' Roses\", 'George Michael', 'Steve Winwood', 'Richard Marx', 'Cheap Trick', 'Michael Jackson', 'Debbie Gibson', 'Rick Astley', 'Gloria Estefan & Miami Sound Machine', \"Terence Trent D'Arby\", 'Whitney Houston', 'Billy Ocean', 'Michael Jackson', 'Rick Astley', 'George Michael', 'Expose', 'Tiffany', 'INXS', 'Michael Jackson', 'George Harrison', 'Whitney Houston', 'George Michael', 'Belinda Carlisle', 'Bill Medley & Jennifer Warnes', 'Billy Idol', 'Tiffany', 'Michael Jackson', 'Lisa Lisa And Cult Jam', 'Whitesnake', 'Whitney Houston', 'Michael Jackson With Siedah Garrett', 'Los Lobos', 'Madonna', 'U2', 'Bob Seger', 'Heart', 'Whitney Houston', 'Lisa Lisa And Cult Jam', 'Atlantic Starr', 'Kim Wilde', 'U2', 'Cutting Crew', 'Aretha Franklin & George Michael', 'Starship', 'Club Nouveau', 'Huey Lewis & The News', 'Bon Jovi', 'Madonna', 'Billy Vera & The Beaters', 'Gregory Abbott', 'The Bangles', 'Bruce Hornsby & The Range', 'Peter Cetera With Amy Grant', 'Bon Jovi', 'The Human League', 'Boston', 'Cyndi Lauper', 'Janet Jackson', 'Huey Lewis & The News', 'Berlin', 'Bananarama', 'Steve Winwood', 'Madonna', 'Peter Cetera', 'Peter Gabriel', 'Genesis', 'Simply Red', 'Billy Ocean', 'Patti LaBelle & Michael McDonald', 'Madonna', 'Whitney Houston', 'Pet Shop Boys', 'Robert Palmer', 'Prince And The Revolution', 'Falco', 'Heart', 'Starship', 'Mr. Mister', 'Whitney Houston', 'Dionne & Friends', 'Lionel Richie', 'Mr. Mister', 'Phil Collins and Marilyn Martin', 'Starship', 'Jan Hammer', 'Stevie Wonder', 'Whitney Houston', 'a-ha', 'Ready For The World', 'Dire Straits', 'John Parr', 'Tears For Fears', 'Paul Young', 'Duran Duran', 'Phil Collins', 'Bryan Adams', 'Tears For Fears', 'Wham!', 'Simple Minds', 'Madonna', 'USA For Africa', 'REO Speedwagon', 'Wham! Featuring George Michael', 'Foreigner', 'Madonna', 'Daryl Hall John Oates', 'Wham!', 'Billy Ocean', 'Stevie Wonder', 'Prince And The Revolution', 'John Waite', 'Tina Turner', 'Ray Parker Jr.', 'Prince', 'Duran Duran', 'Cyndi Lauper', 'Deniece Williams', 'Phil Collins', 'Kenny Loggins', 'Culture Club', 'Yes', 'Paul McCartney And Michael Jackson', 'Lionel Richie', 'Kenny Rogers Duet With Dolly Parton', 'Bonnie Tyler', 'Billy Joel', 'Michael Sembello', 'Eurythmics', 'The Police', 'Irene Cara', 'David Bowie', 'Michael Jackson', \"Dexy's Midnight Runners\", 'Michael Jackson', 'Patti Austin A Duet With James Ingram', 'Men At Work', 'Toto', 'Daryl Hall John Oates', 'Toni Basil', 'Lionel Richie', 'Joe Cocker And Jennifer Warnes', 'Men At Work', 'John Cougar', 'The Steve Miller Band', 'Chicago', 'Survivor', 'The Human League', 'Paul McCartney And Stevie Wonder', 'Vangelis', 'Joan Jett & the Blackhearts', 'The J. Geils Band', 'Daryl Hall John Oates', 'Olivia Newton-John', 'Daryl Hall John Oates', 'Christopher Cross', 'Diana Ross & Lionel Richie', 'Rick Springfield', 'Air Supply', 'Kim Carnes', 'Stars On 45', 'Sheena Easton', 'Daryl Hall John Oates', 'Blondie', 'REO Speedwagon', 'Dolly Parton', 'Eddie Rabbitt', 'Kool & The Gang', 'Blondie', 'John Lennon', 'Kenny Rogers', 'Barbra Streisand', 'Queen', 'Diana Ross', 'Christopher Cross', 'Olivia Newton-John', 'Billy Joel', 'Paul McCartney And Wings', 'Lipps, Inc.', 'Blondie', 'Pink Floyd', 'Queen', 'Captain & Tennille', 'Michael Jackson', 'Rupert Holmes', 'KC And The Sunshine Band', 'Styx', 'Barbra Streisand/Donna Summer', 'Commodores', 'Eagles', 'M', 'Herb Alpert', 'Michael Jackson', 'Robert John', 'The Knack', 'Chic', 'Donna Summer', 'Anita Ward', 'Donna Summer', 'Bee Gees', 'Peaches & Herb', 'Blondie', 'Amii Stewart', 'The Doobie Brothers', 'Gloria Gaynor', 'Bee Gees', 'Rod Stewart', 'Chic', 'Bee Gees', 'Barbra Streisand & Neil Diamond', 'Donna Summer', 'Anne Murray', 'Nick Gilder', 'Exile', 'A Taste Of Honey', 'Frankie Valli', 'Commodores', 'The Rolling Stones', 'Andy Gibb', 'John Travolta & Olivia Newton-John', 'Johnny Mathis/Deniece Williams', 'Wings', 'Yvonne Elliman', 'Bee Gees', 'Andy Gibb', 'Bee Gees', 'Player', 'Bee Gees', 'Debby Boone', 'Meco', 'The Emotions', 'Andy Gibb', 'Barry Manilow', 'Shaun Cassidy', \"Alan O'Day\", 'Bill Conti', 'Marvin Gaye', 'Fleetwood Mac', 'KC And The Sunshine Band', 'Stevie Wonder', 'Leo Sayer', 'Eagles', 'Glen Campbell', 'Thelma Houston', 'David Soul', 'ABBA', 'Daryl Hall John Oates', 'Barbra Streisand', 'Eagles', \"Manfred Mann's Earth Band\", 'Mary Macgregor', 'Rose Royce', 'Stevie Wonder', 'Leo Sayer', 'Marilyn McCoo & Billy Davis, Jr.', 'Rod Stewart', 'Steve Miller', 'Chicago', 'Rick Dees & His Cast Of Idiots', 'Walter Murphy & The Big Apple Band', 'Wild Cherry', 'KC And The Sunshine Band', 'Bee Gees', 'Elton John & Kiki Dee', 'The Manhattans', 'Starland Vocal Band', 'Wings', 'Diana Ross', 'The Sylvers', 'John Sebastian', 'Bellamy Brothers', 'Johnnie Taylor', 'The 4 Seasons', 'The Miracles', 'Rhythm Heritage', 'Paul Simon', 'Ohio Players', 'Diana Ross', 'Barry Manilow', 'C.W. McCall', 'Bay City Rollers', 'The Staple Singers', 'KC And The Sunshine Band', 'Silver Convention', 'Elton John', 'David Bowie', 'John Denver', 'Glen Campbell', 'KC And The Sunshine Band', 'Hamilton, Joe Frank & Reynolds', 'Bee Gees', 'Eagles', 'Van McCoy And The Soul City Symphony', 'Wings', 'Captain & Tennille', 'America', 'John Denver', 'Freddy Fender', 'Earth, Wind & Fire', 'Tony Orlando & Dawn', 'B.J. Thomas', 'The Elton John Band', 'Minnie Riperton', 'Frankie Valli', 'The Doobie Brothers', 'Olivia Newton-John', 'AWB', 'Linda Ronstadt', 'Ohio Players', 'Neil Sedaka', 'Carpenters', 'Barry Manilow', 'Elton John', 'Helen Reddy', 'Harry Chapin', 'Carl Douglas', 'Billy Swan', 'John Lennon With The Plastic Ono Nuclear Band', 'Bachman-Turner Overdrive', 'Stevie Wonder', 'Dionne Warwicke & Spinners', 'Billy Preston', 'Olivia Newton-John', 'Andy Kim', 'Barry White', 'Eric Clapton', 'Paul Anka with Odia Coates', 'Paper Lace', 'Roberta Flack', 'John Denver', 'George McCrae', 'The Hues Corporation', 'Gordon Lightfoot', 'Bo Donaldson And The Heywoods', 'Paul McCartney And Wings', 'Ray Stevens', 'Grand Funk', 'MFSB Featuring The Three Degrees', 'Elton John', 'Blue Swede', 'John Denver', 'Cher', 'Terry Jacks', 'Barbra Streisand', 'Love Unlimited Orchestra', 'Ringo Starr', 'Al Wilson', 'The Steve Miller Band', 'Jim Croce', 'Charlie Rich', 'Carpenters', 'Ringo Starr', 'Eddie Kendricks', 'Gladys Knight And The Pips', 'The Rolling Stones', 'Cher', 'Grand Funk', 'Marvin Gaye', 'Helen Reddy', 'Stories', 'Diana Ross', 'Maureen McGovern', 'Jim Croce', 'Billy Preston', 'George Harrison', 'Edgar Winter Group', 'Stevie Wonder', 'Dawn Featuring Tony Orlando', 'Vicki Lawrence', 'Roberta Flack', \"The O'Jays\", 'Elton John', 'Stevie Wonder', 'Carly Simon', 'Billy Paul', 'Helen Reddy', 'The Temptations', 'Johnny Nash', 'Chuck Berry', 'Michael Jackson', 'Mac Davis', 'Three Dog Night', \"Gilbert O'Sullivan\", 'Looking Glass', 'Neil Diamond', 'Sammy Davis, Jr. with The Mike Curb Congregation', 'The Staple Singers', 'The Chi-lites', 'Roberta Flack', 'America', 'Neil Young', 'Nilsson', 'Al Green', 'Don McLean', 'Melanie', 'Isaac Hayes', 'Cher', 'Rod Stewart', 'Donny Osmond', 'Paul & Linda McCartney', 'Bee Gees', 'James Taylor', 'The Raiders', 'Carole King', 'The Honey Cone', 'The Rolling Stones', 'Three Dog Night', 'The Temptations', 'Janis Joplin', 'The Osmonds', 'Dawn', 'George Harrison', 'Smokey Robinson & The Miracles', 'The Partridge Family Starring Shirley Jones Featuring David Cassidy', 'Neil Diamond', 'Diana Ross', 'Edwin Starr', 'Bread', 'Carpenters', 'Three Dog Night', 'Jackson 5', 'The Beatles', 'Ray Stevens', 'The Guess Who', 'Jackson 5', 'The Beatles', 'Simon & Garfunkel', 'Sly & The Family Stone', 'Jackson 5', 'B.J. Thomas', 'Diana Ross & The Supremes', 'Peter, Paul & Mary', 'Steam', 'The Beatles', 'The 5th Dimension', 'Elvis Presley', 'The Temptations', 'The Archies', 'The Rolling Stones', 'Zager & Evans', 'Henry Mancini And His Orchestra', 'The Beatles With Billy Preston', 'The 5th Dimension', 'Tommy Roe', 'Sly & The Family Stone', 'Tommy James And The Shondells', 'Marvin Gaye', 'Diana Ross & The Supremes', 'The Beatles', 'Jeannie C. Riley', 'The Rascals', 'The Doors', 'Hugh Masekela', 'Herb Alpert', 'Simon & Garfunkel', 'Archie Bell & The Drells', 'Otis Redding', 'Paul Mauriat And His Orchestra', 'The Lemon Pipers', 'John Fred And The Playboys', 'The Beatles', 'The Monkees', 'Strawberry Alarm Clock', 'Lulu', 'The Box Tops', 'Bobbie Gentry', 'The Beatles', 'The Doors', 'The Association', 'The Young Rascals', 'Aretha Franklin', 'The Supremes', 'Nancy Sinatra & Frank Sinatra', 'The Turtles', 'The Beatles', 'The Supremes', 'The Rolling Stones', 'The Buckinghams', 'The Monkees', 'The New Vaudeville Band', 'Johnny Rivers', 'The Monkees', '? (Question Mark) & The Mysterians', 'Four Tops', 'The Association', 'The Supremes', 'Donovan', \"The Lovin' Spoonful\", 'The Troggs', 'Tommy James And The Shondells', 'The Beatles', 'Frank Sinatra', 'The Rolling Stones', 'The Mamas & The Papas', 'The Young Rascals', 'The Righteous Brothers', 'SSgt Barry Sadler', 'Nancy Sinatra', 'Lou Christie', 'The Beatles', 'Simon & Garfunkel', 'The Dave Clark Five', 'The Byrds', 'The Supremes', 'The Rolling Stones', 'The Beatles', 'The McCoys', 'Barry McGuire', 'The Beatles', 'Sonny & Cher', \"Herman's Hermits\", 'The Rolling Stones', 'Four Tops', 'The Byrds', 'The Supremes', 'The Beach Boys', 'The Beatles', \"Herman's Hermits\", 'Wayne Fontana & The Mindbenders', 'Freddie And The Dreamers', 'The Supremes', 'The Beatles', 'The Temptations', 'Gary Lewis And The Playboys', 'The Righteous Brothers', 'Petula Clark', 'The Supremes', 'The Beatles', 'Bobby Vinton', 'Lorne Greene', 'The Shangri-Las', 'The Supremes', 'Manfred Mann', 'Roy Orbison And The Candy Men', 'The Animals', 'The Supremes', 'Dean Martin', 'The Beatles', 'The 4 Seasons Featuring the \"Sound of Frankie Valli\"', 'The Beach Boys', 'Peter And Gordon', 'The Dixie Cups', 'The Beatles', 'Mary Wells', 'Louis Armstrong And The All Stars', 'The Beatles', 'The Beatles', 'The Beatles', 'Bobby Vinton', 'The Singing Nun (Soeur Sourire)', 'Dale & Grace', 'Nino Tempo & April Stevens', 'Jimmy Gilmer And The Fireballs', 'Bobby Vinton', 'The Angels', 'Little Stevie Wonder', 'The Tymes', 'Jan & Dean', 'The Essex', 'Kyu Sakamoto', 'Lesley Gore', 'Jimmy Soul', 'Little Peggy March', 'The Chiffons', 'Ruby And The Romantics', 'The 4 Seasons', 'Paul and Paula', 'The Rooftop Singers', 'The Tornadoes', 'The Crystals', 'Bobby \"Boris\" Pickett And The Crypt-Kickers', 'The 4 Seasons', 'Tommy Roe', 'Neil Sedaka', 'Bobby Vinton', 'David Rose and His Orchestra', 'Ray Charles', 'Mr. Acker Bilk', 'The Shirelles', 'Elvis Presley With The Jordanaires', 'Shelley Fabares', 'Connie Francis', 'Bruce Channel', 'Gene Chandler', 'Joey Dee & the Starliters', 'Chubby Checker', 'The Tokens', 'Jimmy Dean', 'Dion', 'Ray Charles and his Orchestra', 'Bobby Vee', 'The Highwaymen', 'Joe Dowell', 'Bobby Lewis', 'U.S. Bonds', 'Pat Boone', 'Ricky Nelson', 'Roy Orbison', 'Ernie K-Doe', 'Del Shannon', 'The Marcels', 'Elvis Presley With The Jordanaires', 'Chubby Checker', 'Lawrence Welk And His Orchestra', 'The Shirelles', 'Bert Kaempfert And His Orchestra', 'Elvis Presley With The Jordanaires', 'Maurice Williams & The Zodiacs', 'Ray Charles', 'The Drifters', 'Brenda Lee', 'Larry Verne', 'Connie Francis', 'Elvis Presley With The Jordanaires', 'Brian Hyland', 'Hollywood Argyles', 'Connie Francis', 'The Everly Brothers', 'Elvis Presley With The Jordanaires', 'Percy Faith And His Orchestra', 'Mark Dinning', 'Johnny Preston', 'Marty Robbins', 'Frankie Avalon', 'Guy Mitchell', 'Bobby Darin', 'The Fleetwoods', 'Santo & Johnny', 'The Browns', 'Elvis Presley With The Jordanaires', 'Paul Anka', 'Johnny Horton', 'Wilbert Harrison', 'Dave \"Baby\" Cortez', 'The Fleetwoods', 'Lloyd Price', 'The Platters', 'The Chipmunks With David Seville']\n"
     ]
    }
   ],
   "source": [
    "\n",
    "print(artist_list)"
   ]
  },
  {
   "cell_type": "code",
   "execution_count": 99,
   "metadata": {},
   "outputs": [
    {
     "name": "stdout",
     "output_type": "stream",
     "text": [
      "['2017-12-30', '2017-12-09', '2017-10-14', '2017-09-23', '2017-09-02', '2017-05-13', '2017-05-06', '2017-04-29', '2017-04-22', '2017-02-04', '2017-01-07', '2016-12-31', '2016-11-12', '2016-08-20', '2016-07-23', '2016-05-21', '2016-05-07', '2016-04-23', '2016-02-20', '2016-02-13', '2016-01-30', '2016-01-09', '2015-10-31', '2015-09-19', '2015-09-12', '2015-08-29', '2015-07-11', '2015-05-30', '2015-04-11', '2015-01-03', '2014-11-15', '2014-11-01', '2014-08-23', '2014-07-12', '2014-05-24', '2014-05-03', '2014-02-22', '2014-01-25', '2014-01-04', '2013-12-07', '2013-11-30', '2013-09-14', '2013-08-31', '2013-06-08', '2013-05-04', '2013-04-13', '2013-04-06', '2013-03-23', '2013-01-19', '2012-12-08', '2012-11-17', '2012-09-15', '2012-09-08', '2012-08-11', '2012-06-09', '2012-04-14', '2012-03-03', '2012-02-25', '2012-02-04', '2012-01-21', '2012-01-07', '2011-10-29', '2011-10-01', '2011-08-27', '2011-08-13', '2011-07-02', '2011-06-25', '2011-05-07', '2011-04-23', '2011-03-26', '2011-02-12', '2011-02-05', '2011-01-22', '2011-01-08', '2010-12-04', '2010-11-27', '2010-11-20', '2010-11-13', '2010-11-06', '2010-10-16', '2010-09-18', '2010-09-04', '2010-07-17', '2010-06-05', '2010-05-15', '2010-05-01', '2010-04-17', '2010-03-13', '2010-03-06', '2010-02-20', '2009-12-19', '2009-11-14', '2009-11-07', '2009-10-24', '2009-10-17', '2009-10-03', '2009-06-27', '2009-04-04', '2009-03-28', '2009-02-14', '2009-02-07', '2009-01-24', '2009-01-03', '2008-12-13', '2008-11-01', '2008-10-18', '2008-09-20', '2008-08-23', '2008-08-09', '2008-06-21', '2008-06-14', '2008-05-17', '2008-05-10', '2008-04-12', '2008-03-22', '2008-03-01', '2007-12-22', '2007-11-17', '2007-10-27', '2007-09-22', '2007-09-01', '2007-08-25', '2007-07-28', '2007-07-14', '2007-05-26', '2007-05-19', '2007-04-28', '2007-04-21', '2007-04-07', '2007-03-24', '2007-03-10', '2007-02-24', '2007-02-17', '2007-02-10', '2006-12-02', '2006-11-18', '2006-10-28', '2006-10-14', '2006-08-26', '2006-08-05', '2006-06-24', '2006-06-17', '2006-06-03', '2006-05-20', '2006-04-29', '2006-03-25', '2006-03-18', '2006-03-04', '2006-02-25', '2006-01-21', '2006-01-07', '2005-12-31', '2005-12-17', '2005-11-12', '2005-09-03', '2005-06-25', '2005-05-21', '2005-04-23', '2005-02-19', '2004-12-18', '2004-11-27', '2004-10-16', '2004-08-28', '2004-08-07', '2004-07-24', '2004-07-10', '2004-07-03', '2004-05-08', '2004-02-14', '2004-02-07', '2004-01-31', '2003-11-29', '2003-11-22', '2003-09-20', '2003-08-23', '2003-06-28', '2003-06-14', '2003-05-17', '2003-04-26', '2003-02-22', '2003-01-25', '2003-01-18', '2002-10-26', '2002-10-05', '2002-08-03', '2002-06-15', '2002-04-06', '2002-02-23', '2002-02-09', '2002-01-05', '2001-12-01', '2001-10-20', '2001-10-06', '2001-08-04', '2001-07-21', '2001-06-23', '2001-05-19', '2001-03-31', '2001-03-24', '2001-03-10', '2001-02-10', '2001-02-03', '2001-01-20', '2000-11-04', '2000-10-28', '2000-09-30', '2000-09-02', '2000-08-12', '2000-07-29', '2000-07-15', '2000-07-08', '2000-07-01', '2000-06-10', '2000-06-03', '2000-03-25', '2000-03-04', '2000-02-19', '2000-02-12', '2000-01-15', '2000-01-01', '1999-10-09', '1999-09-25', '1999-09-04', '1999-08-21', '1999-07-17', '1999-07-10', '1999-07-03', '1999-05-29', '1999-04-24', '1999-03-27', '1999-02-27', '1999-01-30', '1999-01-16', '1999-01-02', '1998-11-21', '1998-11-14', '1998-10-31', '1998-10-10', '1998-09-19', '1998-08-22', '1998-05-23', '1998-05-16', '1998-04-11', '1998-03-21', '1998-02-28', '1998-02-14', '1998-01-31', '1998-01-17', '1998-01-03', '1997-09-27', '1997-09-20', '1997-08-30', '1997-08-16', '1997-05-31', '1997-05-10', '1997-04-19', '1997-03-08', '1997-02-08', '1996-11-23', '1996-10-26', '1996-07-20', '1996-07-13', '1996-06-29', '1996-05-04', '1996-04-20', '1996-03-09', '1995-11-18', '1995-11-11', '1995-09-16', '1995-08-26', '1995-08-19', '1995-08-12', '1995-06-24', '1995-05-20', '1995-02-11', '1995-01-14', '1994-12-17', '1994-11-19', '1994-08-13', '1994-07-23', '1994-05-07', '1994-04-23', '1994-02-26', '1994-01-29', '1994-01-08', '1993-12-11', '1993-11-27', '1993-10-23', '1993-08-28', '1993-07-10', '1993-06-26', '1993-05-01', '1993-04-17', '1993-02-27', '1993-02-20', '1992-11-14', '1992-10-31', '1992-08-01', '1992-07-25', '1992-06-20', '1992-06-06', '1992-04-11', '1992-03-07', '1992-02-15', '1992-01-25', '1992-01-18', '1992-01-11', '1991-11-23', '1991-11-16', '1991-11-09', '1991-10-26', '1991-10-19', '1991-09-28', '1991-09-21', '1991-09-07', '1991-08-31', '1991-07-13', '1991-07-06', '1991-06-01', '1991-05-25', '1991-05-11', '1991-05-04', '1991-04-27', '1991-04-13', '1991-04-06', '1991-03-30', '1991-03-16', '1991-03-09', '1991-02-23', '1991-02-09', '1991-01-26', '1991-01-12', '1991-01-05', '1990-12-22', '1990-11-24', '1990-11-17', '1990-10-27', '1990-10-20', '1990-10-13', '1990-10-06', '1990-09-29', '1990-09-22', '1990-09-15', '1990-09-01', '1990-08-25', '1990-08-18', '1990-07-21', '1990-07-07', '1990-06-16', '1990-06-02', '1990-05-26', '1990-05-05', '1990-04-07', '1990-03-31', '1990-03-24', '1990-03-10', '1990-02-17', '1990-01-27', '1990-01-06', '1989-12-09', '1989-11-25', '1989-11-11', '1989-10-28', '1989-10-21', '1989-09-23', '1989-09-09', '1989-09-02', '1989-08-26', '1989-08-19', '1989-07-29', '1989-07-22', '1989-07-08', '1989-07-01', '1989-06-24', '1989-06-17', '1989-06-10', '1989-06-03', '1989-05-27', '1989-05-20', '1989-05-06', '1989-04-29', '1989-04-08', '1989-04-01', '1989-03-25', '1989-03-18', '1989-03-11', '1989-02-18', '1989-01-28', '1989-01-21', '1989-01-07', '1988-12-31', '1988-12-10', '1988-11-26', '1988-11-19', '1988-11-05', '1988-10-29', '1988-10-22', '1988-10-08', '1988-10-01', '1988-09-24', '1988-09-10', '1988-08-27', '1988-08-13', '1988-07-16', '1988-07-09', '1988-06-25', '1988-06-18', '1988-06-11', '1988-05-14', '1988-04-30', '1988-04-23', '1988-04-09', '1988-03-26', '1988-03-12', '1988-02-27', '1988-02-13', '1988-02-06', '1988-01-23', '1988-01-16', '1988-01-09', '1988-01-02', '1987-12-26', '1987-11-28', '1987-11-21', '1987-11-14', '1987-11-07', '1987-10-24', '1987-10-10', '1987-10-03', '1987-09-26', '1987-09-12', '1987-09-05', '1987-08-15', '1987-08-08', '1987-07-25', '1987-07-18', '1987-06-27', '1987-06-13', '1987-06-06', '1987-05-30', '1987-05-23', '1987-05-02', '1987-04-18', '1987-04-04', '1987-03-21', '1987-03-07', '1987-02-28', '1987-01-31', '1987-01-24', '1987-01-10', '1987-01-03', '1986-12-06', '1986-11-29', '1986-11-22', '1986-11-15', '1986-11-08', '1986-10-25', '1986-10-11', '1986-09-27', '1986-09-06', '1986-08-30', '1986-08-23', '1986-08-16', '1986-08-02', '1986-07-19', '1986-07-12', '1986-07-05', '1986-06-28', '1986-06-21', '1986-05-31', '1986-05-24', '1986-05-03', '1986-04-26', '1986-04-19', '1986-04-05', '1986-03-15', '1986-03-08', '1986-03-01', '1986-02-15', '1986-02-01', '1986-01-04', '1985-12-07', '1985-11-23', '1985-11-16', '1985-11-02', '1985-10-26', '1985-10-19', '1985-10-12', '1985-10-05', '1985-09-28', '1985-09-07', '1985-08-10', '1985-07-20', '1985-07-13', '1985-06-29', '1985-06-22', '1985-06-08', '1985-05-25', '1985-05-11', '1985-05-04', '1985-04-27', '1985-03-16', '1985-02-23', '1985-02-02', '1985-01-19', '1984-12-08', '1984-11-24', '1984-11-03', '1984-10-20', '1984-09-29', '1984-09-15', '1984-09-08', '1984-08-18', '1984-07-28', '1984-06-23', '1984-06-09', '1984-05-26', '1984-04-28', '1984-04-07', '1984-02-11', '1984-01-21', '1984-01-07', '1983-11-26', '1983-10-29', '1983-10-15', '1983-09-17', '1983-09-10', '1983-08-27', '1983-08-20', '1983-06-25', '1983-05-14', '1983-05-07', '1983-04-16', '1983-04-09', '1983-02-19', '1983-02-05', '1983-01-29', '1983-01-01', '1982-12-04', '1982-11-27', '1982-11-13', '1982-10-23', '1982-10-16', '1982-09-18', '1982-09-11', '1982-08-21', '1982-07-10', '1982-06-19', '1982-05-01', '1982-04-24', '1982-03-06', '1982-01-23', '1982-01-16', '1981-11-07', '1981-10-24', '1981-10-03', '1981-08-01', '1981-07-18', '1981-07-11', '1981-06-13', '1981-05-02', '1981-04-18', '1981-03-28', '1981-03-14', '1981-03-07', '1981-02-28', '1981-02-07', '1981-01-24', '1981-01-17', '1980-12-13', '1980-11-01', '1980-10-11', '1980-09-20', '1980-08-23', '1980-08-16', '1980-07-19', '1980-07-05', '1980-06-14', '1980-05-17', '1980-04-05', '1980-03-08', '1980-02-09', '1980-02-02', '1980-01-05', '1979-12-29', '1979-12-08', '1979-11-24', '1979-11-10', '1979-11-03', '1979-10-27', '1979-10-20', '1979-10-06', '1979-09-29', '1979-09-22', '1979-08-11', '1979-08-04', '1979-06-30', '1979-06-16', '1979-06-02', '1979-05-19', '1979-04-21', '1979-04-14', '1979-04-07', '1979-03-31', '1979-03-24', '1979-02-24', '1979-01-27', '1979-01-06', '1978-12-09', '1978-11-18', '1978-10-28', '1978-10-21', '1978-10-14', '1978-09-16', '1978-08-26', '1978-08-12', '1978-07-29', '1978-07-22', '1978-06-03', '1978-05-27', '1978-05-20', '1978-05-06', '1978-04-29', '1978-03-04', '1978-02-18', '1978-01-21', '1977-12-31', '1977-12-10', '1977-10-01', '1977-09-17', '1977-09-10', '1977-07-16', '1977-07-09', '1977-07-02', '1977-06-25', '1977-06-18', '1977-06-11', '1977-06-04', '1977-05-28', '1977-05-07', '1977-04-30', '1977-04-23', '1977-04-16', '1977-04-09', '1977-04-02', '1977-03-26', '1977-03-12', '1977-02-19', '1977-02-12', '1977-02-05', '1977-01-22', '1977-01-15', '1977-01-08', '1977-01-01', '1976-12-25', '1976-10-30', '1976-10-23', '1976-10-09', '1976-10-02', '1976-09-25', '1976-09-04', '1976-08-28', '1976-08-21', '1976-07-24', '1976-07-10', '1976-06-26', '1976-05-29', '1976-05-08', '1976-05-01', '1976-04-24', '1976-04-17', '1976-03-20', '1976-02-28', '1976-02-21', '1976-02-14', '1976-01-24', '1976-01-17', '1976-01-10', '1976-01-03', '1975-12-27', '1975-12-20', '1975-12-13', '1975-12-06', '1975-11-08', '1975-09-27', '1975-09-20', '1975-09-06', '1975-08-23', '1975-08-16', '1975-08-09', '1975-07-26', '1975-07-19', '1975-07-12', '1975-07-05', '1975-06-07', '1975-05-31', '1975-05-24', '1975-05-17', '1975-05-10', '1975-04-19', '1975-04-12', '1975-03-29', '1975-03-15', '1975-03-08', '1975-03-01', '1975-02-15', '1975-02-08', '1975-02-01', '1975-01-25', '1975-01-18', '1975-01-11', '1975-01-04', '1974-12-21', '1974-12-14', '1974-12-07', '1974-11-23', '1974-11-09', '1974-11-02', '1974-10-26', '1974-10-19', '1974-10-12', '1974-10-05', '1974-09-21', '1974-09-14', '1974-09-07', '1974-08-31', '1974-08-10', '1974-08-03', '1974-07-27', '1974-07-13', '1974-06-29', '1974-06-22', '1974-06-15', '1974-06-01', '1974-05-25', '1974-05-04', '1974-04-20', '1974-04-06', '1974-03-30', '1974-03-23', '1974-03-16', '1974-03-09', '1974-02-16', '1974-02-02', '1974-01-19', '1974-01-12', '1974-01-05', '1973-12-29', '1973-12-15', '1973-12-01', '1973-11-17', '1973-11-10', '1973-10-27', '1973-10-13', '1973-10-06', '1973-09-22', '1973-09-15', '1973-09-08', '1973-08-25', '1973-08-11', '1973-08-04', '1973-07-21', '1973-07-07', '1973-06-23', '1973-05-19', '1973-05-12', '1973-05-05', '1973-04-07', '1973-03-24', '1973-03-17', '1973-02-10', '1973-01-20', '1973-01-13', '1972-12-23', '1972-12-02', '1972-11-25', '1972-11-18', '1972-10-21', '1972-10-07', '1972-09-30', '1972-09-09', '1972-09-02', '1972-08-19', '1972-06-24', '1972-06-17', '1972-05-27', '1972-05-20', '1972-05-13', '1972-04-01', '1972-03-11', '1972-03-04', '1972-02-05', '1972-01-29', '1972-01-01', '1971-11-20', '1971-11-06', '1971-10-23', '1971-09-18', '1971-08-28', '1971-08-21', '1971-07-24', '1971-07-17', '1971-07-10', '1971-06-05', '1971-05-29', '1971-05-15', '1971-04-03', '1971-03-20', '1971-03-06', '1971-01-30', '1971-01-09', '1970-12-12', '1970-11-28', '1970-10-03', '1970-09-26', '1970-09-05', '1970-08-15', '1970-08-08', '1970-07-11', '1970-06-27', '1970-06-13', '1970-05-30', '1970-05-16', '1970-04-25', '1970-04-11', '1970-03-28', '1970-02-14', '1970-01-24', '1970-01-17', '1969-12-20', '1969-12-13', '1969-12-06', '1969-11-22', '1969-11-15', '1969-10-25', '1969-10-18', '1969-10-04', '1969-09-06', '1969-08-09', '1969-06-28', '1969-06-14', '1969-05-10', '1969-03-29', '1969-03-01', '1969-02-01', '1969-01-18', '1968-11-30', '1968-11-16', '1968-09-14', '1968-09-07', '1968-08-03', '1968-07-20', '1968-07-06', '1968-06-08', '1968-05-18', '1968-03-30', '1968-03-02', '1968-01-27', '1968-01-20', '1968-01-06', '1967-12-16', '1967-11-18', '1967-11-11', '1967-10-07', '1967-09-09', '1967-08-12', '1967-08-05', '1967-07-15', '1967-06-17', '1967-06-03', '1967-05-06', '1967-04-29', '1967-04-01', '1967-03-11', '1967-03-04', '1967-02-25', '1967-02-18', '1967-02-04', '1966-12-17', '1966-11-05', '1966-10-29', '1966-10-22', '1966-10-15', '1966-10-01', '1966-09-10', '1966-08-27', '1966-08-20', '1966-07-30', '1966-07-16', '1966-07-02', '1966-06-25', '1966-06-11', '1966-05-14', '1966-04-23', '1966-04-16', '1966-03-26', '1966-02-19', '1966-02-12', '1966-01-22', '1966-01-15', '1965-12-18', '1965-12-11', '1965-11-20', '1965-11-06', '1965-10-23', '1965-09-25', '1965-09-18', '1965-09-11', '1965-08-21', '1965-07-31', '1965-07-24', '1965-06-26', '1965-06-19', '1965-06-05', '1965-05-29', '1965-05-15', '1965-05-08', '1965-04-17', '1965-04-10', '1965-03-27', '1965-03-13', '1965-02-27', '1965-02-20', '1965-02-06', '1965-01-23', '1965-01-09', '1965-01-02', '1964-12-05', '1964-11-28', '1964-11-21', '1964-11-14', '1964-10-17', '1964-10-03', '1964-09-12', '1964-08-22', '1964-08-08', '1964-08-01', '1964-07-18', '1964-07-04', '1964-06-20', '1964-06-13', '1964-05-23', '1964-05-16', '1964-05-02', '1964-04-25', '1964-03-21', '1964-03-07', '1964-01-18', '1963-12-21', '1963-11-23', '1963-11-09', '1963-11-02', '1963-09-28', '1963-09-07', '1963-08-17', '1963-07-27', '1963-07-20', '1963-07-06', '1963-06-22', '1963-06-01', '1963-05-18', '1963-05-04', '1963-04-13', '1963-03-16', '1963-03-09', '1963-02-16', '1963-01-26', '1962-12-29', '1962-11-03', '1962-10-20', '1962-10-06', '1962-09-01', '1962-08-11', '1962-07-28', '1962-06-30', '1962-06-23', '1962-05-19', '1962-05-12', '1962-04-21', '1962-04-07', '1962-03-24', '1962-03-17', '1962-02-24', '1962-02-03', '1962-01-13', '1961-12-25', '1961-11-27', '1961-10-23', '1961-10-09', '1961-09-25', '1961-09-04', '1961-08-21', '1961-08-14', '1961-06-26', '1961-06-12', '1961-06-05', '1961-05-29', '1961-05-15', '1961-05-08', '1961-04-10', '1961-03-20', '1961-03-06', '1961-02-13', '1961-01-30', '1961-01-16', '1960-12-26', '1960-11-14', '1960-11-07', '1960-10-31', '1960-10-17', '1960-10-03', '1960-09-26', '1960-09-05', '1960-08-01', '1960-07-04', '1960-06-27', '1960-06-13', '1960-05-09', '1960-04-11', '1960-02-08', '1960-01-25', '1960-01-04', '1959-12-21', '1959-12-14', '1959-11-30', '1959-11-09', '1959-09-21', '1959-09-07', '1959-08-10', '1959-07-27', '1959-06-29', '1959-05-18', '1959-05-04', '1959-04-27', '1959-02-23', '1959-01-26', '1959-01-05']\n"
     ]
    }
   ],
   "source": [
    "print(date_list)"
   ]
  },
  {
   "cell_type": "code",
   "execution_count": 100,
   "metadata": {},
   "outputs": [
    {
     "data": {
      "text/html": [
       "<div>\n",
       "<style scoped>\n",
       "    .dataframe tbody tr th:only-of-type {\n",
       "        vertical-align: middle;\n",
       "    }\n",
       "\n",
       "    .dataframe tbody tr th {\n",
       "        vertical-align: top;\n",
       "    }\n",
       "\n",
       "    .dataframe thead th {\n",
       "        text-align: right;\n",
       "    }\n",
       "</style>\n",
       "<table border=\"1\" class=\"dataframe\">\n",
       "  <thead>\n",
       "    <tr style=\"text-align: right;\">\n",
       "      <th></th>\n",
       "      <th>Title</th>\n",
       "      <th>Artist</th>\n",
       "      <th>Date</th>\n",
       "    </tr>\n",
       "  </thead>\n",
       "  <tbody>\n",
       "    <tr>\n",
       "      <th>0</th>\n",
       "      <td>Perfect</td>\n",
       "      <td>Ed Sheeran</td>\n",
       "      <td>2017-12-30</td>\n",
       "    </tr>\n",
       "    <tr>\n",
       "      <th>1</th>\n",
       "      <td>Rockstar</td>\n",
       "      <td>Post Malone Featuring 21 Savage</td>\n",
       "      <td>2017-12-09</td>\n",
       "    </tr>\n",
       "    <tr>\n",
       "      <th>2</th>\n",
       "      <td>Bodak Yellow (Money Moves)</td>\n",
       "      <td>Cardi B</td>\n",
       "      <td>2017-10-14</td>\n",
       "    </tr>\n",
       "    <tr>\n",
       "      <th>3</th>\n",
       "      <td>Look What You Made Me Do</td>\n",
       "      <td>Taylor Swift</td>\n",
       "      <td>2017-09-23</td>\n",
       "    </tr>\n",
       "    <tr>\n",
       "      <th>4</th>\n",
       "      <td>Despacito</td>\n",
       "      <td>Luis Fonsi &amp; Daddy Yankee Featuring Justin Bieber</td>\n",
       "      <td>2017-09-02</td>\n",
       "    </tr>\n",
       "  </tbody>\n",
       "</table>\n",
       "</div>"
      ],
      "text/plain": [
       "                        Title  \\\n",
       "0                     Perfect   \n",
       "1                    Rockstar   \n",
       "2  Bodak Yellow (Money Moves)   \n",
       "3    Look What You Made Me Do   \n",
       "4                   Despacito   \n",
       "\n",
       "                                              Artist        Date  \n",
       "0                                         Ed Sheeran  2017-12-30  \n",
       "1                    Post Malone Featuring 21 Savage  2017-12-09  \n",
       "2                                            Cardi B  2017-10-14  \n",
       "3                                       Taylor Swift  2017-09-23  \n",
       "4  Luis Fonsi & Daddy Yankee Featuring Justin Bieber  2017-09-02  "
      ]
     },
     "execution_count": 100,
     "metadata": {},
     "output_type": "execute_result"
    }
   ],
   "source": [
    "summary_df=pd.DataFrame({\"Title\": title_list,\n",
    "                        \"Artist\": artist_list,\n",
    "                        \"Date\": date_list})\n",
    "summary_df.head()"
   ]
  },
  {
   "cell_type": "code",
   "execution_count": 101,
   "metadata": {},
   "outputs": [
    {
     "data": {
      "text/plain": [
       "0              Ed\n",
       "1            Post\n",
       "2           Cardi\n",
       "3          Taylor\n",
       "4            Luis\n",
       "5              DJ\n",
       "6           Bruno\n",
       "7        Kendrick\n",
       "8              Ed\n",
       "9           Migos\n",
       "10            Rae\n",
       "11            The\n",
       "12            The\n",
       "13            Sia\n",
       "14          Drake\n",
       "15         Justin\n",
       "16      Desiigner\n",
       "17        Rihanna\n",
       "18         Justin\n",
       "19           Zayn\n",
       "20         Justin\n",
       "21          Adele\n",
       "22            The\n",
       "23            The\n",
       "24         Justin\n",
       "25            OMI\n",
       "26            Wiz\n",
       "27         Taylor\n",
       "28           Mark\n",
       "29         Taylor\n",
       "          ...    \n",
       "1007          Ray\n",
       "1008          The\n",
       "1009       Brenda\n",
       "1010        Larry\n",
       "1011       Connie\n",
       "1012        Elvis\n",
       "1013        Brian\n",
       "1014    Hollywood\n",
       "1015       Connie\n",
       "1016          The\n",
       "1017        Elvis\n",
       "1018        Percy\n",
       "1019         Mark\n",
       "1020       Johnny\n",
       "1021        Marty\n",
       "1022      Frankie\n",
       "1023          Guy\n",
       "1024        Bobby\n",
       "1025          The\n",
       "1026        Santo\n",
       "1027          The\n",
       "1028        Elvis\n",
       "1029         Paul\n",
       "1030       Johnny\n",
       "1031      Wilbert\n",
       "1032         Dave\n",
       "1033          The\n",
       "1034        Lloyd\n",
       "1035          The\n",
       "1036          The\n",
       "Name: 0, Length: 1037, dtype: object"
      ]
     },
     "execution_count": 101,
     "metadata": {},
     "output_type": "execute_result"
    }
   ],
   "source": [
    "first_name=summary_df.Artist.str.split(expand=True,)[0]\n",
    "first_name"
   ]
  },
  {
   "cell_type": "code",
   "execution_count": 102,
   "metadata": {},
   "outputs": [
    {
     "data": {
      "text/html": [
       "<div>\n",
       "<style scoped>\n",
       "    .dataframe tbody tr th:only-of-type {\n",
       "        vertical-align: middle;\n",
       "    }\n",
       "\n",
       "    .dataframe tbody tr th {\n",
       "        vertical-align: top;\n",
       "    }\n",
       "\n",
       "    .dataframe thead th {\n",
       "        text-align: right;\n",
       "    }\n",
       "</style>\n",
       "<table border=\"1\" class=\"dataframe\">\n",
       "  <thead>\n",
       "    <tr style=\"text-align: right;\">\n",
       "      <th></th>\n",
       "      <th>Title</th>\n",
       "      <th>First Name</th>\n",
       "      <th>Date</th>\n",
       "    </tr>\n",
       "  </thead>\n",
       "  <tbody>\n",
       "    <tr>\n",
       "      <th>0</th>\n",
       "      <td>Perfect</td>\n",
       "      <td>Ed</td>\n",
       "      <td>2017-12-30</td>\n",
       "    </tr>\n",
       "    <tr>\n",
       "      <th>1</th>\n",
       "      <td>Rockstar</td>\n",
       "      <td>Post</td>\n",
       "      <td>2017-12-09</td>\n",
       "    </tr>\n",
       "    <tr>\n",
       "      <th>2</th>\n",
       "      <td>Bodak Yellow (Money Moves)</td>\n",
       "      <td>Cardi</td>\n",
       "      <td>2017-10-14</td>\n",
       "    </tr>\n",
       "    <tr>\n",
       "      <th>3</th>\n",
       "      <td>Look What You Made Me Do</td>\n",
       "      <td>Taylor</td>\n",
       "      <td>2017-09-23</td>\n",
       "    </tr>\n",
       "    <tr>\n",
       "      <th>4</th>\n",
       "      <td>Despacito</td>\n",
       "      <td>Luis</td>\n",
       "      <td>2017-09-02</td>\n",
       "    </tr>\n",
       "  </tbody>\n",
       "</table>\n",
       "</div>"
      ],
      "text/plain": [
       "                        Title First Name        Date\n",
       "0                     Perfect         Ed  2017-12-30\n",
       "1                    Rockstar       Post  2017-12-09\n",
       "2  Bodak Yellow (Money Moves)      Cardi  2017-10-14\n",
       "3    Look What You Made Me Do     Taylor  2017-09-23\n",
       "4                   Despacito       Luis  2017-09-02"
      ]
     },
     "execution_count": 102,
     "metadata": {},
     "output_type": "execute_result"
    }
   ],
   "source": [
    "summary_df_update=pd.DataFrame({\"Title\": title_list,\n",
    "                        \"First Name\": first_name,\n",
    "                        \"Date\": date_list})\n",
    "summary_df_update.head()"
   ]
  },
  {
   "cell_type": "code",
   "execution_count": 103,
   "metadata": {},
   "outputs": [],
   "source": [
    "summary_df_update.to_csv('summary_df_update.csv',index=False)"
   ]
  },
  {
   "cell_type": "code",
   "execution_count": null,
   "metadata": {},
   "outputs": [],
   "source": []
  }
 ],
 "metadata": {
  "kernelspec": {
   "display_name": "Python 3",
   "language": "python",
   "name": "python3"
  },
  "language_info": {
   "codemirror_mode": {
    "name": "ipython",
    "version": 3
   },
   "file_extension": ".py",
   "mimetype": "text/x-python",
   "name": "python",
   "nbconvert_exporter": "python",
   "pygments_lexer": "ipython3",
   "version": "3.7.3"
  }
 },
 "nbformat": 4,
 "nbformat_minor": 2
}
