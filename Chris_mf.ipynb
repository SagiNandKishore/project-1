{
 "cells": [
  {
   "cell_type": "code",
   "execution_count": 2,
   "metadata": {},
   "outputs": [],
   "source": [
    "import matplotlib.pyplot as plt\n",
    "import numpy as np\n",
    "import pandas as pd\n",
    "import os"
   ]
  },
  {
   "cell_type": "code",
   "execution_count": 3,
   "metadata": {},
   "outputs": [],
   "source": [
    "#names_df = pd.read_csv(\"Resources/yob1978.txt\", delimiter =\",\", names=[\"Name\", \"Gender\", \"YearOfBirth\"],dtype={\"Name\":\"str\",\"Gender\":\"str\", \"YearOfBirth\":np.int32})\n",
    "\n",
    "start_year=1880\n",
    "end_year=2019\n",
    "yearlist= list(range(start_year,end_year,1))\n",
    "#print(yearlist)\n",
    "year_df=pd.DataFrame(yearlist)\n",
    "year_df[\"dummy_col\"]=1\n",
    "year_df.set_index(\"dummy_col\", inplace=True)\n",
    "filename_list=[]\n",
    "for file in os.listdir(\"names\"):\n",
    "    if file.endswith(\".txt\") and int(file[3:7]) >= start_year:\n",
    "        df =  pd.read_csv(\"names/\"+file, delimiter =\",\", names=[\"Name\", \"Gender\", \"CountOfNames\"],dtype={\"Name\":\"str\",\"Gender\":\"str\", \"CountOfNames\":np.int32})\n",
    "        df[\"Year\"] = int(file[3:7])\n",
    "        \n",
    "        df = df[[\"Year\", \"Name\", \"Gender\", \"CountOfNames\"]]\n",
    "        filename_list.append(df)\n",
    "        \n",
    "names_df = pd.concat(filename_list, axis=0, ignore_index=True)\n",
    "names_df.sort_values(by=[\"Name\",\"Gender\",\"Year\"], inplace=True)\n",
    "unique_names_list = names_df.drop_duplicates(subset=[\"Name\", \"Gender\"])[[\"Name\", \"Gender\"]]\n",
    "unique_names_list[\"dummy_col\"]=1\n",
    "unique_names_list.set_index(\"dummy_col\", inplace=True)\n",
    "\n",
    "final_data_set = unique_names_list.join(year_df,on=\"dummy_col\",how = \"outer\")\n",
    "final_data_set.rename(columns={0:\"Year\"}, inplace=True)\n",
    "\n",
    "data_set_with_counts = final_data_set.merge(names_df, on=[\"Name\", \"Gender\", \"Year\"], how = \"outer\")\n",
    "data_set_with_counts.fillna(0, inplace = True)\n",
    "data_set_with_counts[\"Percent_Change\"] = data_set_with_counts[\"CountOfNames\"].pct_change() * 100"
   ]
  },
  {
   "cell_type": "code",
   "execution_count": 4,
   "metadata": {},
   "outputs": [],
   "source": [
    "baby_sum = names_df.groupby(['Gender','Year'])['CountOfNames'].sum()\n",
    "baby_sum_df = pd.DataFrame(baby_sum)\n",
    "baby_sum_df.rename(columns={'CountOfNames':'CountOfBabies'},inplace=True)\n",
    "baby_sum_df.reset_index(inplace=True)\n",
    "merged_df = pd.merge(data_set_with_counts,baby_sum_df, on=['Gender','Year'])"
   ]
  },
  {
   "cell_type": "code",
   "execution_count": 5,
   "metadata": {},
   "outputs": [],
   "source": [
    "# name_sum = names_df.groupby(['Gender','Year'])['Name'].nunique()\n",
    "# name_sum_df = pd.DataFrame(name_sum)\n",
    "# name_sum_df.rename(columns={'Name':'CountUniqueNames'},inplace=True)\n",
    "# name_sum_df.reset_index(inplace=True)\n",
    "# merged_df2 = pd.merge(merged_df,name_sum_df, on=['Gender','Year'])"
   ]
  },
  {
   "cell_type": "markdown",
   "metadata": {},
   "source": [
    "Count of unique names by gender:"
   ]
  },
  {
   "cell_type": "code",
   "execution_count": 6,
   "metadata": {},
   "outputs": [
    {
     "data": {
      "text/plain": [
       "Gender\n",
       "F    67698\n",
       "M    41475\n",
       "Name: Name, dtype: int64"
      ]
     },
     "execution_count": 6,
     "metadata": {},
     "output_type": "execute_result"
    }
   ],
   "source": [
    "names_df.groupby(['Gender'])['Name'].nunique()"
   ]
  },
  {
   "cell_type": "markdown",
   "metadata": {},
   "source": [
    "Count of names by gender:"
   ]
  },
  {
   "cell_type": "code",
   "execution_count": 7,
   "metadata": {},
   "outputs": [
    {
     "data": {
      "text/plain": [
       "Gender\n",
       "F    174079232\n",
       "M    177573793\n",
       "Name: CountOfNames, dtype: int32"
      ]
     },
     "execution_count": 7,
     "metadata": {},
     "output_type": "execute_result"
    }
   ],
   "source": [
    "names_df.groupby(['Gender'])['CountOfNames'].sum()"
   ]
  },
  {
   "cell_type": "markdown",
   "metadata": {},
   "source": [
    "Conclusion: There are more unique female names than male names"
   ]
  },
  {
   "cell_type": "code",
   "execution_count": 8,
   "metadata": {},
   "outputs": [
    {
     "data": {
      "text/plain": [
       "Name              6822\n",
       "Gender            6822\n",
       "Year              6822\n",
       "CountOfNames      6822\n",
       "Percent_Change    6822\n",
       "dtype: int64"
      ]
     },
     "execution_count": 8,
     "metadata": {},
     "output_type": "execute_result"
    }
   ],
   "source": [
    "# create a data frame to pull begin the male/females analysis.\n",
    "\n",
    "big_spikes_df = data_set_with_counts.loc[(data_set_with_counts[\"CountOfNames\"]>100) \n",
    "                         & (data_set_with_counts[\"Percent_Change\"]>50) \n",
    "                         & (data_set_with_counts[\"Year\"]>1889) # to weed out 1880s, which are tainted by 1880 pct changes\n",
    "                         & (data_set_with_counts[\"Year\"]<2010)] # to weed out 2010s, which are an incomplete decade\n",
    "\n",
    "# big_spikes_df = data_set_with_counts.loc[(data_set_with_counts[\"CountOfNames\"]>100) \n",
    "#                          & (data_set_with_counts[\"Percent_Change\"]>50) \n",
    "#                          & (data_set_with_counts[\"Year\"]>1889) \n",
    "#                          & (data_set_with_counts[\"Year\"]<2010) \n",
    "#                          & (data_set_with_counts[\"Percent_Change\"]!=float('inf'))]\n",
    "\n",
    "sorted_df = big_spikes_df.sort_values(['Percent_Change'],ascending = False)\n",
    "sorted_df.count()"
   ]
  },
  {
   "cell_type": "code",
   "execution_count": 9,
   "metadata": {},
   "outputs": [],
   "source": [
    "# bin the data by decades\n",
    "labels = [\"{0}s\".format(decade) for decade in range(1880, 2020, 10)]\n",
    "sorted_df['Decade'] = pd.cut(x = sorted_df['Year'], bins=np.arange(1880,2030,10), labels=labels,right = False)"
   ]
  },
  {
   "cell_type": "code",
   "execution_count": 10,
   "metadata": {},
   "outputs": [],
   "source": [
    "# make the series to plot\n",
    "raw_male = sorted_df.groupby(['Gender'])['Decade'].value_counts()['M'].sort_index()\n",
    "raw_female = sorted_df.groupby(['Gender'])['Decade'].value_counts()['F'].sort_index()"
   ]
  },
  {
   "cell_type": "code",
   "execution_count": 11,
   "metadata": {},
   "outputs": [],
   "source": [
    "# now bin the names_df to get a count of unique names by decade\n",
    "names_df['Decade'] = pd.cut(x = names_df['Year'], bins=np.arange(1880,2030,10), labels=labels,right = False)\n",
    "tot_male = names_df.groupby(['Gender'])['Decade'].value_counts()['M'].sort_index()\n",
    "tot_female = names_df.groupby(['Gender'])['Decade'].value_counts()['F'].sort_index()"
   ]
  },
  {
   "cell_type": "code",
   "execution_count": 15,
   "metadata": {},
   "outputs": [
    {
     "data": {
      "text/html": [
       "<div>\n",
       "<style scoped>\n",
       "    .dataframe tbody tr th:only-of-type {\n",
       "        vertical-align: middle;\n",
       "    }\n",
       "\n",
       "    .dataframe tbody tr th {\n",
       "        vertical-align: top;\n",
       "    }\n",
       "\n",
       "    .dataframe thead th {\n",
       "        text-align: right;\n",
       "    }\n",
       "</style>\n",
       "<table border=\"1\" class=\"dataframe\">\n",
       "  <thead>\n",
       "    <tr style=\"text-align: right;\">\n",
       "      <th></th>\n",
       "      <th>TotalUniqueM</th>\n",
       "      <th>TotalUniqueF</th>\n",
       "      <th>SpikeM</th>\n",
       "      <th>SpikeF</th>\n",
       "    </tr>\n",
       "  </thead>\n",
       "  <tbody>\n",
       "    <tr>\n",
       "      <th>1890s</th>\n",
       "      <td>12191</td>\n",
       "      <td>17331</td>\n",
       "      <td>11.0</td>\n",
       "      <td>25.0</td>\n",
       "    </tr>\n",
       "    <tr>\n",
       "      <th>1900s</th>\n",
       "      <td>14383</td>\n",
       "      <td>22292</td>\n",
       "      <td>73.0</td>\n",
       "      <td>53.0</td>\n",
       "    </tr>\n",
       "    <tr>\n",
       "      <th>1910s</th>\n",
       "      <td>36913</td>\n",
       "      <td>43600</td>\n",
       "      <td>472.0</td>\n",
       "      <td>206.0</td>\n",
       "    </tr>\n",
       "    <tr>\n",
       "      <th>1920s</th>\n",
       "      <td>48591</td>\n",
       "      <td>56771</td>\n",
       "      <td>33.0</td>\n",
       "      <td>65.0</td>\n",
       "    </tr>\n",
       "    <tr>\n",
       "      <th>1930s</th>\n",
       "      <td>41713</td>\n",
       "      <td>49777</td>\n",
       "      <td>48.0</td>\n",
       "      <td>160.0</td>\n",
       "    </tr>\n",
       "    <tr>\n",
       "      <th>1940s</th>\n",
       "      <td>40403</td>\n",
       "      <td>55239</td>\n",
       "      <td>123.0</td>\n",
       "      <td>351.0</td>\n",
       "    </tr>\n",
       "    <tr>\n",
       "      <th>1950s</th>\n",
       "      <td>43857</td>\n",
       "      <td>66667</td>\n",
       "      <td>141.0</td>\n",
       "      <td>365.0</td>\n",
       "    </tr>\n",
       "    <tr>\n",
       "      <th>1960s</th>\n",
       "      <td>46366</td>\n",
       "      <td>77810</td>\n",
       "      <td>137.0</td>\n",
       "      <td>336.0</td>\n",
       "    </tr>\n",
       "    <tr>\n",
       "      <th>1970s</th>\n",
       "      <td>62226</td>\n",
       "      <td>104971</td>\n",
       "      <td>204.0</td>\n",
       "      <td>550.0</td>\n",
       "    </tr>\n",
       "    <tr>\n",
       "      <th>1980s</th>\n",
       "      <td>77896</td>\n",
       "      <td>127928</td>\n",
       "      <td>230.0</td>\n",
       "      <td>711.0</td>\n",
       "    </tr>\n",
       "    <tr>\n",
       "      <th>1990s</th>\n",
       "      <td>103943</td>\n",
       "      <td>159199</td>\n",
       "      <td>418.0</td>\n",
       "      <td>787.0</td>\n",
       "    </tr>\n",
       "    <tr>\n",
       "      <th>2000s</th>\n",
       "      <td>133809</td>\n",
       "      <td>191420</td>\n",
       "      <td>475.0</td>\n",
       "      <td>848.0</td>\n",
       "    </tr>\n",
       "  </tbody>\n",
       "</table>\n",
       "</div>"
      ],
      "text/plain": [
       "       TotalUniqueM  TotalUniqueF  SpikeM  SpikeF\n",
       "1890s         12191         17331    11.0    25.0\n",
       "1900s         14383         22292    73.0    53.0\n",
       "1910s         36913         43600   472.0   206.0\n",
       "1920s         48591         56771    33.0    65.0\n",
       "1930s         41713         49777    48.0   160.0\n",
       "1940s         40403         55239   123.0   351.0\n",
       "1950s         43857         66667   141.0   365.0\n",
       "1960s         46366         77810   137.0   336.0\n",
       "1970s         62226        104971   204.0   550.0\n",
       "1980s         77896        127928   230.0   711.0\n",
       "1990s        103943        159199   418.0   787.0\n",
       "2000s        133809        191420   475.0   848.0"
      ]
     },
     "execution_count": 15,
     "metadata": {},
     "output_type": "execute_result"
    }
   ],
   "source": [
    "# control for the increased spikes due to more babies and names, generally\n",
    "normal_df = pd.DataFrame({'TotalUniqueM':tot_male,\n",
    "                          'TotalUniqueF':tot_female,\n",
    "                         'SpikeM':raw_male,\n",
    "                         'SpikeF':raw_female})\n",
    "normal_df.drop(normal_df.index[0],inplace=True)\n",
    "normal_df.drop(normal_df.index[-1],inplace=True)\n",
    "normal_df"
   ]
  },
  {
   "cell_type": "code",
   "execution_count": 16,
   "metadata": {},
   "outputs": [],
   "source": [
    "male = 100*normal_df['SpikeM']/normal_df['TotalUniqueM']\n",
    "female = 100*normal_df['SpikeF']/normal_df['TotalUniqueF']"
   ]
  },
  {
   "cell_type": "code",
   "execution_count": 17,
   "metadata": {},
   "outputs": [
    {
     "data": {
      "image/png": "[encoded data removed]",
      "text/plain": [
       "<Figure size 1080x360 with 1 Axes>"
      ]
     },
     "metadata": {
      "needs_background": "light"
     },
     "output_type": "display_data"
    }
   ],
   "source": [
    "# set width of bar\n",
    "plt.figure(figsize=[15,5])\n",
    "\n",
    "barWidth = .4\n",
    "\n",
    "# Set position of bar on X axis\n",
    "r1 = np.arange(len(male))\n",
    "r2 = [x + barWidth for x in r1]\n",
    "\n",
    "# Make the plot\n",
    "plt.bar(r1, male, color='lightblue', width=barWidth, edgecolor='white', label='male')\n",
    "plt.bar(r2, female, color='pink', width=barWidth, edgecolor='white', label='female')\n",
    "\n",
    "# Add xticks on the middle of the group bars\n",
    "plt.xlabel('decade', fontweight='bold')\n",
    "plt.ylabel('count of \"spikes\" as % of unique names', fontweight='bold')\n",
    "plt.minorticks_on()\n",
    "plt.xticks((r1+r2)/2,np.arange(1890,2010,10))\n",
    "\n",
    "# Create legend & Show graphic\n",
    "plt.legend()\n",
    "plt.grid(which = 'minor', linestyle = ':',linewidth = '0.5') # do something with this...\n",
    "plt.grid(which = 'major', linestyle = '-')\n",
    "plt.show()"
   ]
  },
  {
   "cell_type": "code",
   "execution_count": null,
   "metadata": {},
   "outputs": [],
   "source": []
  }
 ],
 "metadata": {
  "kernelspec": {
   "display_name": "Python [conda env:PythonData] *",
   "language": "python",
   "name": "conda-env-PythonData-py"
  },
  "language_info": {
   "codemirror_mode": {
    "name": "ipython",
    "version": 3
   },
   "file_extension": ".py",
   "mimetype": "text/x-python",
   "name": "python",
   "nbconvert_exporter": "python",
   "pygments_lexer": "ipython3",
   "version": "3.6.8"
  }
 },
 "nbformat": 4,
 "nbformat_minor": 2
}
